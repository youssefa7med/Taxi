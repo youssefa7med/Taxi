{
  "cells": [
    {
      "cell_type": "markdown",
      "metadata": {
        "id": "sTXbVOGhlWuV"
      },
      "source": [
        "# Access Data from [Data](https://www.nyc.gov/site/tlc/about/tlc-trip-record-data.page)"
      ]
    },
    {
      "cell_type": "markdown",
      "metadata": {
        "id": "PA6Gh7thlWuW"
      },
      "source": [
        "### Newyork Yellow Taxi Data Analysis (01/2024)"
      ]
    },
    {
      "cell_type": "markdown",
      "metadata": {
        "id": "l4kTsurilWuX"
      },
      "source": [
        "!['Photo'](taxi.jpg)"
      ]
    },
    {
      "cell_type": "markdown",
      "metadata": {
        "id": "_OYwBJp6lWuX"
      },
      "source": [
        "| **#** | **Column**               | **Dtype**         | **Description**                                      |\n",
        "|-------|--------------------------|-------------------|------------------------------------------------------|\n",
        "| 0     | `VendorID`               | `int32`           | Taxi service provider ID.                            |\n",
        "| 1     | `tpep_pickup_datetime`   | `datetime64[ns]`  | Pickup date and time.                                |\n",
        "| 2     | `tpep_dropoff_datetime`  | `datetime64[ns]`  | Dropoff date and time.                               |\n",
        "| 3     | `passenger_count`        | `float64`         | Number of passengers.                                |\n",
        "| 4     | `trip_distance`          | `float64`         | Distance of the trip.                                |\n",
        "| 5     | `RatecodeID`             | `float64`         | Rate code ID.                                        |\n",
        "| 6     | `store_and_fwd_flag`     | `object`          | Flag for storing trip data before sending.           |\n",
        "| 7     | `PULocationID`           | `int32`           | Pickup location ID.                                  |\n",
        "| 8     | `DOLocationID`           | `int32`           | Dropoff location ID.                                 |\n",
        "| 9     | `payment_type`           | `int64`           | Payment method ID.                                   |\n",
        "| 10    | `fare_amount`            | `float64`         | Fare amount.                                         |\n",
        "| 11    | `extra`                  | `float64`         | Additional charges.                                  |\n",
        "| 12    | `mta_tax`                | `float64`         | MTA tax amount.                                      |\n",
        "| 13    | `tip_amount`             | `float64`         | Tip amount.                                          |\n",
        "| 14    | `tolls_amount`           | `float64`         | Tolls amount.                                        |\n",
        "| 15    | `improvement_surcharge`  | `float64`         | Improvement surcharge.                               |\n",
        "| 16    | `total_amount`           | `float64`         | Total amount charged.                                |\n",
        "| 17    | `congestion_surcharge`   | `float64`         | Congestion surcharge.                                |\n",
        "| 18    | `Airport_fee`            | `float64`         | Airport fee.                                         |\n"
      ]
    },
    {
      "cell_type": "markdown",
      "metadata": {
        "id": "urcALtuLlWuY"
      },
      "source": [
        "### Import the necessary libraries"
      ]
    },
    {
      "cell_type": "code",
      "execution_count": 2,
      "metadata": {
        "id": "qnXzn4SRlWuY"
      },
      "outputs": [],
      "source": [
        "import pandas as pd\n",
        "import numpy as np\n",
        "import seaborn as sns\n",
        "import matplotlib.pyplot as plt\n",
        "import plotly.express as px\n",
        "%matplotlib inline\n",
        "\n",
        "# Load the data\n",
        "df = pd.read_parquet('data.parquet')"
      ]
    },
    {
      "cell_type": "markdown",
      "metadata": {
        "id": "ihEIQuxBlWuZ"
      },
      "source": [
        "### Sample data"
      ]
    },
    {
      "cell_type": "code",
      "execution_count": 2,
      "metadata": {
        "colab": {
          "base_uri": "https://localhost:8080/",
          "height": 226
        },
        "id": "Wlj3V-FAlWuZ",
        "outputId": "07bf9577-ddc7-4b08-89d7-bcd303f4749f"
      },
      "outputs": [
        {
          "data": {
            "text/html": [
              "<div>\n",
              "<style scoped>\n",
              "    .dataframe tbody tr th:only-of-type {\n",
              "        vertical-align: middle;\n",
              "    }\n",
              "\n",
              "    .dataframe tbody tr th {\n",
              "        vertical-align: top;\n",
              "    }\n",
              "\n",
              "    .dataframe thead th {\n",
              "        text-align: right;\n",
              "    }\n",
              "</style>\n",
              "<table border=\"1\" class=\"dataframe\">\n",
              "  <thead>\n",
              "    <tr style=\"text-align: right;\">\n",
              "      <th></th>\n",
              "      <th>VendorID</th>\n",
              "      <th>tpep_pickup_datetime</th>\n",
              "      <th>tpep_dropoff_datetime</th>\n",
              "      <th>passenger_count</th>\n",
              "      <th>trip_distance</th>\n",
              "      <th>RatecodeID</th>\n",
              "      <th>store_and_fwd_flag</th>\n",
              "      <th>PULocationID</th>\n",
              "      <th>DOLocationID</th>\n",
              "      <th>payment_type</th>\n",
              "      <th>fare_amount</th>\n",
              "      <th>extra</th>\n",
              "      <th>mta_tax</th>\n",
              "      <th>tip_amount</th>\n",
              "      <th>tolls_amount</th>\n",
              "      <th>improvement_surcharge</th>\n",
              "      <th>total_amount</th>\n",
              "      <th>congestion_surcharge</th>\n",
              "      <th>Airport_fee</th>\n",
              "    </tr>\n",
              "  </thead>\n",
              "  <tbody>\n",
              "    <tr>\n",
              "      <th>0</th>\n",
              "      <td>2</td>\n",
              "      <td>2024-01-01 00:57:55</td>\n",
              "      <td>2024-01-01 01:17:43</td>\n",
              "      <td>1.0</td>\n",
              "      <td>1.72</td>\n",
              "      <td>1.0</td>\n",
              "      <td>N</td>\n",
              "      <td>186</td>\n",
              "      <td>79</td>\n",
              "      <td>2</td>\n",
              "      <td>17.7</td>\n",
              "      <td>1.0</td>\n",
              "      <td>0.5</td>\n",
              "      <td>0.00</td>\n",
              "      <td>0.0</td>\n",
              "      <td>1.0</td>\n",
              "      <td>22.70</td>\n",
              "      <td>2.5</td>\n",
              "      <td>0.0</td>\n",
              "    </tr>\n",
              "    <tr>\n",
              "      <th>1</th>\n",
              "      <td>1</td>\n",
              "      <td>2024-01-01 00:03:00</td>\n",
              "      <td>2024-01-01 00:09:36</td>\n",
              "      <td>1.0</td>\n",
              "      <td>1.80</td>\n",
              "      <td>1.0</td>\n",
              "      <td>N</td>\n",
              "      <td>140</td>\n",
              "      <td>236</td>\n",
              "      <td>1</td>\n",
              "      <td>10.0</td>\n",
              "      <td>3.5</td>\n",
              "      <td>0.5</td>\n",
              "      <td>3.75</td>\n",
              "      <td>0.0</td>\n",
              "      <td>1.0</td>\n",
              "      <td>18.75</td>\n",
              "      <td>2.5</td>\n",
              "      <td>0.0</td>\n",
              "    </tr>\n",
              "    <tr>\n",
              "      <th>2</th>\n",
              "      <td>1</td>\n",
              "      <td>2024-01-01 00:17:06</td>\n",
              "      <td>2024-01-01 00:35:01</td>\n",
              "      <td>1.0</td>\n",
              "      <td>4.70</td>\n",
              "      <td>1.0</td>\n",
              "      <td>N</td>\n",
              "      <td>236</td>\n",
              "      <td>79</td>\n",
              "      <td>1</td>\n",
              "      <td>23.3</td>\n",
              "      <td>3.5</td>\n",
              "      <td>0.5</td>\n",
              "      <td>3.00</td>\n",
              "      <td>0.0</td>\n",
              "      <td>1.0</td>\n",
              "      <td>31.30</td>\n",
              "      <td>2.5</td>\n",
              "      <td>0.0</td>\n",
              "    </tr>\n",
              "    <tr>\n",
              "      <th>3</th>\n",
              "      <td>1</td>\n",
              "      <td>2024-01-01 00:36:38</td>\n",
              "      <td>2024-01-01 00:44:56</td>\n",
              "      <td>1.0</td>\n",
              "      <td>1.40</td>\n",
              "      <td>1.0</td>\n",
              "      <td>N</td>\n",
              "      <td>79</td>\n",
              "      <td>211</td>\n",
              "      <td>1</td>\n",
              "      <td>10.0</td>\n",
              "      <td>3.5</td>\n",
              "      <td>0.5</td>\n",
              "      <td>2.00</td>\n",
              "      <td>0.0</td>\n",
              "      <td>1.0</td>\n",
              "      <td>17.00</td>\n",
              "      <td>2.5</td>\n",
              "      <td>0.0</td>\n",
              "    </tr>\n",
              "    <tr>\n",
              "      <th>4</th>\n",
              "      <td>1</td>\n",
              "      <td>2024-01-01 00:46:51</td>\n",
              "      <td>2024-01-01 00:52:57</td>\n",
              "      <td>1.0</td>\n",
              "      <td>0.80</td>\n",
              "      <td>1.0</td>\n",
              "      <td>N</td>\n",
              "      <td>211</td>\n",
              "      <td>148</td>\n",
              "      <td>1</td>\n",
              "      <td>7.9</td>\n",
              "      <td>3.5</td>\n",
              "      <td>0.5</td>\n",
              "      <td>3.20</td>\n",
              "      <td>0.0</td>\n",
              "      <td>1.0</td>\n",
              "      <td>16.10</td>\n",
              "      <td>2.5</td>\n",
              "      <td>0.0</td>\n",
              "    </tr>\n",
              "  </tbody>\n",
              "</table>\n",
              "</div>"
            ],
            "text/plain": [
              "   VendorID tpep_pickup_datetime tpep_dropoff_datetime  passenger_count  \\\n",
              "0         2  2024-01-01 00:57:55   2024-01-01 01:17:43              1.0   \n",
              "1         1  2024-01-01 00:03:00   2024-01-01 00:09:36              1.0   \n",
              "2         1  2024-01-01 00:17:06   2024-01-01 00:35:01              1.0   \n",
              "3         1  2024-01-01 00:36:38   2024-01-01 00:44:56              1.0   \n",
              "4         1  2024-01-01 00:46:51   2024-01-01 00:52:57              1.0   \n",
              "\n",
              "   trip_distance  RatecodeID store_and_fwd_flag  PULocationID  DOLocationID  \\\n",
              "0           1.72         1.0                  N           186            79   \n",
              "1           1.80         1.0                  N           140           236   \n",
              "2           4.70         1.0                  N           236            79   \n",
              "3           1.40         1.0                  N            79           211   \n",
              "4           0.80         1.0                  N           211           148   \n",
              "\n",
              "   payment_type  fare_amount  extra  mta_tax  tip_amount  tolls_amount  \\\n",
              "0             2         17.7    1.0      0.5        0.00           0.0   \n",
              "1             1         10.0    3.5      0.5        3.75           0.0   \n",
              "2             1         23.3    3.5      0.5        3.00           0.0   \n",
              "3             1         10.0    3.5      0.5        2.00           0.0   \n",
              "4             1          7.9    3.5      0.5        3.20           0.0   \n",
              "\n",
              "   improvement_surcharge  total_amount  congestion_surcharge  Airport_fee  \n",
              "0                    1.0         22.70                   2.5          0.0  \n",
              "1                    1.0         18.75                   2.5          0.0  \n",
              "2                    1.0         31.30                   2.5          0.0  \n",
              "3                    1.0         17.00                   2.5          0.0  \n",
              "4                    1.0         16.10                   2.5          0.0  "
            ]
          },
          "execution_count": 2,
          "metadata": {},
          "output_type": "execute_result"
        }
      ],
      "source": [
        "df.head()"
      ]
    },
    {
      "cell_type": "code",
      "execution_count": 3,
      "metadata": {
        "colab": {
          "base_uri": "https://localhost:8080/"
        },
        "id": "LsHeJdjFlWua",
        "outputId": "438b0060-f4a0-4e07-e1d0-849303f932df"
      },
      "outputs": [
        {
          "name": "stdout",
          "output_type": "stream",
          "text": [
            "<class 'pandas.core.frame.DataFrame'>\n",
            "RangeIndex: 2964624 entries, 0 to 2964623\n",
            "Data columns (total 19 columns):\n",
            " #   Column                 Dtype         \n",
            "---  ------                 -----         \n",
            " 0   VendorID               int32         \n",
            " 1   tpep_pickup_datetime   datetime64[ns]\n",
            " 2   tpep_dropoff_datetime  datetime64[ns]\n",
            " 3   passenger_count        float64       \n",
            " 4   trip_distance          float64       \n",
            " 5   RatecodeID             float64       \n",
            " 6   store_and_fwd_flag     object        \n",
            " 7   PULocationID           int32         \n",
            " 8   DOLocationID           int32         \n",
            " 9   payment_type           int64         \n",
            " 10  fare_amount            float64       \n",
            " 11  extra                  float64       \n",
            " 12  mta_tax                float64       \n",
            " 13  tip_amount             float64       \n",
            " 14  tolls_amount           float64       \n",
            " 15  improvement_surcharge  float64       \n",
            " 16  total_amount           float64       \n",
            " 17  congestion_surcharge   float64       \n",
            " 18  Airport_fee            float64       \n",
            "dtypes: datetime64[ns](2), float64(12), int32(3), int64(1), object(1)\n",
            "memory usage: 395.8+ MB\n"
          ]
        }
      ],
      "source": [
        "df.info()"
      ]
    },
    {
      "cell_type": "markdown",
      "metadata": {
        "id": "tuYJf6FMlWub"
      },
      "source": [
        "### Data Cleaning"
      ]
    },
    {
      "cell_type": "code",
      "execution_count": 4,
      "metadata": {
        "id": "OE4Cm4sZlWub"
      },
      "outputs": [],
      "source": [
        "df.columns = df.columns.str.lower()"
      ]
    },
    {
      "cell_type": "code",
      "execution_count": 5,
      "metadata": {
        "colab": {
          "base_uri": "https://localhost:8080/"
        },
        "id": "GhRQVkcklWub",
        "outputId": "3fb8bd39-d3ce-4659-cb8a-47d9d1772c34"
      },
      "outputs": [
        {
          "data": {
            "text/plain": [
              "(2964624, 19)"
            ]
          },
          "execution_count": 5,
          "metadata": {},
          "output_type": "execute_result"
        }
      ],
      "source": [
        "df.shape"
      ]
    },
    {
      "cell_type": "code",
      "execution_count": 6,
      "metadata": {
        "colab": {
          "base_uri": "https://localhost:8080/",
          "height": 680
        },
        "id": "I5NduqC1lWuc",
        "outputId": "6011a4f1-4f94-4908-e7d8-f5d819aa7b00"
      },
      "outputs": [
        {
          "data": {
            "text/plain": [
              "vendorid                 0.00\n",
              "tpep_pickup_datetime     0.00\n",
              "tpep_dropoff_datetime    0.00\n",
              "passenger_count          4.73\n",
              "trip_distance            0.00\n",
              "ratecodeid               4.73\n",
              "store_and_fwd_flag       4.73\n",
              "pulocationid             0.00\n",
              "dolocationid             0.00\n",
              "payment_type             0.00\n",
              "fare_amount              0.00\n",
              "extra                    0.00\n",
              "mta_tax                  0.00\n",
              "tip_amount               0.00\n",
              "tolls_amount             0.00\n",
              "improvement_surcharge    0.00\n",
              "total_amount             0.00\n",
              "congestion_surcharge     4.73\n",
              "airport_fee              4.73\n",
              "dtype: float64"
            ]
          },
          "execution_count": 6,
          "metadata": {},
          "output_type": "execute_result"
        }
      ],
      "source": [
        "df.isna().mean().round(4) * 100"
      ]
    },
    {
      "cell_type": "code",
      "execution_count": 7,
      "metadata": {
        "id": "gDubAL6nmlIL"
      },
      "outputs": [],
      "source": [
        "df.dropna(inplace = True)"
      ]
    },
    {
      "cell_type": "code",
      "execution_count": 8,
      "metadata": {
        "colab": {
          "base_uri": "https://localhost:8080/",
          "height": 680
        },
        "id": "CIk0dr62nFFD",
        "outputId": "9d45d1a4-44c0-454d-fdbc-4cedde0a5a31"
      },
      "outputs": [
        {
          "data": {
            "text/plain": [
              "vendorid                 0.0\n",
              "tpep_pickup_datetime     0.0\n",
              "tpep_dropoff_datetime    0.0\n",
              "passenger_count          0.0\n",
              "trip_distance            0.0\n",
              "ratecodeid               0.0\n",
              "store_and_fwd_flag       0.0\n",
              "pulocationid             0.0\n",
              "dolocationid             0.0\n",
              "payment_type             0.0\n",
              "fare_amount              0.0\n",
              "extra                    0.0\n",
              "mta_tax                  0.0\n",
              "tip_amount               0.0\n",
              "tolls_amount             0.0\n",
              "improvement_surcharge    0.0\n",
              "total_amount             0.0\n",
              "congestion_surcharge     0.0\n",
              "airport_fee              0.0\n",
              "dtype: float64"
            ]
          },
          "execution_count": 8,
          "metadata": {},
          "output_type": "execute_result"
        }
      ],
      "source": [
        "df.isna().mean().round(4) * 100"
      ]
    },
    {
      "cell_type": "code",
      "execution_count": 9,
      "metadata": {
        "colab": {
          "base_uri": "https://localhost:8080/",
          "height": 355
        },
        "id": "pkGn9LGmnKJx",
        "outputId": "22aa3846-890a-4d76-cb37-323210a7706f"
      },
      "outputs": [
        {
          "data": {
            "text/html": [
              "<div>\n",
              "<style scoped>\n",
              "    .dataframe tbody tr th:only-of-type {\n",
              "        vertical-align: middle;\n",
              "    }\n",
              "\n",
              "    .dataframe tbody tr th {\n",
              "        vertical-align: top;\n",
              "    }\n",
              "\n",
              "    .dataframe thead th {\n",
              "        text-align: right;\n",
              "    }\n",
              "</style>\n",
              "<table border=\"1\" class=\"dataframe\">\n",
              "  <thead>\n",
              "    <tr style=\"text-align: right;\">\n",
              "      <th></th>\n",
              "      <th>vendorid</th>\n",
              "      <th>passenger_count</th>\n",
              "      <th>trip_distance</th>\n",
              "      <th>ratecodeid</th>\n",
              "      <th>pulocationid</th>\n",
              "      <th>dolocationid</th>\n",
              "      <th>payment_type</th>\n",
              "      <th>fare_amount</th>\n",
              "      <th>extra</th>\n",
              "      <th>mta_tax</th>\n",
              "      <th>tip_amount</th>\n",
              "      <th>tolls_amount</th>\n",
              "      <th>improvement_surcharge</th>\n",
              "      <th>total_amount</th>\n",
              "      <th>congestion_surcharge</th>\n",
              "      <th>airport_fee</th>\n",
              "    </tr>\n",
              "  </thead>\n",
              "  <tbody>\n",
              "    <tr>\n",
              "      <th>count</th>\n",
              "      <td>2824462.000</td>\n",
              "      <td>2824462.000</td>\n",
              "      <td>2824462.000</td>\n",
              "      <td>2824462.000</td>\n",
              "      <td>2824462.000</td>\n",
              "      <td>2824462.000</td>\n",
              "      <td>2824462.000</td>\n",
              "      <td>2824462.000</td>\n",
              "      <td>2824462.000</td>\n",
              "      <td>2824462.000</td>\n",
              "      <td>2824462.000</td>\n",
              "      <td>2824462.000</td>\n",
              "      <td>2824462.000</td>\n",
              "      <td>2824462.000</td>\n",
              "      <td>2824462.000</td>\n",
              "      <td>2824462.000</td>\n",
              "    </tr>\n",
              "    <tr>\n",
              "      <th>mean</th>\n",
              "      <td>1.759</td>\n",
              "      <td>1.339</td>\n",
              "      <td>3.254</td>\n",
              "      <td>2.069</td>\n",
              "      <td>166.222</td>\n",
              "      <td>165.488</td>\n",
              "      <td>1.219</td>\n",
              "      <td>18.084</td>\n",
              "      <td>1.517</td>\n",
              "      <td>0.483</td>\n",
              "      <td>3.425</td>\n",
              "      <td>0.535</td>\n",
              "      <td>0.975</td>\n",
              "      <td>26.851</td>\n",
              "      <td>2.256</td>\n",
              "      <td>0.141</td>\n",
              "    </tr>\n",
              "    <tr>\n",
              "      <th>std</th>\n",
              "      <td>0.428</td>\n",
              "      <td>0.850</td>\n",
              "      <td>12.132</td>\n",
              "      <td>9.823</td>\n",
              "      <td>63.196</td>\n",
              "      <td>69.199</td>\n",
              "      <td>0.533</td>\n",
              "      <td>19.193</td>\n",
              "      <td>1.818</td>\n",
              "      <td>0.120</td>\n",
              "      <td>3.919</td>\n",
              "      <td>2.144</td>\n",
              "      <td>0.223</td>\n",
              "      <td>23.706</td>\n",
              "      <td>0.823</td>\n",
              "      <td>0.488</td>\n",
              "    </tr>\n",
              "    <tr>\n",
              "      <th>min</th>\n",
              "      <td>1.000</td>\n",
              "      <td>0.000</td>\n",
              "      <td>0.000</td>\n",
              "      <td>1.000</td>\n",
              "      <td>1.000</td>\n",
              "      <td>1.000</td>\n",
              "      <td>1.000</td>\n",
              "      <td>-899.000</td>\n",
              "      <td>-7.500</td>\n",
              "      <td>-0.500</td>\n",
              "      <td>-80.000</td>\n",
              "      <td>-80.000</td>\n",
              "      <td>-1.000</td>\n",
              "      <td>-900.000</td>\n",
              "      <td>-2.500</td>\n",
              "      <td>-1.750</td>\n",
              "    </tr>\n",
              "    <tr>\n",
              "      <th>25%</th>\n",
              "      <td>2.000</td>\n",
              "      <td>1.000</td>\n",
              "      <td>1.000</td>\n",
              "      <td>1.000</td>\n",
              "      <td>132.000</td>\n",
              "      <td>114.000</td>\n",
              "      <td>1.000</td>\n",
              "      <td>8.600</td>\n",
              "      <td>0.000</td>\n",
              "      <td>0.500</td>\n",
              "      <td>1.000</td>\n",
              "      <td>0.000</td>\n",
              "      <td>1.000</td>\n",
              "      <td>15.300</td>\n",
              "      <td>2.500</td>\n",
              "      <td>0.000</td>\n",
              "    </tr>\n",
              "    <tr>\n",
              "      <th>50%</th>\n",
              "      <td>2.000</td>\n",
              "      <td>1.000</td>\n",
              "      <td>1.670</td>\n",
              "      <td>1.000</td>\n",
              "      <td>162.000</td>\n",
              "      <td>162.000</td>\n",
              "      <td>1.000</td>\n",
              "      <td>12.800</td>\n",
              "      <td>1.000</td>\n",
              "      <td>0.500</td>\n",
              "      <td>2.800</td>\n",
              "      <td>0.000</td>\n",
              "      <td>1.000</td>\n",
              "      <td>20.000</td>\n",
              "      <td>2.500</td>\n",
              "      <td>0.000</td>\n",
              "    </tr>\n",
              "    <tr>\n",
              "      <th>75%</th>\n",
              "      <td>2.000</td>\n",
              "      <td>1.000</td>\n",
              "      <td>3.100</td>\n",
              "      <td>1.000</td>\n",
              "      <td>234.000</td>\n",
              "      <td>234.000</td>\n",
              "      <td>1.000</td>\n",
              "      <td>19.800</td>\n",
              "      <td>2.500</td>\n",
              "      <td>0.500</td>\n",
              "      <td>4.200</td>\n",
              "      <td>0.000</td>\n",
              "      <td>1.000</td>\n",
              "      <td>28.520</td>\n",
              "      <td>2.500</td>\n",
              "      <td>0.000</td>\n",
              "    </tr>\n",
              "    <tr>\n",
              "      <th>max</th>\n",
              "      <td>2.000</td>\n",
              "      <td>9.000</td>\n",
              "      <td>15400.320</td>\n",
              "      <td>99.000</td>\n",
              "      <td>265.000</td>\n",
              "      <td>265.000</td>\n",
              "      <td>4.000</td>\n",
              "      <td>5000.000</td>\n",
              "      <td>14.250</td>\n",
              "      <td>4.000</td>\n",
              "      <td>428.000</td>\n",
              "      <td>115.920</td>\n",
              "      <td>1.000</td>\n",
              "      <td>5000.000</td>\n",
              "      <td>2.500</td>\n",
              "      <td>1.750</td>\n",
              "    </tr>\n",
              "  </tbody>\n",
              "</table>\n",
              "</div>"
            ],
            "text/plain": [
              "          vendorid  passenger_count  trip_distance   ratecodeid  pulocationid  \\\n",
              "count  2824462.000      2824462.000    2824462.000  2824462.000   2824462.000   \n",
              "mean         1.759            1.339          3.254        2.069       166.222   \n",
              "std          0.428            0.850         12.132        9.823        63.196   \n",
              "min          1.000            0.000          0.000        1.000         1.000   \n",
              "25%          2.000            1.000          1.000        1.000       132.000   \n",
              "50%          2.000            1.000          1.670        1.000       162.000   \n",
              "75%          2.000            1.000          3.100        1.000       234.000   \n",
              "max          2.000            9.000      15400.320       99.000       265.000   \n",
              "\n",
              "       dolocationid  payment_type  fare_amount        extra      mta_tax  \\\n",
              "count   2824462.000   2824462.000  2824462.000  2824462.000  2824462.000   \n",
              "mean        165.488         1.219       18.084        1.517        0.483   \n",
              "std          69.199         0.533       19.193        1.818        0.120   \n",
              "min           1.000         1.000     -899.000       -7.500       -0.500   \n",
              "25%         114.000         1.000        8.600        0.000        0.500   \n",
              "50%         162.000         1.000       12.800        1.000        0.500   \n",
              "75%         234.000         1.000       19.800        2.500        0.500   \n",
              "max         265.000         4.000     5000.000       14.250        4.000   \n",
              "\n",
              "        tip_amount  tolls_amount  improvement_surcharge  total_amount  \\\n",
              "count  2824462.000   2824462.000            2824462.000   2824462.000   \n",
              "mean         3.425         0.535                  0.975        26.851   \n",
              "std          3.919         2.144                  0.223        23.706   \n",
              "min        -80.000       -80.000                 -1.000      -900.000   \n",
              "25%          1.000         0.000                  1.000        15.300   \n",
              "50%          2.800         0.000                  1.000        20.000   \n",
              "75%          4.200         0.000                  1.000        28.520   \n",
              "max        428.000       115.920                  1.000      5000.000   \n",
              "\n",
              "       congestion_surcharge  airport_fee  \n",
              "count           2824462.000  2824462.000  \n",
              "mean                  2.256        0.141  \n",
              "std                   0.823        0.488  \n",
              "min                  -2.500       -1.750  \n",
              "25%                   2.500        0.000  \n",
              "50%                   2.500        0.000  \n",
              "75%                   2.500        0.000  \n",
              "max                   2.500        1.750  "
            ]
          },
          "execution_count": 9,
          "metadata": {},
          "output_type": "execute_result"
        }
      ],
      "source": [
        "df.describe().round(3)"
      ]
    },
    {
      "cell_type": "code",
      "execution_count": 10,
      "metadata": {
        "colab": {
          "base_uri": "https://localhost:8080/"
        },
        "id": "1d6-fp-9nUH6",
        "outputId": "228f1327-3ddb-46f3-da97-a888c161e89e"
      },
      "outputs": [
        {
          "data": {
            "text/plain": [
              "array([2, 1])"
            ]
          },
          "execution_count": 10,
          "metadata": {},
          "output_type": "execute_result"
        }
      ],
      "source": [
        "df['vendorid'].unique()"
      ]
    },
    {
      "cell_type": "markdown",
      "metadata": {
        "id": "H9Ijegy2rqRf"
      },
      "source": [
        "#### Passenger Count"
      ]
    },
    {
      "cell_type": "code",
      "execution_count": 11,
      "metadata": {
        "colab": {
          "base_uri": "https://localhost:8080/"
        },
        "id": "MSMPqiY5n7JC",
        "outputId": "6230a7a2-35e6-4012-96db-e9812da4ebb1"
      },
      "outputs": [
        {
          "data": {
            "text/plain": [
              "array([1., 2., 0., 4., 3., 5., 6., 8., 7., 9.])"
            ]
          },
          "execution_count": 11,
          "metadata": {},
          "output_type": "execute_result"
        }
      ],
      "source": [
        "df['passenger_count'].unique()"
      ]
    },
    {
      "cell_type": "code",
      "execution_count": 12,
      "metadata": {
        "id": "YWtkvNYeoad0"
      },
      "outputs": [],
      "source": [
        "drop_passenger = df[df['passenger_count']==0].index"
      ]
    },
    {
      "cell_type": "code",
      "execution_count": 13,
      "metadata": {
        "colab": {
          "base_uri": "https://localhost:8080/"
        },
        "id": "bv1GH7g7o9mN",
        "outputId": "127a76aa-5064-490d-b77e-68cd03933bcf"
      },
      "outputs": [
        {
          "name": "stdout",
          "output_type": "stream",
          "text": [
            "The Percentage of 0 Passenger count =  1.114017465981132 %\n"
          ]
        }
      ],
      "source": [
        "print('The Percentage of 0 Passenger count = ',((drop_passenger.shape[0] /df.shape[0])*100),'%')"
      ]
    },
    {
      "cell_type": "code",
      "execution_count": 14,
      "metadata": {
        "id": "7P_ukqXHoflT"
      },
      "outputs": [],
      "source": [
        "df.drop(drop_passenger, inplace = True)"
      ]
    },
    {
      "cell_type": "markdown",
      "metadata": {
        "id": "dvJkC4JsrxuL"
      },
      "source": [
        "#### Trip Distance"
      ]
    },
    {
      "cell_type": "code",
      "execution_count": 15,
      "metadata": {
        "id": "kcT3QoPKo7NH"
      },
      "outputs": [],
      "source": [
        "drop_trip_dis = df[df['trip_distance']==0].index"
      ]
    },
    {
      "cell_type": "code",
      "execution_count": 16,
      "metadata": {
        "colab": {
          "base_uri": "https://localhost:8080/"
        },
        "id": "YExhwkhQqB3E",
        "outputId": "d1c996b7-70e9-4c0d-d6a3-fc66c918e872"
      },
      "outputs": [
        {
          "name": "stdout",
          "output_type": "stream",
          "text": [
            "The Percentage of 0 Trip Distance =  1.3162563368310098 %\n"
          ]
        }
      ],
      "source": [
        "print('The Percentage of 0 Trip Distance = ',((drop_trip_dis.shape[0] /df.shape[0])*100),'%')"
      ]
    },
    {
      "cell_type": "code",
      "execution_count": 17,
      "metadata": {
        "id": "jEivrHx2qeEO"
      },
      "outputs": [],
      "source": [
        "df.drop(drop_trip_dis, inplace = True)"
      ]
    },
    {
      "cell_type": "markdown",
      "metadata": {
        "id": "yX4TeFwDr55K"
      },
      "source": [
        "#### False Data"
      ]
    },
    {
      "cell_type": "code",
      "execution_count": 18,
      "metadata": {
        "id": "6htv37I7qksV"
      },
      "outputs": [],
      "source": [
        "drop_False_data = df[\n",
        "    (df['fare_amount'] <= 0) |\n",
        "    (df['extra'] < 0) |\n",
        "    (df['mta_tax'] < 0) |\n",
        "    (df['tip_amount'] < 0) |\n",
        "    (df['tolls_amount'] < 0) |\n",
        "    (df['improvement_surcharge'] < 0) |\n",
        "    (df['total_amount'] < 0) |\n",
        "    (df['congestion_surcharge'] < 0) |\n",
        "    (df['airport_fee'] < 0)\n",
        "].index\n"
      ]
    },
    {
      "cell_type": "code",
      "execution_count": 19,
      "metadata": {
        "colab": {
          "base_uri": "https://localhost:8080/"
        },
        "id": "rzk0L_89rR0I",
        "outputId": "73b7dcd0-0642-4264-e85b-9e830edc3f4f"
      },
      "outputs": [
        {
          "name": "stdout",
          "output_type": "stream",
          "text": [
            "The Percentage of False Data =  1.176750595196199 %\n"
          ]
        }
      ],
      "source": [
        "print('The Percentage of False Data = ',((drop_False_data.shape[0] /df.shape[0])*100),'%')"
      ]
    },
    {
      "cell_type": "code",
      "execution_count": 20,
      "metadata": {
        "id": "bkuYyqWSsSOw"
      },
      "outputs": [],
      "source": [
        "df.drop(drop_False_data, inplace = True)"
      ]
    },
    {
      "cell_type": "code",
      "execution_count": 21,
      "metadata": {
        "colab": {
          "base_uri": "https://localhost:8080/",
          "height": 372
        },
        "id": "7lhE_w077M1E",
        "outputId": "54ed70af-b9e4-47de-b28f-b0bfb580a04d"
      },
      "outputs": [
        {
          "data": {
            "text/html": [
              "<div>\n",
              "<style scoped>\n",
              "    .dataframe tbody tr th:only-of-type {\n",
              "        vertical-align: middle;\n",
              "    }\n",
              "\n",
              "    .dataframe tbody tr th {\n",
              "        vertical-align: top;\n",
              "    }\n",
              "\n",
              "    .dataframe thead th {\n",
              "        text-align: right;\n",
              "    }\n",
              "</style>\n",
              "<table border=\"1\" class=\"dataframe\">\n",
              "  <thead>\n",
              "    <tr style=\"text-align: right;\">\n",
              "      <th></th>\n",
              "      <th>vendorid</th>\n",
              "      <th>passenger_count</th>\n",
              "      <th>trip_distance</th>\n",
              "      <th>ratecodeid</th>\n",
              "      <th>pulocationid</th>\n",
              "      <th>dolocationid</th>\n",
              "      <th>payment_type</th>\n",
              "      <th>fare_amount</th>\n",
              "      <th>extra</th>\n",
              "      <th>mta_tax</th>\n",
              "      <th>tip_amount</th>\n",
              "      <th>tolls_amount</th>\n",
              "      <th>improvement_surcharge</th>\n",
              "      <th>total_amount</th>\n",
              "      <th>congestion_surcharge</th>\n",
              "      <th>airport_fee</th>\n",
              "    </tr>\n",
              "  </thead>\n",
              "  <tbody>\n",
              "    <tr>\n",
              "      <th>count</th>\n",
              "      <td>2723800.000</td>\n",
              "      <td>2723800.000</td>\n",
              "      <td>2723800.000</td>\n",
              "      <td>2723800.000</td>\n",
              "      <td>2723800.000</td>\n",
              "      <td>2723800.000</td>\n",
              "      <td>2723800.000</td>\n",
              "      <td>2723800.000</td>\n",
              "      <td>2723800.000</td>\n",
              "      <td>2723800.000</td>\n",
              "      <td>2723800.000</td>\n",
              "      <td>2723800.000</td>\n",
              "      <td>2723800.000</td>\n",
              "      <td>2723800.000</td>\n",
              "      <td>2723800.000</td>\n",
              "      <td>2723800.000</td>\n",
              "    </tr>\n",
              "    <tr>\n",
              "      <th>mean</th>\n",
              "      <td>1.766</td>\n",
              "      <td>1.355</td>\n",
              "      <td>3.302</td>\n",
              "      <td>2.035</td>\n",
              "      <td>166.372</td>\n",
              "      <td>165.590</td>\n",
              "      <td>1.185</td>\n",
              "      <td>18.443</td>\n",
              "      <td>1.536</td>\n",
              "      <td>0.497</td>\n",
              "      <td>3.471</td>\n",
              "      <td>0.549</td>\n",
              "      <td>1.000</td>\n",
              "      <td>27.412</td>\n",
              "      <td>2.323</td>\n",
              "      <td>0.146</td>\n",
              "    </tr>\n",
              "    <tr>\n",
              "      <th>std</th>\n",
              "      <td>0.424</td>\n",
              "      <td>0.845</td>\n",
              "      <td>12.328</td>\n",
              "      <td>9.732</td>\n",
              "      <td>63.132</td>\n",
              "      <td>69.165</td>\n",
              "      <td>0.456</td>\n",
              "      <td>17.436</td>\n",
              "      <td>1.795</td>\n",
              "      <td>0.040</td>\n",
              "      <td>3.850</td>\n",
              "      <td>2.126</td>\n",
              "      <td>0.009</td>\n",
              "      <td>21.968</td>\n",
              "      <td>0.641</td>\n",
              "      <td>0.484</td>\n",
              "    </tr>\n",
              "    <tr>\n",
              "      <th>min</th>\n",
              "      <td>1.000</td>\n",
              "      <td>1.000</td>\n",
              "      <td>0.010</td>\n",
              "      <td>1.000</td>\n",
              "      <td>1.000</td>\n",
              "      <td>1.000</td>\n",
              "      <td>1.000</td>\n",
              "      <td>0.010</td>\n",
              "      <td>0.000</td>\n",
              "      <td>0.000</td>\n",
              "      <td>0.000</td>\n",
              "      <td>0.000</td>\n",
              "      <td>0.000</td>\n",
              "      <td>1.010</td>\n",
              "      <td>0.000</td>\n",
              "      <td>0.000</td>\n",
              "    </tr>\n",
              "    <tr>\n",
              "      <th>25%</th>\n",
              "      <td>2.000</td>\n",
              "      <td>1.000</td>\n",
              "      <td>1.010</td>\n",
              "      <td>1.000</td>\n",
              "      <td>132.000</td>\n",
              "      <td>114.000</td>\n",
              "      <td>1.000</td>\n",
              "      <td>8.600</td>\n",
              "      <td>0.000</td>\n",
              "      <td>0.500</td>\n",
              "      <td>1.000</td>\n",
              "      <td>0.000</td>\n",
              "      <td>1.000</td>\n",
              "      <td>15.480</td>\n",
              "      <td>2.500</td>\n",
              "      <td>0.000</td>\n",
              "    </tr>\n",
              "    <tr>\n",
              "      <th>50%</th>\n",
              "      <td>2.000</td>\n",
              "      <td>1.000</td>\n",
              "      <td>1.700</td>\n",
              "      <td>1.000</td>\n",
              "      <td>162.000</td>\n",
              "      <td>162.000</td>\n",
              "      <td>1.000</td>\n",
              "      <td>12.800</td>\n",
              "      <td>1.000</td>\n",
              "      <td>0.500</td>\n",
              "      <td>2.800</td>\n",
              "      <td>0.000</td>\n",
              "      <td>1.000</td>\n",
              "      <td>20.150</td>\n",
              "      <td>2.500</td>\n",
              "      <td>0.000</td>\n",
              "    </tr>\n",
              "    <tr>\n",
              "      <th>75%</th>\n",
              "      <td>2.000</td>\n",
              "      <td>1.000</td>\n",
              "      <td>3.130</td>\n",
              "      <td>1.000</td>\n",
              "      <td>234.000</td>\n",
              "      <td>234.000</td>\n",
              "      <td>1.000</td>\n",
              "      <td>19.800</td>\n",
              "      <td>2.500</td>\n",
              "      <td>0.500</td>\n",
              "      <td>4.200</td>\n",
              "      <td>0.000</td>\n",
              "      <td>1.000</td>\n",
              "      <td>28.560</td>\n",
              "      <td>2.500</td>\n",
              "      <td>0.000</td>\n",
              "    </tr>\n",
              "    <tr>\n",
              "      <th>max</th>\n",
              "      <td>2.000</td>\n",
              "      <td>9.000</td>\n",
              "      <td>15400.320</td>\n",
              "      <td>99.000</td>\n",
              "      <td>265.000</td>\n",
              "      <td>265.000</td>\n",
              "      <td>4.000</td>\n",
              "      <td>2221.300</td>\n",
              "      <td>14.250</td>\n",
              "      <td>4.000</td>\n",
              "      <td>422.700</td>\n",
              "      <td>115.920</td>\n",
              "      <td>1.000</td>\n",
              "      <td>2225.300</td>\n",
              "      <td>2.500</td>\n",
              "      <td>1.750</td>\n",
              "    </tr>\n",
              "  </tbody>\n",
              "</table>\n",
              "</div>"
            ],
            "text/plain": [
              "          vendorid  passenger_count  trip_distance   ratecodeid  pulocationid  \\\n",
              "count  2723800.000      2723800.000    2723800.000  2723800.000   2723800.000   \n",
              "mean         1.766            1.355          3.302        2.035       166.372   \n",
              "std          0.424            0.845         12.328        9.732        63.132   \n",
              "min          1.000            1.000          0.010        1.000         1.000   \n",
              "25%          2.000            1.000          1.010        1.000       132.000   \n",
              "50%          2.000            1.000          1.700        1.000       162.000   \n",
              "75%          2.000            1.000          3.130        1.000       234.000   \n",
              "max          2.000            9.000      15400.320       99.000       265.000   \n",
              "\n",
              "       dolocationid  payment_type  fare_amount        extra      mta_tax  \\\n",
              "count   2723800.000   2723800.000  2723800.000  2723800.000  2723800.000   \n",
              "mean        165.590         1.185       18.443        1.536        0.497   \n",
              "std          69.165         0.456       17.436        1.795        0.040   \n",
              "min           1.000         1.000        0.010        0.000        0.000   \n",
              "25%         114.000         1.000        8.600        0.000        0.500   \n",
              "50%         162.000         1.000       12.800        1.000        0.500   \n",
              "75%         234.000         1.000       19.800        2.500        0.500   \n",
              "max         265.000         4.000     2221.300       14.250        4.000   \n",
              "\n",
              "        tip_amount  tolls_amount  improvement_surcharge  total_amount  \\\n",
              "count  2723800.000   2723800.000            2723800.000   2723800.000   \n",
              "mean         3.471         0.549                  1.000        27.412   \n",
              "std          3.850         2.126                  0.009        21.968   \n",
              "min          0.000         0.000                  0.000         1.010   \n",
              "25%          1.000         0.000                  1.000        15.480   \n",
              "50%          2.800         0.000                  1.000        20.150   \n",
              "75%          4.200         0.000                  1.000        28.560   \n",
              "max        422.700       115.920                  1.000      2225.300   \n",
              "\n",
              "       congestion_surcharge  airport_fee  \n",
              "count           2723800.000  2723800.000  \n",
              "mean                  2.323        0.146  \n",
              "std                   0.641        0.484  \n",
              "min                   0.000        0.000  \n",
              "25%                   2.500        0.000  \n",
              "50%                   2.500        0.000  \n",
              "75%                   2.500        0.000  \n",
              "max                   2.500        1.750  "
            ]
          },
          "execution_count": 21,
          "metadata": {},
          "output_type": "execute_result"
        }
      ],
      "source": [
        "df.describe().round(3)"
      ]
    },
    {
      "cell_type": "code",
      "execution_count": 22,
      "metadata": {
        "id": "g31_s9bZ-Ez0"
      },
      "outputs": [],
      "source": [
        "df['day'] = df['tpep_pickup_datetime'].dt.day\n",
        "df['month'] = df['tpep_pickup_datetime'].dt.month\n",
        "df['year'] = df['tpep_pickup_datetime'].dt.year"
      ]
    },
    {
      "cell_type": "markdown",
      "metadata": {
        "id": "xNQKhxuw_An5"
      },
      "source": [
        "#### Year"
      ]
    },
    {
      "cell_type": "code",
      "execution_count": 23,
      "metadata": {
        "colab": {
          "base_uri": "https://localhost:8080/",
          "height": 241
        },
        "id": "IReR7UK8-Tu7",
        "outputId": "6532c569-78f6-434c-b841-77205a34d7cd"
      },
      "outputs": [
        {
          "data": {
            "text/plain": [
              "year\n",
              "2002          1\n",
              "2009          3\n",
              "2023         10\n",
              "2024    2723786\n",
              "dtype: int64"
            ]
          },
          "execution_count": 23,
          "metadata": {},
          "output_type": "execute_result"
        }
      ],
      "source": [
        "df.groupby('year').size()"
      ]
    },
    {
      "cell_type": "code",
      "execution_count": 24,
      "metadata": {
        "id": "MP1WV4Gh-s8n"
      },
      "outputs": [],
      "source": [
        "drop_year = df[df['year'] != 2024].index"
      ]
    },
    {
      "cell_type": "code",
      "execution_count": 25,
      "metadata": {
        "colab": {
          "base_uri": "https://localhost:8080/"
        },
        "id": "V171eAZf-2NY",
        "outputId": "940b5981-f11a-42cf-8b66-87acad53755f"
      },
      "outputs": [
        {
          "name": "stdout",
          "output_type": "stream",
          "text": [
            "The Percentage of False Data in Year =  0.0005139878111461928 %\n"
          ]
        }
      ],
      "source": [
        "print('The Percentage of False Data in Year = ',((drop_year.shape[0] /df.shape[0])*100),'%')"
      ]
    },
    {
      "cell_type": "code",
      "execution_count": 26,
      "metadata": {
        "id": "JZ8By9I2-6uA"
      },
      "outputs": [],
      "source": [
        "df.drop(drop_year, inplace = True)"
      ]
    },
    {
      "cell_type": "markdown",
      "metadata": {
        "id": "3IX1HkRa_Fxc"
      },
      "source": [
        "#### Month"
      ]
    },
    {
      "cell_type": "code",
      "execution_count": 27,
      "metadata": {
        "colab": {
          "base_uri": "https://localhost:8080/",
          "height": 178
        },
        "id": "BC9fcBUY--qY",
        "outputId": "08908324-b739-4698-db74-2e034d530e4b"
      },
      "outputs": [
        {
          "data": {
            "text/plain": [
              "month\n",
              "1    2723783\n",
              "2          3\n",
              "dtype: int64"
            ]
          },
          "execution_count": 27,
          "metadata": {},
          "output_type": "execute_result"
        }
      ],
      "source": [
        "df.groupby('month').size()"
      ]
    },
    {
      "cell_type": "code",
      "execution_count": 28,
      "metadata": {
        "id": "nPYi0YOd_LIr"
      },
      "outputs": [],
      "source": [
        "drop_month = df[df['month'] != 1].index"
      ]
    },
    {
      "cell_type": "code",
      "execution_count": 29,
      "metadata": {
        "colab": {
          "base_uri": "https://localhost:8080/"
        },
        "id": "DML_m_z-_RJc",
        "outputId": "a97c7b95-6160-4589-967e-a4adfd26fead"
      },
      "outputs": [
        {
          "name": "stdout",
          "output_type": "stream",
          "text": [
            "The Percentage of False Data in Month =  0.00011014081135595822 %\n"
          ]
        }
      ],
      "source": [
        "print('The Percentage of False Data in Month = ',((drop_month.shape[0] /df.shape[0])*100),'%')"
      ]
    },
    {
      "cell_type": "code",
      "execution_count": 30,
      "metadata": {
        "id": "xp_8gjtW_UDp"
      },
      "outputs": [],
      "source": [
        "df.drop(drop_month, inplace = True)"
      ]
    },
    {
      "cell_type": "code",
      "execution_count": 31,
      "metadata": {
        "id": "gEz8s-rr_tBn"
      },
      "outputs": [],
      "source": [
        "df.drop(['month','year'],inplace = True,axis = 1)"
      ]
    },
    {
      "cell_type": "code",
      "execution_count": 32,
      "metadata": {
        "id": "xfcxtpco_0lv"
      },
      "outputs": [],
      "source": [
        "df['pickup_time'] = df['tpep_pickup_datetime'].dt.time\n",
        "df['dropoff_time'] = df['tpep_dropoff_datetime'].dt.time"
      ]
    },
    {
      "cell_type": "code",
      "execution_count": 33,
      "metadata": {
        "colab": {
          "base_uri": "https://localhost:8080/"
        },
        "id": "acsTA12-B9fA",
        "outputId": "c1ad6475-1ab1-4d20-ab0b-159f9c9130a1"
      },
      "outputs": [
        {
          "data": {
            "text/plain": [
              "Index(['vendorid', 'tpep_pickup_datetime', 'tpep_dropoff_datetime',\n",
              "       'passenger_count', 'trip_distance', 'ratecodeid', 'store_and_fwd_flag',\n",
              "       'pulocationid', 'dolocationid', 'payment_type', 'fare_amount', 'extra',\n",
              "       'mta_tax', 'tip_amount', 'tolls_amount', 'improvement_surcharge',\n",
              "       'total_amount', 'congestion_surcharge', 'airport_fee', 'day',\n",
              "       'pickup_time', 'dropoff_time'],\n",
              "      dtype='object')"
            ]
          },
          "execution_count": 33,
          "metadata": {},
          "output_type": "execute_result"
        }
      ],
      "source": [
        "df.columns"
      ]
    },
    {
      "cell_type": "code",
      "execution_count": 34,
      "metadata": {
        "colab": {
          "base_uri": "https://localhost:8080/",
          "height": 206
        },
        "id": "wCtsUbLLBF0I",
        "outputId": "c8941de7-ec59-415e-c5f0-9b4f4ce240b1"
      },
      "outputs": [
        {
          "data": {
            "text/html": [
              "<div>\n",
              "<style scoped>\n",
              "    .dataframe tbody tr th:only-of-type {\n",
              "        vertical-align: middle;\n",
              "    }\n",
              "\n",
              "    .dataframe tbody tr th {\n",
              "        vertical-align: top;\n",
              "    }\n",
              "\n",
              "    .dataframe thead th {\n",
              "        text-align: right;\n",
              "    }\n",
              "</style>\n",
              "<table border=\"1\" class=\"dataframe\">\n",
              "  <thead>\n",
              "    <tr style=\"text-align: right;\">\n",
              "      <th></th>\n",
              "      <th>pickup_time</th>\n",
              "      <th>dropoff_time</th>\n",
              "    </tr>\n",
              "  </thead>\n",
              "  <tbody>\n",
              "    <tr>\n",
              "      <th>0</th>\n",
              "      <td>00:57:55</td>\n",
              "      <td>01:17:43</td>\n",
              "    </tr>\n",
              "    <tr>\n",
              "      <th>1</th>\n",
              "      <td>00:03:00</td>\n",
              "      <td>00:09:36</td>\n",
              "    </tr>\n",
              "    <tr>\n",
              "      <th>2</th>\n",
              "      <td>00:17:06</td>\n",
              "      <td>00:35:01</td>\n",
              "    </tr>\n",
              "    <tr>\n",
              "      <th>3</th>\n",
              "      <td>00:36:38</td>\n",
              "      <td>00:44:56</td>\n",
              "    </tr>\n",
              "    <tr>\n",
              "      <th>4</th>\n",
              "      <td>00:46:51</td>\n",
              "      <td>00:52:57</td>\n",
              "    </tr>\n",
              "  </tbody>\n",
              "</table>\n",
              "</div>"
            ],
            "text/plain": [
              "  pickup_time dropoff_time\n",
              "0    00:57:55     01:17:43\n",
              "1    00:03:00     00:09:36\n",
              "2    00:17:06     00:35:01\n",
              "3    00:36:38     00:44:56\n",
              "4    00:46:51     00:52:57"
            ]
          },
          "execution_count": 34,
          "metadata": {},
          "output_type": "execute_result"
        }
      ],
      "source": [
        "df[['pickup_time', 'dropoff_time']].head()"
      ]
    },
    {
      "cell_type": "code",
      "execution_count": 35,
      "metadata": {
        "id": "3hkeFq7TCcax"
      },
      "outputs": [],
      "source": [
        "def time_to_seconds(t):\n",
        "    return t.hour * 3600 + t.minute * 60 + t.second\n",
        "\n",
        "# Apply function to convert times to seconds\n",
        "df['pickup_seconds'] = df['pickup_time'].apply(time_to_seconds)\n",
        "df['dropoff_seconds'] = df['dropoff_time'].apply(time_to_seconds)\n",
        "\n",
        "# Calculate duration in seconds\n",
        "df['duration_seconds'] = df['dropoff_seconds'] - df['pickup_seconds']\n",
        "\n",
        "# Optionally convert duration to minutes\n",
        "df['duration_minutes'] = df['duration_seconds'] / 60\n",
        "\n",
        "# Drop the intermediate columns if not needed\n",
        "df = df.drop(columns=['pickup_seconds', 'dropoff_seconds'])\n"
      ]
    },
    {
      "cell_type": "code",
      "execution_count": 36,
      "metadata": {
        "colab": {
          "base_uri": "https://localhost:8080/",
          "height": 384
        },
        "id": "v3qLInI8BMaU",
        "outputId": "bdd07422-bc4c-4a91-e6e1-6a1e346e9319"
      },
      "outputs": [
        {
          "data": {
            "text/html": [
              "<div>\n",
              "<style scoped>\n",
              "    .dataframe tbody tr th:only-of-type {\n",
              "        vertical-align: middle;\n",
              "    }\n",
              "\n",
              "    .dataframe tbody tr th {\n",
              "        vertical-align: top;\n",
              "    }\n",
              "\n",
              "    .dataframe thead th {\n",
              "        text-align: right;\n",
              "    }\n",
              "</style>\n",
              "<table border=\"1\" class=\"dataframe\">\n",
              "  <thead>\n",
              "    <tr style=\"text-align: right;\">\n",
              "      <th></th>\n",
              "      <th>vendorid</th>\n",
              "      <th>passenger_count</th>\n",
              "      <th>trip_distance</th>\n",
              "      <th>ratecodeid</th>\n",
              "      <th>pulocationid</th>\n",
              "      <th>dolocationid</th>\n",
              "      <th>payment_type</th>\n",
              "      <th>fare_amount</th>\n",
              "      <th>extra</th>\n",
              "      <th>mta_tax</th>\n",
              "      <th>tip_amount</th>\n",
              "      <th>tolls_amount</th>\n",
              "      <th>improvement_surcharge</th>\n",
              "      <th>total_amount</th>\n",
              "      <th>congestion_surcharge</th>\n",
              "      <th>airport_fee</th>\n",
              "      <th>day</th>\n",
              "      <th>duration_seconds</th>\n",
              "      <th>duration_minutes</th>\n",
              "    </tr>\n",
              "  </thead>\n",
              "  <tbody>\n",
              "    <tr>\n",
              "      <th>count</th>\n",
              "      <td>2723783.000</td>\n",
              "      <td>2723783.000</td>\n",
              "      <td>2723783.000</td>\n",
              "      <td>2723783.000</td>\n",
              "      <td>2723783.000</td>\n",
              "      <td>2723783.000</td>\n",
              "      <td>2723783.000</td>\n",
              "      <td>2723783.000</td>\n",
              "      <td>2723783.000</td>\n",
              "      <td>2723783.000</td>\n",
              "      <td>2723783.000</td>\n",
              "      <td>2723783.000</td>\n",
              "      <td>2723783.000</td>\n",
              "      <td>2723783.000</td>\n",
              "      <td>2723783.000</td>\n",
              "      <td>2723783.000</td>\n",
              "      <td>2723783.000</td>\n",
              "      <td>2723783.000</td>\n",
              "      <td>2723783.000</td>\n",
              "    </tr>\n",
              "    <tr>\n",
              "      <th>mean</th>\n",
              "      <td>1.766</td>\n",
              "      <td>1.355</td>\n",
              "      <td>3.302</td>\n",
              "      <td>2.035</td>\n",
              "      <td>166.372</td>\n",
              "      <td>165.590</td>\n",
              "      <td>1.185</td>\n",
              "      <td>18.443</td>\n",
              "      <td>1.536</td>\n",
              "      <td>0.497</td>\n",
              "      <td>3.471</td>\n",
              "      <td>0.549</td>\n",
              "      <td>1.000</td>\n",
              "      <td>27.412</td>\n",
              "      <td>2.323</td>\n",
              "      <td>0.146</td>\n",
              "      <td>16.452</td>\n",
              "      <td>252.466</td>\n",
              "      <td>4.208</td>\n",
              "    </tr>\n",
              "    <tr>\n",
              "      <th>std</th>\n",
              "      <td>0.424</td>\n",
              "      <td>0.845</td>\n",
              "      <td>12.328</td>\n",
              "      <td>9.733</td>\n",
              "      <td>63.132</td>\n",
              "      <td>69.165</td>\n",
              "      <td>0.456</td>\n",
              "      <td>17.436</td>\n",
              "      <td>1.795</td>\n",
              "      <td>0.040</td>\n",
              "      <td>3.850</td>\n",
              "      <td>2.126</td>\n",
              "      <td>0.009</td>\n",
              "      <td>21.968</td>\n",
              "      <td>0.641</td>\n",
              "      <td>0.484</td>\n",
              "      <td>8.831</td>\n",
              "      <td>7420.755</td>\n",
              "      <td>123.679</td>\n",
              "    </tr>\n",
              "    <tr>\n",
              "      <th>min</th>\n",
              "      <td>1.000</td>\n",
              "      <td>1.000</td>\n",
              "      <td>0.010</td>\n",
              "      <td>1.000</td>\n",
              "      <td>1.000</td>\n",
              "      <td>1.000</td>\n",
              "      <td>1.000</td>\n",
              "      <td>0.010</td>\n",
              "      <td>0.000</td>\n",
              "      <td>0.000</td>\n",
              "      <td>0.000</td>\n",
              "      <td>0.000</td>\n",
              "      <td>0.000</td>\n",
              "      <td>1.010</td>\n",
              "      <td>0.000</td>\n",
              "      <td>0.000</td>\n",
              "      <td>1.000</td>\n",
              "      <td>-86367.000</td>\n",
              "      <td>-1439.450</td>\n",
              "    </tr>\n",
              "    <tr>\n",
              "      <th>25%</th>\n",
              "      <td>2.000</td>\n",
              "      <td>1.000</td>\n",
              "      <td>1.010</td>\n",
              "      <td>1.000</td>\n",
              "      <td>132.000</td>\n",
              "      <td>114.000</td>\n",
              "      <td>1.000</td>\n",
              "      <td>8.600</td>\n",
              "      <td>0.000</td>\n",
              "      <td>0.500</td>\n",
              "      <td>1.000</td>\n",
              "      <td>0.000</td>\n",
              "      <td>1.000</td>\n",
              "      <td>15.480</td>\n",
              "      <td>2.500</td>\n",
              "      <td>0.000</td>\n",
              "      <td>9.000</td>\n",
              "      <td>425.000</td>\n",
              "      <td>7.083</td>\n",
              "    </tr>\n",
              "    <tr>\n",
              "      <th>50%</th>\n",
              "      <td>2.000</td>\n",
              "      <td>1.000</td>\n",
              "      <td>1.700</td>\n",
              "      <td>1.000</td>\n",
              "      <td>162.000</td>\n",
              "      <td>162.000</td>\n",
              "      <td>1.000</td>\n",
              "      <td>12.800</td>\n",
              "      <td>1.000</td>\n",
              "      <td>0.500</td>\n",
              "      <td>2.800</td>\n",
              "      <td>0.000</td>\n",
              "      <td>1.000</td>\n",
              "      <td>20.150</td>\n",
              "      <td>2.500</td>\n",
              "      <td>0.000</td>\n",
              "      <td>17.000</td>\n",
              "      <td>690.000</td>\n",
              "      <td>11.500</td>\n",
              "    </tr>\n",
              "    <tr>\n",
              "      <th>75%</th>\n",
              "      <td>2.000</td>\n",
              "      <td>1.000</td>\n",
              "      <td>3.130</td>\n",
              "      <td>1.000</td>\n",
              "      <td>234.000</td>\n",
              "      <td>234.000</td>\n",
              "      <td>1.000</td>\n",
              "      <td>19.800</td>\n",
              "      <td>2.500</td>\n",
              "      <td>0.500</td>\n",
              "      <td>4.200</td>\n",
              "      <td>0.000</td>\n",
              "      <td>1.000</td>\n",
              "      <td>28.560</td>\n",
              "      <td>2.500</td>\n",
              "      <td>0.000</td>\n",
              "      <td>24.000</td>\n",
              "      <td>1110.000</td>\n",
              "      <td>18.500</td>\n",
              "    </tr>\n",
              "    <tr>\n",
              "      <th>max</th>\n",
              "      <td>2.000</td>\n",
              "      <td>9.000</td>\n",
              "      <td>15400.320</td>\n",
              "      <td>99.000</td>\n",
              "      <td>265.000</td>\n",
              "      <td>265.000</td>\n",
              "      <td>4.000</td>\n",
              "      <td>2221.300</td>\n",
              "      <td>14.250</td>\n",
              "      <td>4.000</td>\n",
              "      <td>422.700</td>\n",
              "      <td>115.920</td>\n",
              "      <td>1.000</td>\n",
              "      <td>2225.300</td>\n",
              "      <td>2.500</td>\n",
              "      <td>1.750</td>\n",
              "      <td>31.000</td>\n",
              "      <td>86139.000</td>\n",
              "      <td>1435.650</td>\n",
              "    </tr>\n",
              "  </tbody>\n",
              "</table>\n",
              "</div>"
            ],
            "text/plain": [
              "          vendorid  passenger_count  trip_distance   ratecodeid  pulocationid  \\\n",
              "count  2723783.000      2723783.000    2723783.000  2723783.000   2723783.000   \n",
              "mean         1.766            1.355          3.302        2.035       166.372   \n",
              "std          0.424            0.845         12.328        9.733        63.132   \n",
              "min          1.000            1.000          0.010        1.000         1.000   \n",
              "25%          2.000            1.000          1.010        1.000       132.000   \n",
              "50%          2.000            1.000          1.700        1.000       162.000   \n",
              "75%          2.000            1.000          3.130        1.000       234.000   \n",
              "max          2.000            9.000      15400.320       99.000       265.000   \n",
              "\n",
              "       dolocationid  payment_type  fare_amount        extra      mta_tax  \\\n",
              "count   2723783.000   2723783.000  2723783.000  2723783.000  2723783.000   \n",
              "mean        165.590         1.185       18.443        1.536        0.497   \n",
              "std          69.165         0.456       17.436        1.795        0.040   \n",
              "min           1.000         1.000        0.010        0.000        0.000   \n",
              "25%         114.000         1.000        8.600        0.000        0.500   \n",
              "50%         162.000         1.000       12.800        1.000        0.500   \n",
              "75%         234.000         1.000       19.800        2.500        0.500   \n",
              "max         265.000         4.000     2221.300       14.250        4.000   \n",
              "\n",
              "        tip_amount  tolls_amount  improvement_surcharge  total_amount  \\\n",
              "count  2723783.000   2723783.000            2723783.000   2723783.000   \n",
              "mean         3.471         0.549                  1.000        27.412   \n",
              "std          3.850         2.126                  0.009        21.968   \n",
              "min          0.000         0.000                  0.000         1.010   \n",
              "25%          1.000         0.000                  1.000        15.480   \n",
              "50%          2.800         0.000                  1.000        20.150   \n",
              "75%          4.200         0.000                  1.000        28.560   \n",
              "max        422.700       115.920                  1.000      2225.300   \n",
              "\n",
              "       congestion_surcharge  airport_fee          day  duration_seconds  \\\n",
              "count           2723783.000  2723783.000  2723783.000       2723783.000   \n",
              "mean                  2.323        0.146       16.452           252.466   \n",
              "std                   0.641        0.484        8.831          7420.755   \n",
              "min                   0.000        0.000        1.000        -86367.000   \n",
              "25%                   2.500        0.000        9.000           425.000   \n",
              "50%                   2.500        0.000       17.000           690.000   \n",
              "75%                   2.500        0.000       24.000          1110.000   \n",
              "max                   2.500        1.750       31.000         86139.000   \n",
              "\n",
              "       duration_minutes  \n",
              "count       2723783.000  \n",
              "mean              4.208  \n",
              "std             123.679  \n",
              "min           -1439.450  \n",
              "25%               7.083  \n",
              "50%              11.500  \n",
              "75%              18.500  \n",
              "max            1435.650  "
            ]
          },
          "execution_count": 36,
          "metadata": {},
          "output_type": "execute_result"
        }
      ],
      "source": [
        "df.describe().round(3)"
      ]
    },
    {
      "cell_type": "code",
      "execution_count": 37,
      "metadata": {
        "id": "trU8mcp69n5b"
      },
      "outputs": [],
      "source": [
        "false_duration = df[(df['duration_minutes'] <= 0) | (df['duration_minutes'] <= 0)].index"
      ]
    },
    {
      "cell_type": "code",
      "execution_count": 38,
      "metadata": {
        "id": "G6N5_eCjC23-"
      },
      "outputs": [],
      "source": [
        "df.drop(false_duration, inplace = True)"
      ]
    },
    {
      "cell_type": "code",
      "execution_count": 39,
      "metadata": {
        "colab": {
          "base_uri": "https://localhost:8080/",
          "height": 384
        },
        "id": "5eYJ8ScVDfIL",
        "outputId": "047231ea-9d64-42e1-9fc4-d298be113810"
      },
      "outputs": [
        {
          "data": {
            "text/html": [
              "<div>\n",
              "<style scoped>\n",
              "    .dataframe tbody tr th:only-of-type {\n",
              "        vertical-align: middle;\n",
              "    }\n",
              "\n",
              "    .dataframe tbody tr th {\n",
              "        vertical-align: top;\n",
              "    }\n",
              "\n",
              "    .dataframe thead th {\n",
              "        text-align: right;\n",
              "    }\n",
              "</style>\n",
              "<table border=\"1\" class=\"dataframe\">\n",
              "  <thead>\n",
              "    <tr style=\"text-align: right;\">\n",
              "      <th></th>\n",
              "      <th>vendorid</th>\n",
              "      <th>passenger_count</th>\n",
              "      <th>trip_distance</th>\n",
              "      <th>ratecodeid</th>\n",
              "      <th>pulocationid</th>\n",
              "      <th>dolocationid</th>\n",
              "      <th>payment_type</th>\n",
              "      <th>fare_amount</th>\n",
              "      <th>extra</th>\n",
              "      <th>mta_tax</th>\n",
              "      <th>tip_amount</th>\n",
              "      <th>tolls_amount</th>\n",
              "      <th>improvement_surcharge</th>\n",
              "      <th>total_amount</th>\n",
              "      <th>congestion_surcharge</th>\n",
              "      <th>airport_fee</th>\n",
              "      <th>day</th>\n",
              "      <th>duration_seconds</th>\n",
              "      <th>duration_minutes</th>\n",
              "    </tr>\n",
              "  </thead>\n",
              "  <tbody>\n",
              "    <tr>\n",
              "      <th>count</th>\n",
              "      <td>2701888.000</td>\n",
              "      <td>2701888.000</td>\n",
              "      <td>2701888.000</td>\n",
              "      <td>2701888.000</td>\n",
              "      <td>2701888.000</td>\n",
              "      <td>2701888.000</td>\n",
              "      <td>2701888.000</td>\n",
              "      <td>2701888.000</td>\n",
              "      <td>2701888.000</td>\n",
              "      <td>2701888.000</td>\n",
              "      <td>2701888.000</td>\n",
              "      <td>2701888.000</td>\n",
              "      <td>2701888.000</td>\n",
              "      <td>2701888.000</td>\n",
              "      <td>2701888.000</td>\n",
              "      <td>2701888.000</td>\n",
              "      <td>2701888.000</td>\n",
              "      <td>2701888.000</td>\n",
              "      <td>2701888.000</td>\n",
              "    </tr>\n",
              "    <tr>\n",
              "      <th>mean</th>\n",
              "      <td>1.765</td>\n",
              "      <td>1.354</td>\n",
              "      <td>3.271</td>\n",
              "      <td>2.041</td>\n",
              "      <td>166.501</td>\n",
              "      <td>165.672</td>\n",
              "      <td>1.185</td>\n",
              "      <td>18.329</td>\n",
              "      <td>1.534</td>\n",
              "      <td>0.497</td>\n",
              "      <td>3.456</td>\n",
              "      <td>0.543</td>\n",
              "      <td>1.000</td>\n",
              "      <td>27.274</td>\n",
              "      <td>2.325</td>\n",
              "      <td>0.144</td>\n",
              "      <td>16.450</td>\n",
              "      <td>894.119</td>\n",
              "      <td>14.902</td>\n",
              "    </tr>\n",
              "    <tr>\n",
              "      <th>std</th>\n",
              "      <td>0.424</td>\n",
              "      <td>0.844</td>\n",
              "      <td>12.356</td>\n",
              "      <td>9.767</td>\n",
              "      <td>63.161</td>\n",
              "      <td>69.098</td>\n",
              "      <td>0.456</td>\n",
              "      <td>17.281</td>\n",
              "      <td>1.795</td>\n",
              "      <td>0.040</td>\n",
              "      <td>3.823</td>\n",
              "      <td>2.114</td>\n",
              "      <td>0.009</td>\n",
              "      <td>21.794</td>\n",
              "      <td>0.638</td>\n",
              "      <td>0.480</td>\n",
              "      <td>8.832</td>\n",
              "      <td>772.118</td>\n",
              "      <td>12.869</td>\n",
              "    </tr>\n",
              "    <tr>\n",
              "      <th>min</th>\n",
              "      <td>1.000</td>\n",
              "      <td>1.000</td>\n",
              "      <td>0.010</td>\n",
              "      <td>1.000</td>\n",
              "      <td>1.000</td>\n",
              "      <td>1.000</td>\n",
              "      <td>1.000</td>\n",
              "      <td>0.010</td>\n",
              "      <td>0.000</td>\n",
              "      <td>0.000</td>\n",
              "      <td>0.000</td>\n",
              "      <td>0.000</td>\n",
              "      <td>0.000</td>\n",
              "      <td>1.010</td>\n",
              "      <td>0.000</td>\n",
              "      <td>0.000</td>\n",
              "      <td>1.000</td>\n",
              "      <td>1.000</td>\n",
              "      <td>0.017</td>\n",
              "    </tr>\n",
              "    <tr>\n",
              "      <th>25%</th>\n",
              "      <td>2.000</td>\n",
              "      <td>1.000</td>\n",
              "      <td>1.000</td>\n",
              "      <td>1.000</td>\n",
              "      <td>132.000</td>\n",
              "      <td>114.000</td>\n",
              "      <td>1.000</td>\n",
              "      <td>8.600</td>\n",
              "      <td>0.000</td>\n",
              "      <td>0.500</td>\n",
              "      <td>1.000</td>\n",
              "      <td>0.000</td>\n",
              "      <td>1.000</td>\n",
              "      <td>15.480</td>\n",
              "      <td>2.500</td>\n",
              "      <td>0.000</td>\n",
              "      <td>9.000</td>\n",
              "      <td>431.000</td>\n",
              "      <td>7.183</td>\n",
              "    </tr>\n",
              "    <tr>\n",
              "      <th>50%</th>\n",
              "      <td>2.000</td>\n",
              "      <td>1.000</td>\n",
              "      <td>1.690</td>\n",
              "      <td>1.000</td>\n",
              "      <td>162.000</td>\n",
              "      <td>162.000</td>\n",
              "      <td>1.000</td>\n",
              "      <td>12.800</td>\n",
              "      <td>1.000</td>\n",
              "      <td>0.500</td>\n",
              "      <td>2.800</td>\n",
              "      <td>0.000</td>\n",
              "      <td>1.000</td>\n",
              "      <td>20.120</td>\n",
              "      <td>2.500</td>\n",
              "      <td>0.000</td>\n",
              "      <td>17.000</td>\n",
              "      <td>695.000</td>\n",
              "      <td>11.583</td>\n",
              "    </tr>\n",
              "    <tr>\n",
              "      <th>75%</th>\n",
              "      <td>2.000</td>\n",
              "      <td>1.000</td>\n",
              "      <td>3.100</td>\n",
              "      <td>1.000</td>\n",
              "      <td>234.000</td>\n",
              "      <td>234.000</td>\n",
              "      <td>1.000</td>\n",
              "      <td>19.800</td>\n",
              "      <td>2.500</td>\n",
              "      <td>0.500</td>\n",
              "      <td>4.200</td>\n",
              "      <td>0.000</td>\n",
              "      <td>1.000</td>\n",
              "      <td>28.500</td>\n",
              "      <td>2.500</td>\n",
              "      <td>0.000</td>\n",
              "      <td>24.000</td>\n",
              "      <td>1115.000</td>\n",
              "      <td>18.583</td>\n",
              "    </tr>\n",
              "    <tr>\n",
              "      <th>max</th>\n",
              "      <td>2.000</td>\n",
              "      <td>9.000</td>\n",
              "      <td>15400.320</td>\n",
              "      <td>99.000</td>\n",
              "      <td>265.000</td>\n",
              "      <td>265.000</td>\n",
              "      <td>4.000</td>\n",
              "      <td>2221.300</td>\n",
              "      <td>14.250</td>\n",
              "      <td>4.000</td>\n",
              "      <td>422.700</td>\n",
              "      <td>115.920</td>\n",
              "      <td>1.000</td>\n",
              "      <td>2225.300</td>\n",
              "      <td>2.500</td>\n",
              "      <td>1.750</td>\n",
              "      <td>31.000</td>\n",
              "      <td>86139.000</td>\n",
              "      <td>1435.650</td>\n",
              "    </tr>\n",
              "  </tbody>\n",
              "</table>\n",
              "</div>"
            ],
            "text/plain": [
              "          vendorid  passenger_count  trip_distance   ratecodeid  pulocationid  \\\n",
              "count  2701888.000      2701888.000    2701888.000  2701888.000   2701888.000   \n",
              "mean         1.765            1.354          3.271        2.041       166.501   \n",
              "std          0.424            0.844         12.356        9.767        63.161   \n",
              "min          1.000            1.000          0.010        1.000         1.000   \n",
              "25%          2.000            1.000          1.000        1.000       132.000   \n",
              "50%          2.000            1.000          1.690        1.000       162.000   \n",
              "75%          2.000            1.000          3.100        1.000       234.000   \n",
              "max          2.000            9.000      15400.320       99.000       265.000   \n",
              "\n",
              "       dolocationid  payment_type  fare_amount        extra      mta_tax  \\\n",
              "count   2701888.000   2701888.000  2701888.000  2701888.000  2701888.000   \n",
              "mean        165.672         1.185       18.329        1.534        0.497   \n",
              "std          69.098         0.456       17.281        1.795        0.040   \n",
              "min           1.000         1.000        0.010        0.000        0.000   \n",
              "25%         114.000         1.000        8.600        0.000        0.500   \n",
              "50%         162.000         1.000       12.800        1.000        0.500   \n",
              "75%         234.000         1.000       19.800        2.500        0.500   \n",
              "max         265.000         4.000     2221.300       14.250        4.000   \n",
              "\n",
              "        tip_amount  tolls_amount  improvement_surcharge  total_amount  \\\n",
              "count  2701888.000   2701888.000            2701888.000   2701888.000   \n",
              "mean         3.456         0.543                  1.000        27.274   \n",
              "std          3.823         2.114                  0.009        21.794   \n",
              "min          0.000         0.000                  0.000         1.010   \n",
              "25%          1.000         0.000                  1.000        15.480   \n",
              "50%          2.800         0.000                  1.000        20.120   \n",
              "75%          4.200         0.000                  1.000        28.500   \n",
              "max        422.700       115.920                  1.000      2225.300   \n",
              "\n",
              "       congestion_surcharge  airport_fee          day  duration_seconds  \\\n",
              "count           2701888.000  2701888.000  2701888.000       2701888.000   \n",
              "mean                  2.325        0.144       16.450           894.119   \n",
              "std                   0.638        0.480        8.832           772.118   \n",
              "min                   0.000        0.000        1.000             1.000   \n",
              "25%                   2.500        0.000        9.000           431.000   \n",
              "50%                   2.500        0.000       17.000           695.000   \n",
              "75%                   2.500        0.000       24.000          1115.000   \n",
              "max                   2.500        1.750       31.000         86139.000   \n",
              "\n",
              "       duration_minutes  \n",
              "count       2701888.000  \n",
              "mean             14.902  \n",
              "std              12.869  \n",
              "min               0.017  \n",
              "25%               7.183  \n",
              "50%              11.583  \n",
              "75%              18.583  \n",
              "max            1435.650  "
            ]
          },
          "execution_count": 39,
          "metadata": {},
          "output_type": "execute_result"
        }
      ],
      "source": [
        "df.describe().round(3)"
      ]
    },
    {
      "cell_type": "code",
      "execution_count": 40,
      "metadata": {
        "colab": {
          "base_uri": "https://localhost:8080/",
          "height": 802
        },
        "id": "x8mDuPbvK9np",
        "outputId": "295c7ba8-8135-4bea-f740-a9915c5f52e2"
      },
      "outputs": [
        {
          "data": {
            "text/html": [
              "<div>\n",
              "<style scoped>\n",
              "    .dataframe tbody tr th:only-of-type {\n",
              "        vertical-align: middle;\n",
              "    }\n",
              "\n",
              "    .dataframe tbody tr th {\n",
              "        vertical-align: top;\n",
              "    }\n",
              "\n",
              "    .dataframe thead th {\n",
              "        text-align: right;\n",
              "    }\n",
              "</style>\n",
              "<table border=\"1\" class=\"dataframe\">\n",
              "  <thead>\n",
              "    <tr style=\"text-align: right;\">\n",
              "      <th></th>\n",
              "      <th>0</th>\n",
              "    </tr>\n",
              "  </thead>\n",
              "  <tbody>\n",
              "    <tr>\n",
              "      <th>vendorid</th>\n",
              "      <td>2</td>\n",
              "    </tr>\n",
              "    <tr>\n",
              "      <th>tpep_pickup_datetime</th>\n",
              "      <td>2024-01-01 00:57:55</td>\n",
              "    </tr>\n",
              "    <tr>\n",
              "      <th>tpep_dropoff_datetime</th>\n",
              "      <td>2024-01-01 01:17:43</td>\n",
              "    </tr>\n",
              "    <tr>\n",
              "      <th>passenger_count</th>\n",
              "      <td>1.0</td>\n",
              "    </tr>\n",
              "    <tr>\n",
              "      <th>trip_distance</th>\n",
              "      <td>1.72</td>\n",
              "    </tr>\n",
              "    <tr>\n",
              "      <th>ratecodeid</th>\n",
              "      <td>1.0</td>\n",
              "    </tr>\n",
              "    <tr>\n",
              "      <th>store_and_fwd_flag</th>\n",
              "      <td>N</td>\n",
              "    </tr>\n",
              "    <tr>\n",
              "      <th>pulocationid</th>\n",
              "      <td>186</td>\n",
              "    </tr>\n",
              "    <tr>\n",
              "      <th>dolocationid</th>\n",
              "      <td>79</td>\n",
              "    </tr>\n",
              "    <tr>\n",
              "      <th>payment_type</th>\n",
              "      <td>2</td>\n",
              "    </tr>\n",
              "    <tr>\n",
              "      <th>fare_amount</th>\n",
              "      <td>17.7</td>\n",
              "    </tr>\n",
              "    <tr>\n",
              "      <th>extra</th>\n",
              "      <td>1.0</td>\n",
              "    </tr>\n",
              "    <tr>\n",
              "      <th>mta_tax</th>\n",
              "      <td>0.5</td>\n",
              "    </tr>\n",
              "    <tr>\n",
              "      <th>tip_amount</th>\n",
              "      <td>0.0</td>\n",
              "    </tr>\n",
              "    <tr>\n",
              "      <th>tolls_amount</th>\n",
              "      <td>0.0</td>\n",
              "    </tr>\n",
              "    <tr>\n",
              "      <th>improvement_surcharge</th>\n",
              "      <td>1.0</td>\n",
              "    </tr>\n",
              "    <tr>\n",
              "      <th>total_amount</th>\n",
              "      <td>22.7</td>\n",
              "    </tr>\n",
              "    <tr>\n",
              "      <th>congestion_surcharge</th>\n",
              "      <td>2.5</td>\n",
              "    </tr>\n",
              "    <tr>\n",
              "      <th>airport_fee</th>\n",
              "      <td>0.0</td>\n",
              "    </tr>\n",
              "    <tr>\n",
              "      <th>day</th>\n",
              "      <td>1</td>\n",
              "    </tr>\n",
              "    <tr>\n",
              "      <th>pickup_time</th>\n",
              "      <td>00:57:55</td>\n",
              "    </tr>\n",
              "    <tr>\n",
              "      <th>dropoff_time</th>\n",
              "      <td>01:17:43</td>\n",
              "    </tr>\n",
              "    <tr>\n",
              "      <th>duration_seconds</th>\n",
              "      <td>1188</td>\n",
              "    </tr>\n",
              "    <tr>\n",
              "      <th>duration_minutes</th>\n",
              "      <td>19.8</td>\n",
              "    </tr>\n",
              "  </tbody>\n",
              "</table>\n",
              "</div>"
            ],
            "text/plain": [
              "                                         0\n",
              "vendorid                                 2\n",
              "tpep_pickup_datetime   2024-01-01 00:57:55\n",
              "tpep_dropoff_datetime  2024-01-01 01:17:43\n",
              "passenger_count                        1.0\n",
              "trip_distance                         1.72\n",
              "ratecodeid                             1.0\n",
              "store_and_fwd_flag                       N\n",
              "pulocationid                           186\n",
              "dolocationid                            79\n",
              "payment_type                             2\n",
              "fare_amount                           17.7\n",
              "extra                                  1.0\n",
              "mta_tax                                0.5\n",
              "tip_amount                             0.0\n",
              "tolls_amount                           0.0\n",
              "improvement_surcharge                  1.0\n",
              "total_amount                          22.7\n",
              "congestion_surcharge                   2.5\n",
              "airport_fee                            0.0\n",
              "day                                      1\n",
              "pickup_time                       00:57:55\n",
              "dropoff_time                      01:17:43\n",
              "duration_seconds                      1188\n",
              "duration_minutes                      19.8"
            ]
          },
          "execution_count": 40,
          "metadata": {},
          "output_type": "execute_result"
        }
      ],
      "source": [
        "df.head(1).T"
      ]
    },
    {
      "cell_type": "code",
      "execution_count": 41,
      "metadata": {
        "id": "jjbqvrLqKDjY"
      },
      "outputs": [],
      "source": [
        "def duration(pickup_location,dropoff_locatiom):\n",
        "    return df[(df['pulocationid'] == pickup_location) & (df['dolocationid'] == dropoff_locatiom)]['duration_seconds'].mean()"
      ]
    },
    {
      "cell_type": "code",
      "execution_count": 42,
      "metadata": {
        "colab": {
          "base_uri": "https://localhost:8080/"
        },
        "id": "1xknFdEzKZz9",
        "outputId": "031c4b29-1b69-4f5d-819f-cfb3f2b907a1"
      },
      "outputs": [
        {
          "data": {
            "text/plain": [
              "957.0787401574803"
            ]
          },
          "execution_count": 42,
          "metadata": {},
          "output_type": "execute_result"
        }
      ],
      "source": [
        "duration(186,79)"
      ]
    },
    {
      "cell_type": "code",
      "execution_count": 43,
      "metadata": {
        "colab": {
          "base_uri": "https://localhost:8080/"
        },
        "id": "_j16m_8EOZxe",
        "outputId": "503f08f3-b88a-4d3f-ab50-21fe1b1ff9d0"
      },
      "outputs": [
        {
          "data": {
            "text/plain": [
              "Index(['vendorid', 'tpep_pickup_datetime', 'tpep_dropoff_datetime',\n",
              "       'passenger_count', 'trip_distance', 'ratecodeid', 'store_and_fwd_flag',\n",
              "       'pulocationid', 'dolocationid', 'payment_type', 'fare_amount', 'extra',\n",
              "       'mta_tax', 'tip_amount', 'tolls_amount', 'improvement_surcharge',\n",
              "       'total_amount', 'congestion_surcharge', 'airport_fee', 'day',\n",
              "       'pickup_time', 'dropoff_time', 'duration_seconds', 'duration_minutes'],\n",
              "      dtype='object')"
            ]
          },
          "execution_count": 43,
          "metadata": {},
          "output_type": "execute_result"
        }
      ],
      "source": [
        "df.columns"
      ]
    },
    {
      "cell_type": "code",
      "execution_count": 44,
      "metadata": {
        "colab": {
          "base_uri": "https://localhost:8080/",
          "height": 397
        },
        "id": "A57d47mpODLl",
        "outputId": "12510137-e49e-4ae8-ee3b-a753f737d60a"
      },
      "outputs": [
        {
          "data": {
            "text/plain": [
              "1.0    78.40\n",
              "2.0    14.49\n",
              "3.0     3.26\n",
              "4.0     1.82\n",
              "5.0     1.22\n",
              "6.0     0.81\n",
              "8.0     0.00\n",
              "7.0     0.00\n",
              "9.0     0.00\n",
              "Name: passenger_count, dtype: float64"
            ]
          },
          "execution_count": 44,
          "metadata": {},
          "output_type": "execute_result"
        }
      ],
      "source": [
        "df['passenger_count'].value_counts(normalize = True).round(4) * 100"
      ]
    },
    {
      "cell_type": "code",
      "execution_count": 45,
      "metadata": {
        "id": "AbbbAFICOS3z"
      },
      "outputs": [],
      "source": [
        "df.drop(df[(df['passenger_count'] == 7) |\n",
        "   (df['passenger_count'] == 8) |\n",
        "    (df['passenger_count'] == 9)].index, inplace = True)\n"
      ]
    },
    {
      "cell_type": "code",
      "execution_count": 46,
      "metadata": {
        "colab": {
          "base_uri": "https://localhost:8080/",
          "height": 303
        },
        "id": "08a9IWE3O3eM",
        "outputId": "b4e4a060-48ff-4059-9534-2d37abe35d00"
      },
      "outputs": [
        {
          "data": {
            "text/plain": [
              "1.0    78.40\n",
              "2.0    14.49\n",
              "3.0     3.26\n",
              "4.0     1.82\n",
              "5.0     1.22\n",
              "6.0     0.81\n",
              "Name: passenger_count, dtype: float64"
            ]
          },
          "execution_count": 46,
          "metadata": {},
          "output_type": "execute_result"
        }
      ],
      "source": [
        "df['passenger_count'].value_counts(normalize = True).round(4) * 100"
      ]
    },
    {
      "cell_type": "code",
      "execution_count": 47,
      "metadata": {
        "colab": {
          "base_uri": "https://localhost:8080/",
          "height": 335
        },
        "id": "CH9vumbPPCdr",
        "outputId": "d7682ac2-e5a1-4ab3-83ac-b07a0399710e"
      },
      "outputs": [],
      "source": [
        "# df['trip_distance'].describe().round(3)"
      ]
    },
    {
      "cell_type": "code",
      "execution_count": 48,
      "metadata": {
        "id": "vE8KZFjnPNff"
      },
      "outputs": [],
      "source": [
        "# df.drop(df[df['trip_distance'] > df['trip_distance'].quantile(0.99)].index, inplace = True)"
      ]
    },
    {
      "cell_type": "code",
      "execution_count": 49,
      "metadata": {
        "colab": {
          "base_uri": "https://localhost:8080/",
          "height": 335
        },
        "id": "o5rDdpFhPzpB",
        "outputId": "01a1ff4a-7f5f-422d-fae0-f2a4b9614f66"
      },
      "outputs": [
        {
          "data": {
            "text/plain": [
              "count    2701845.000\n",
              "mean           3.271\n",
              "std           12.356\n",
              "min            0.010\n",
              "25%            1.000\n",
              "50%            1.690\n",
              "75%            3.100\n",
              "max        15400.320\n",
              "Name: trip_distance, dtype: float64"
            ]
          },
          "execution_count": 49,
          "metadata": {},
          "output_type": "execute_result"
        }
      ],
      "source": [
        "df['trip_distance'].describe().round(3)"
      ]
    },
    {
      "cell_type": "code",
      "execution_count": 50,
      "metadata": {
        "colab": {
          "base_uri": "https://localhost:8080/",
          "height": 335
        },
        "id": "QWB1v85uQLRm",
        "outputId": "fc7d7662-610a-4309-aca3-eed583c5d2fc"
      },
      "outputs": [
        {
          "data": {
            "text/plain": [
              "1.0     94.83\n",
              "2.0      3.37\n",
              "99.0     1.00\n",
              "5.0      0.32\n",
              "3.0      0.26\n",
              "4.0      0.22\n",
              "6.0      0.00\n",
              "Name: ratecodeid, dtype: float64"
            ]
          },
          "execution_count": 50,
          "metadata": {},
          "output_type": "execute_result"
        }
      ],
      "source": [
        "df['ratecodeid'].value_counts(normalize = True).round(4) * 100"
      ]
    },
    {
      "cell_type": "code",
      "execution_count": 51,
      "metadata": {
        "id": "ulmWRzRUQNQR"
      },
      "outputs": [],
      "source": [
        "df = df[df['ratecodeid']==1]"
      ]
    },
    {
      "cell_type": "code",
      "execution_count": 52,
      "metadata": {
        "colab": {
          "base_uri": "https://localhost:8080/",
          "height": 147
        },
        "id": "wtdtp539QZ3v",
        "outputId": "ceb11494-2ce9-46f2-ce2b-bea0cda39f6d"
      },
      "outputs": [
        {
          "data": {
            "text/plain": [
              "1.0    100.0\n",
              "Name: ratecodeid, dtype: float64"
            ]
          },
          "execution_count": 52,
          "metadata": {},
          "output_type": "execute_result"
        }
      ],
      "source": [
        "df['ratecodeid'].value_counts(normalize = True).round(4) * 100"
      ]
    },
    {
      "cell_type": "code",
      "execution_count": 53,
      "metadata": {
        "id": "tK_9ixWpQ0l-"
      },
      "outputs": [],
      "source": [
        "df.drop('ratecodeid',axis = 1,inplace=True)"
      ]
    },
    {
      "cell_type": "code",
      "execution_count": 54,
      "metadata": {
        "colab": {
          "base_uri": "https://localhost:8080/"
        },
        "id": "TuuoUsWwQ79W",
        "outputId": "abcc0b40-4004-4da6-aff7-5dfc1a43fb62"
      },
      "outputs": [
        {
          "data": {
            "text/plain": [
              "Index(['vendorid', 'tpep_pickup_datetime', 'tpep_dropoff_datetime',\n",
              "       'passenger_count', 'trip_distance', 'store_and_fwd_flag',\n",
              "       'pulocationid', 'dolocationid', 'payment_type', 'fare_amount', 'extra',\n",
              "       'mta_tax', 'tip_amount', 'tolls_amount', 'improvement_surcharge',\n",
              "       'total_amount', 'congestion_surcharge', 'airport_fee', 'day',\n",
              "       'pickup_time', 'dropoff_time', 'duration_seconds', 'duration_minutes'],\n",
              "      dtype='object')"
            ]
          },
          "execution_count": 54,
          "metadata": {},
          "output_type": "execute_result"
        }
      ],
      "source": [
        "df.columns"
      ]
    },
    {
      "cell_type": "code",
      "execution_count": 55,
      "metadata": {
        "colab": {
          "base_uri": "https://localhost:8080/",
          "height": 241
        },
        "id": "KcYQn3Q0Q_qK",
        "outputId": "955d1e81-f06b-4945-f328-6bd696e41b20"
      },
      "outputs": [
        {
          "data": {
            "text/plain": [
              "1    83.34\n",
              "2    15.48\n",
              "4     0.82\n",
              "3     0.36\n",
              "Name: payment_type, dtype: float64"
            ]
          },
          "execution_count": 55,
          "metadata": {},
          "output_type": "execute_result"
        }
      ],
      "source": [
        "df['payment_type'].value_counts(normalize = True).round(4) * 100"
      ]
    },
    {
      "cell_type": "code",
      "execution_count": 56,
      "metadata": {
        "id": "EWlW5UmJREtn"
      },
      "outputs": [],
      "source": [
        "df['payment_type'] = df['payment_type'].replace({3: 2, 4: 2})"
      ]
    },
    {
      "cell_type": "code",
      "execution_count": 57,
      "metadata": {
        "colab": {
          "base_uri": "https://localhost:8080/",
          "height": 178
        },
        "id": "sMPAnnmvRpMP",
        "outputId": "b12524a9-e418-4d52-b31a-5ef29250db89"
      },
      "outputs": [
        {
          "data": {
            "text/plain": [
              "1    83.34\n",
              "2    16.66\n",
              "Name: payment_type, dtype: float64"
            ]
          },
          "execution_count": 57,
          "metadata": {},
          "output_type": "execute_result"
        }
      ],
      "source": [
        "df['payment_type'].value_counts(normalize = True).round(4) * 100"
      ]
    },
    {
      "cell_type": "code",
      "execution_count": 58,
      "metadata": {
        "colab": {
          "base_uri": "https://localhost:8080/",
          "height": 335
        },
        "id": "U6ZJ2FqbRxfO",
        "outputId": "6ce90c5d-0366-448e-9f99-7abcffae72c8"
      },
      "outputs": [
        {
          "data": {
            "text/plain": [
              "count    2562253.000\n",
              "mean          15.721\n",
              "std           11.763\n",
              "min            0.700\n",
              "25%            8.600\n",
              "50%           12.100\n",
              "75%           18.400\n",
              "max         2221.300\n",
              "Name: fare_amount, dtype: float64"
            ]
          },
          "execution_count": 58,
          "metadata": {},
          "output_type": "execute_result"
        }
      ],
      "source": [
        "df['fare_amount'].describe().round(3)"
      ]
    },
    {
      "cell_type": "code",
      "execution_count": 59,
      "metadata": {
        "id": "YYVxwakbSbPA"
      },
      "outputs": [],
      "source": [
        "# df['fare_amount'].quantile(0.99)"
      ]
    },
    {
      "cell_type": "code",
      "execution_count": 60,
      "metadata": {
        "id": "8kNUkSPRSkmz"
      },
      "outputs": [],
      "source": [
        "# df.drop(df[df['fare_amount'] > df['fare_amount'].quantile(0.99)].index, inplace = True)"
      ]
    },
    {
      "cell_type": "code",
      "execution_count": 61,
      "metadata": {
        "colab": {
          "base_uri": "https://localhost:8080/",
          "height": 335
        },
        "id": "_DOnsl3NSqFK",
        "outputId": "db1ec297-babe-4bdc-dcb3-49066602c0e2"
      },
      "outputs": [
        {
          "data": {
            "text/plain": [
              "count    2562253.000\n",
              "mean          15.721\n",
              "std           11.763\n",
              "min            0.700\n",
              "25%            8.600\n",
              "50%           12.100\n",
              "75%           18.400\n",
              "max         2221.300\n",
              "Name: fare_amount, dtype: float64"
            ]
          },
          "execution_count": 61,
          "metadata": {},
          "output_type": "execute_result"
        }
      ],
      "source": [
        "df['fare_amount'].describe().round(3)"
      ]
    },
    {
      "cell_type": "code",
      "execution_count": 62,
      "metadata": {
        "colab": {
          "base_uri": "https://localhost:8080/",
          "height": 335
        },
        "id": "ddpITxZ3Sr2L",
        "outputId": "1f7e91d2-e45b-42a3-c627-307fd5d74d4b"
      },
      "outputs": [
        {
          "data": {
            "text/plain": [
              "count    2562253.000\n",
              "mean          24.101\n",
              "std           15.224\n",
              "min            4.000\n",
              "25%           15.200\n",
              "50%           19.600\n",
              "75%           26.520\n",
              "max         2225.300\n",
              "Name: total_amount, dtype: float64"
            ]
          },
          "execution_count": 62,
          "metadata": {},
          "output_type": "execute_result"
        }
      ],
      "source": [
        "df['total_amount'].describe().round(3)"
      ]
    },
    {
      "cell_type": "code",
      "execution_count": 63,
      "metadata": {
        "id": "bUQz59zPS0sg"
      },
      "outputs": [],
      "source": [
        "# df['total_amount'].quantile(0.9999)"
      ]
    },
    {
      "cell_type": "code",
      "execution_count": 64,
      "metadata": {
        "id": "I-fNFsTVSxTq"
      },
      "outputs": [],
      "source": [
        "# df.drop(df[df['total_amount'] > df['total_amount'].quantile(0.9999)].index, inplace = True)"
      ]
    },
    {
      "cell_type": "code",
      "execution_count": 65,
      "metadata": {
        "colab": {
          "base_uri": "https://localhost:8080/",
          "height": 337
        },
        "id": "iQ5ebom7S6e-",
        "outputId": "3b65940a-d352-41ea-e140-620b8ab7572b"
      },
      "outputs": [
        {
          "data": {
            "text/html": [
              "<div>\n",
              "<style scoped>\n",
              "    .dataframe tbody tr th:only-of-type {\n",
              "        vertical-align: middle;\n",
              "    }\n",
              "\n",
              "    .dataframe tbody tr th {\n",
              "        vertical-align: top;\n",
              "    }\n",
              "\n",
              "    .dataframe thead th {\n",
              "        text-align: right;\n",
              "    }\n",
              "</style>\n",
              "<table border=\"1\" class=\"dataframe\">\n",
              "  <thead>\n",
              "    <tr style=\"text-align: right;\">\n",
              "      <th></th>\n",
              "      <th>vendorid</th>\n",
              "      <th>passenger_count</th>\n",
              "      <th>trip_distance</th>\n",
              "      <th>pulocationid</th>\n",
              "      <th>dolocationid</th>\n",
              "      <th>payment_type</th>\n",
              "      <th>fare_amount</th>\n",
              "      <th>extra</th>\n",
              "      <th>mta_tax</th>\n",
              "      <th>tip_amount</th>\n",
              "      <th>tolls_amount</th>\n",
              "      <th>improvement_surcharge</th>\n",
              "      <th>total_amount</th>\n",
              "      <th>congestion_surcharge</th>\n",
              "      <th>airport_fee</th>\n",
              "      <th>day</th>\n",
              "      <th>duration_seconds</th>\n",
              "      <th>duration_minutes</th>\n",
              "    </tr>\n",
              "  </thead>\n",
              "  <tbody>\n",
              "    <tr>\n",
              "      <th>count</th>\n",
              "      <td>2562253.000</td>\n",
              "      <td>2562253.000</td>\n",
              "      <td>2562253.000</td>\n",
              "      <td>2562253.000</td>\n",
              "      <td>2562253.000</td>\n",
              "      <td>2562253.000</td>\n",
              "      <td>2562253.000</td>\n",
              "      <td>2562253.000</td>\n",
              "      <td>2562253.000</td>\n",
              "      <td>2562253.000</td>\n",
              "      <td>2562253.000</td>\n",
              "      <td>2562253.000</td>\n",
              "      <td>2562253.000</td>\n",
              "      <td>2562253.000</td>\n",
              "      <td>2562253.000</td>\n",
              "      <td>2562253.000</td>\n",
              "      <td>2562253.000</td>\n",
              "      <td>2562253.000</td>\n",
              "    </tr>\n",
              "    <tr>\n",
              "      <th>mean</th>\n",
              "      <td>1.770</td>\n",
              "      <td>1.349</td>\n",
              "      <td>2.588</td>\n",
              "      <td>168.004</td>\n",
              "      <td>166.573</td>\n",
              "      <td>1.167</td>\n",
              "      <td>15.721</td>\n",
              "      <td>1.554</td>\n",
              "      <td>0.500</td>\n",
              "      <td>3.134</td>\n",
              "      <td>0.287</td>\n",
              "      <td>1.000</td>\n",
              "      <td>24.101</td>\n",
              "      <td>2.368</td>\n",
              "      <td>0.102</td>\n",
              "      <td>16.510</td>\n",
              "      <td>802.161</td>\n",
              "      <td>13.369</td>\n",
              "    </tr>\n",
              "    <tr>\n",
              "      <th>std</th>\n",
              "      <td>0.421</td>\n",
              "      <td>0.843</td>\n",
              "      <td>2.981</td>\n",
              "      <td>63.464</td>\n",
              "      <td>68.635</td>\n",
              "      <td>0.373</td>\n",
              "      <td>11.763</td>\n",
              "      <td>1.771</td>\n",
              "      <td>0.014</td>\n",
              "      <td>3.016</td>\n",
              "      <td>1.432</td>\n",
              "      <td>0.008</td>\n",
              "      <td>15.224</td>\n",
              "      <td>0.560</td>\n",
              "      <td>0.410</td>\n",
              "      <td>8.818</td>\n",
              "      <td>607.768</td>\n",
              "      <td>10.129</td>\n",
              "    </tr>\n",
              "    <tr>\n",
              "      <th>min</th>\n",
              "      <td>1.000</td>\n",
              "      <td>1.000</td>\n",
              "      <td>0.010</td>\n",
              "      <td>1.000</td>\n",
              "      <td>1.000</td>\n",
              "      <td>1.000</td>\n",
              "      <td>0.700</td>\n",
              "      <td>0.000</td>\n",
              "      <td>0.000</td>\n",
              "      <td>0.000</td>\n",
              "      <td>0.000</td>\n",
              "      <td>0.000</td>\n",
              "      <td>4.000</td>\n",
              "      <td>0.000</td>\n",
              "      <td>0.000</td>\n",
              "      <td>1.000</td>\n",
              "      <td>1.000</td>\n",
              "      <td>0.017</td>\n",
              "    </tr>\n",
              "    <tr>\n",
              "      <th>25%</th>\n",
              "      <td>2.000</td>\n",
              "      <td>1.000</td>\n",
              "      <td>1.000</td>\n",
              "      <td>137.000</td>\n",
              "      <td>121.000</td>\n",
              "      <td>1.000</td>\n",
              "      <td>8.600</td>\n",
              "      <td>0.000</td>\n",
              "      <td>0.500</td>\n",
              "      <td>1.260</td>\n",
              "      <td>0.000</td>\n",
              "      <td>1.000</td>\n",
              "      <td>15.200</td>\n",
              "      <td>2.500</td>\n",
              "      <td>0.000</td>\n",
              "      <td>9.000</td>\n",
              "      <td>421.000</td>\n",
              "      <td>7.017</td>\n",
              "    </tr>\n",
              "    <tr>\n",
              "      <th>50%</th>\n",
              "      <td>2.000</td>\n",
              "      <td>1.000</td>\n",
              "      <td>1.600</td>\n",
              "      <td>162.000</td>\n",
              "      <td>163.000</td>\n",
              "      <td>1.000</td>\n",
              "      <td>12.100</td>\n",
              "      <td>1.000</td>\n",
              "      <td>0.500</td>\n",
              "      <td>2.800</td>\n",
              "      <td>0.000</td>\n",
              "      <td>1.000</td>\n",
              "      <td>19.600</td>\n",
              "      <td>2.500</td>\n",
              "      <td>0.000</td>\n",
              "      <td>17.000</td>\n",
              "      <td>667.000</td>\n",
              "      <td>11.117</td>\n",
              "    </tr>\n",
              "    <tr>\n",
              "      <th>75%</th>\n",
              "      <td>2.000</td>\n",
              "      <td>1.000</td>\n",
              "      <td>2.770</td>\n",
              "      <td>234.000</td>\n",
              "      <td>236.000</td>\n",
              "      <td>1.000</td>\n",
              "      <td>18.400</td>\n",
              "      <td>2.500</td>\n",
              "      <td>0.500</td>\n",
              "      <td>4.050</td>\n",
              "      <td>0.000</td>\n",
              "      <td>1.000</td>\n",
              "      <td>26.520</td>\n",
              "      <td>2.500</td>\n",
              "      <td>0.000</td>\n",
              "      <td>24.000</td>\n",
              "      <td>1035.000</td>\n",
              "      <td>17.250</td>\n",
              "    </tr>\n",
              "    <tr>\n",
              "      <th>max</th>\n",
              "      <td>2.000</td>\n",
              "      <td>6.000</td>\n",
              "      <td>277.400</td>\n",
              "      <td>265.000</td>\n",
              "      <td>265.000</td>\n",
              "      <td>2.000</td>\n",
              "      <td>2221.300</td>\n",
              "      <td>12.500</td>\n",
              "      <td>4.000</td>\n",
              "      <td>422.700</td>\n",
              "      <td>90.000</td>\n",
              "      <td>1.000</td>\n",
              "      <td>2225.300</td>\n",
              "      <td>2.500</td>\n",
              "      <td>1.750</td>\n",
              "      <td>31.000</td>\n",
              "      <td>86139.000</td>\n",
              "      <td>1435.650</td>\n",
              "    </tr>\n",
              "  </tbody>\n",
              "</table>\n",
              "</div>"
            ],
            "text/plain": [
              "          vendorid  passenger_count  trip_distance  pulocationid  \\\n",
              "count  2562253.000      2562253.000    2562253.000   2562253.000   \n",
              "mean         1.770            1.349          2.588       168.004   \n",
              "std          0.421            0.843          2.981        63.464   \n",
              "min          1.000            1.000          0.010         1.000   \n",
              "25%          2.000            1.000          1.000       137.000   \n",
              "50%          2.000            1.000          1.600       162.000   \n",
              "75%          2.000            1.000          2.770       234.000   \n",
              "max          2.000            6.000        277.400       265.000   \n",
              "\n",
              "       dolocationid  payment_type  fare_amount        extra      mta_tax  \\\n",
              "count   2562253.000   2562253.000  2562253.000  2562253.000  2562253.000   \n",
              "mean        166.573         1.167       15.721        1.554        0.500   \n",
              "std          68.635         0.373       11.763        1.771        0.014   \n",
              "min           1.000         1.000        0.700        0.000        0.000   \n",
              "25%         121.000         1.000        8.600        0.000        0.500   \n",
              "50%         163.000         1.000       12.100        1.000        0.500   \n",
              "75%         236.000         1.000       18.400        2.500        0.500   \n",
              "max         265.000         2.000     2221.300       12.500        4.000   \n",
              "\n",
              "        tip_amount  tolls_amount  improvement_surcharge  total_amount  \\\n",
              "count  2562253.000   2562253.000            2562253.000   2562253.000   \n",
              "mean         3.134         0.287                  1.000        24.101   \n",
              "std          3.016         1.432                  0.008        15.224   \n",
              "min          0.000         0.000                  0.000         4.000   \n",
              "25%          1.260         0.000                  1.000        15.200   \n",
              "50%          2.800         0.000                  1.000        19.600   \n",
              "75%          4.050         0.000                  1.000        26.520   \n",
              "max        422.700        90.000                  1.000      2225.300   \n",
              "\n",
              "       congestion_surcharge  airport_fee          day  duration_seconds  \\\n",
              "count           2562253.000  2562253.000  2562253.000       2562253.000   \n",
              "mean                  2.368        0.102       16.510           802.161   \n",
              "std                   0.560        0.410        8.818           607.768   \n",
              "min                   0.000        0.000        1.000             1.000   \n",
              "25%                   2.500        0.000        9.000           421.000   \n",
              "50%                   2.500        0.000       17.000           667.000   \n",
              "75%                   2.500        0.000       24.000          1035.000   \n",
              "max                   2.500        1.750       31.000         86139.000   \n",
              "\n",
              "       duration_minutes  \n",
              "count       2562253.000  \n",
              "mean             13.369  \n",
              "std              10.129  \n",
              "min               0.017  \n",
              "25%               7.017  \n",
              "50%              11.117  \n",
              "75%              17.250  \n",
              "max            1435.650  "
            ]
          },
          "execution_count": 65,
          "metadata": {},
          "output_type": "execute_result"
        }
      ],
      "source": [
        "df.describe().round(3)"
      ]
    },
    {
      "cell_type": "code",
      "execution_count": 66,
      "metadata": {
        "colab": {
          "base_uri": "https://localhost:8080/",
          "height": 335
        },
        "id": "7EsuBN2PTYDS",
        "outputId": "06697056-691e-4e61-ea17-03c0a8743a50"
      },
      "outputs": [
        {
          "data": {
            "text/plain": [
              "count    2562253.000\n",
              "mean         802.161\n",
              "std          607.768\n",
              "min            1.000\n",
              "25%          421.000\n",
              "50%          667.000\n",
              "75%         1035.000\n",
              "max        86139.000\n",
              "Name: duration_seconds, dtype: float64"
            ]
          },
          "execution_count": 66,
          "metadata": {},
          "output_type": "execute_result"
        }
      ],
      "source": [
        "df['duration_seconds'].describe().round(3)"
      ]
    },
    {
      "cell_type": "code",
      "execution_count": 67,
      "metadata": {
        "id": "U5ROXMREVxTZ"
      },
      "outputs": [],
      "source": [
        "# df['duration_seconds'].quantile(0.9999)"
      ]
    },
    {
      "cell_type": "code",
      "execution_count": 68,
      "metadata": {
        "id": "GelwxMv5V1Cv"
      },
      "outputs": [],
      "source": [
        "# df = df[df['duration_seconds'] < df['duration_seconds'].quantile(0.9999)]"
      ]
    },
    {
      "cell_type": "code",
      "execution_count": 69,
      "metadata": {
        "colab": {
          "base_uri": "https://localhost:8080/"
        },
        "id": "O0kMGekvV5eG",
        "outputId": "28266fb7-77f3-493b-81c7-3ff1fe031fa1"
      },
      "outputs": [
        {
          "data": {
            "text/plain": [
              "(2562253, 23)"
            ]
          },
          "execution_count": 69,
          "metadata": {},
          "output_type": "execute_result"
        }
      ],
      "source": [
        "df.shape"
      ]
    },
    {
      "cell_type": "code",
      "execution_count": 70,
      "metadata": {
        "id": "iiHFSYx1WYR0"
      },
      "outputs": [],
      "source": [
        "sample = df.sample(df.shape[0]//10)"
      ]
    },
    {
      "cell_type": "code",
      "execution_count": 71,
      "metadata": {
        "colab": {
          "base_uri": "https://localhost:8080/"
        },
        "id": "RME4I-PvWuGu",
        "outputId": "3b03942d-6698-466a-883a-72784e983a87"
      },
      "outputs": [
        {
          "data": {
            "text/plain": [
              "2225.3"
            ]
          },
          "execution_count": 71,
          "metadata": {},
          "output_type": "execute_result"
        }
      ],
      "source": [
        "df['total_amount'].max()"
      ]
    },
    {
      "cell_type": "code",
      "execution_count": 72,
      "metadata": {
        "colab": {
          "base_uri": "https://localhost:8080/",
          "height": 255
        },
        "id": "a2cQi6OrXC1a",
        "outputId": "2b806415-9f7a-4c59-daf3-c309049289c2"
      },
      "outputs": [
        {
          "data": {
            "text/html": [
              "<div>\n",
              "<style scoped>\n",
              "    .dataframe tbody tr th:only-of-type {\n",
              "        vertical-align: middle;\n",
              "    }\n",
              "\n",
              "    .dataframe tbody tr th {\n",
              "        vertical-align: top;\n",
              "    }\n",
              "\n",
              "    .dataframe thead th {\n",
              "        text-align: right;\n",
              "    }\n",
              "</style>\n",
              "<table border=\"1\" class=\"dataframe\">\n",
              "  <thead>\n",
              "    <tr style=\"text-align: right;\">\n",
              "      <th></th>\n",
              "      <th>vendorid</th>\n",
              "      <th>tpep_pickup_datetime</th>\n",
              "      <th>tpep_dropoff_datetime</th>\n",
              "      <th>passenger_count</th>\n",
              "      <th>trip_distance</th>\n",
              "      <th>store_and_fwd_flag</th>\n",
              "      <th>pulocationid</th>\n",
              "      <th>dolocationid</th>\n",
              "      <th>payment_type</th>\n",
              "      <th>fare_amount</th>\n",
              "      <th>...</th>\n",
              "      <th>tolls_amount</th>\n",
              "      <th>improvement_surcharge</th>\n",
              "      <th>total_amount</th>\n",
              "      <th>congestion_surcharge</th>\n",
              "      <th>airport_fee</th>\n",
              "      <th>day</th>\n",
              "      <th>pickup_time</th>\n",
              "      <th>dropoff_time</th>\n",
              "      <th>duration_seconds</th>\n",
              "      <th>duration_minutes</th>\n",
              "    </tr>\n",
              "  </thead>\n",
              "  <tbody>\n",
              "    <tr>\n",
              "      <th>0</th>\n",
              "      <td>2</td>\n",
              "      <td>2024-01-01 00:57:55</td>\n",
              "      <td>2024-01-01 01:17:43</td>\n",
              "      <td>1.0</td>\n",
              "      <td>1.72</td>\n",
              "      <td>N</td>\n",
              "      <td>186</td>\n",
              "      <td>79</td>\n",
              "      <td>2</td>\n",
              "      <td>17.7</td>\n",
              "      <td>...</td>\n",
              "      <td>0.0</td>\n",
              "      <td>1.0</td>\n",
              "      <td>22.70</td>\n",
              "      <td>2.5</td>\n",
              "      <td>0.0</td>\n",
              "      <td>1</td>\n",
              "      <td>00:57:55</td>\n",
              "      <td>01:17:43</td>\n",
              "      <td>1188</td>\n",
              "      <td>19.800000</td>\n",
              "    </tr>\n",
              "    <tr>\n",
              "      <th>1</th>\n",
              "      <td>1</td>\n",
              "      <td>2024-01-01 00:03:00</td>\n",
              "      <td>2024-01-01 00:09:36</td>\n",
              "      <td>1.0</td>\n",
              "      <td>1.80</td>\n",
              "      <td>N</td>\n",
              "      <td>140</td>\n",
              "      <td>236</td>\n",
              "      <td>1</td>\n",
              "      <td>10.0</td>\n",
              "      <td>...</td>\n",
              "      <td>0.0</td>\n",
              "      <td>1.0</td>\n",
              "      <td>18.75</td>\n",
              "      <td>2.5</td>\n",
              "      <td>0.0</td>\n",
              "      <td>1</td>\n",
              "      <td>00:03:00</td>\n",
              "      <td>00:09:36</td>\n",
              "      <td>396</td>\n",
              "      <td>6.600000</td>\n",
              "    </tr>\n",
              "    <tr>\n",
              "      <th>2</th>\n",
              "      <td>1</td>\n",
              "      <td>2024-01-01 00:17:06</td>\n",
              "      <td>2024-01-01 00:35:01</td>\n",
              "      <td>1.0</td>\n",
              "      <td>4.70</td>\n",
              "      <td>N</td>\n",
              "      <td>236</td>\n",
              "      <td>79</td>\n",
              "      <td>1</td>\n",
              "      <td>23.3</td>\n",
              "      <td>...</td>\n",
              "      <td>0.0</td>\n",
              "      <td>1.0</td>\n",
              "      <td>31.30</td>\n",
              "      <td>2.5</td>\n",
              "      <td>0.0</td>\n",
              "      <td>1</td>\n",
              "      <td>00:17:06</td>\n",
              "      <td>00:35:01</td>\n",
              "      <td>1075</td>\n",
              "      <td>17.916667</td>\n",
              "    </tr>\n",
              "    <tr>\n",
              "      <th>3</th>\n",
              "      <td>1</td>\n",
              "      <td>2024-01-01 00:36:38</td>\n",
              "      <td>2024-01-01 00:44:56</td>\n",
              "      <td>1.0</td>\n",
              "      <td>1.40</td>\n",
              "      <td>N</td>\n",
              "      <td>79</td>\n",
              "      <td>211</td>\n",
              "      <td>1</td>\n",
              "      <td>10.0</td>\n",
              "      <td>...</td>\n",
              "      <td>0.0</td>\n",
              "      <td>1.0</td>\n",
              "      <td>17.00</td>\n",
              "      <td>2.5</td>\n",
              "      <td>0.0</td>\n",
              "      <td>1</td>\n",
              "      <td>00:36:38</td>\n",
              "      <td>00:44:56</td>\n",
              "      <td>498</td>\n",
              "      <td>8.300000</td>\n",
              "    </tr>\n",
              "    <tr>\n",
              "      <th>4</th>\n",
              "      <td>1</td>\n",
              "      <td>2024-01-01 00:46:51</td>\n",
              "      <td>2024-01-01 00:52:57</td>\n",
              "      <td>1.0</td>\n",
              "      <td>0.80</td>\n",
              "      <td>N</td>\n",
              "      <td>211</td>\n",
              "      <td>148</td>\n",
              "      <td>1</td>\n",
              "      <td>7.9</td>\n",
              "      <td>...</td>\n",
              "      <td>0.0</td>\n",
              "      <td>1.0</td>\n",
              "      <td>16.10</td>\n",
              "      <td>2.5</td>\n",
              "      <td>0.0</td>\n",
              "      <td>1</td>\n",
              "      <td>00:46:51</td>\n",
              "      <td>00:52:57</td>\n",
              "      <td>366</td>\n",
              "      <td>6.100000</td>\n",
              "    </tr>\n",
              "  </tbody>\n",
              "</table>\n",
              "<p>5 rows × 23 columns</p>\n",
              "</div>"
            ],
            "text/plain": [
              "   vendorid tpep_pickup_datetime tpep_dropoff_datetime  passenger_count  \\\n",
              "0         2  2024-01-01 00:57:55   2024-01-01 01:17:43              1.0   \n",
              "1         1  2024-01-01 00:03:00   2024-01-01 00:09:36              1.0   \n",
              "2         1  2024-01-01 00:17:06   2024-01-01 00:35:01              1.0   \n",
              "3         1  2024-01-01 00:36:38   2024-01-01 00:44:56              1.0   \n",
              "4         1  2024-01-01 00:46:51   2024-01-01 00:52:57              1.0   \n",
              "\n",
              "   trip_distance store_and_fwd_flag  pulocationid  dolocationid  payment_type  \\\n",
              "0           1.72                  N           186            79             2   \n",
              "1           1.80                  N           140           236             1   \n",
              "2           4.70                  N           236            79             1   \n",
              "3           1.40                  N            79           211             1   \n",
              "4           0.80                  N           211           148             1   \n",
              "\n",
              "   fare_amount  ...  tolls_amount  improvement_surcharge  total_amount  \\\n",
              "0         17.7  ...           0.0                    1.0         22.70   \n",
              "1         10.0  ...           0.0                    1.0         18.75   \n",
              "2         23.3  ...           0.0                    1.0         31.30   \n",
              "3         10.0  ...           0.0                    1.0         17.00   \n",
              "4          7.9  ...           0.0                    1.0         16.10   \n",
              "\n",
              "   congestion_surcharge  airport_fee  day  pickup_time  dropoff_time  \\\n",
              "0                   2.5          0.0    1     00:57:55      01:17:43   \n",
              "1                   2.5          0.0    1     00:03:00      00:09:36   \n",
              "2                   2.5          0.0    1     00:17:06      00:35:01   \n",
              "3                   2.5          0.0    1     00:36:38      00:44:56   \n",
              "4                   2.5          0.0    1     00:46:51      00:52:57   \n",
              "\n",
              "   duration_seconds duration_minutes  \n",
              "0              1188        19.800000  \n",
              "1               396         6.600000  \n",
              "2              1075        17.916667  \n",
              "3               498         8.300000  \n",
              "4               366         6.100000  \n",
              "\n",
              "[5 rows x 23 columns]"
            ]
          },
          "execution_count": 72,
          "metadata": {},
          "output_type": "execute_result"
        }
      ],
      "source": [
        "df.head()"
      ]
    },
    {
      "cell_type": "code",
      "execution_count": 73,
      "metadata": {
        "colab": {
          "base_uri": "https://localhost:8080/",
          "height": 337
        },
        "id": "taBdViBTXIIw",
        "outputId": "663141da-2116-4dd7-fa30-d37f8a54f245"
      },
      "outputs": [
        {
          "data": {
            "text/html": [
              "<div>\n",
              "<style scoped>\n",
              "    .dataframe tbody tr th:only-of-type {\n",
              "        vertical-align: middle;\n",
              "    }\n",
              "\n",
              "    .dataframe tbody tr th {\n",
              "        vertical-align: top;\n",
              "    }\n",
              "\n",
              "    .dataframe thead th {\n",
              "        text-align: right;\n",
              "    }\n",
              "</style>\n",
              "<table border=\"1\" class=\"dataframe\">\n",
              "  <thead>\n",
              "    <tr style=\"text-align: right;\">\n",
              "      <th></th>\n",
              "      <th>vendorid</th>\n",
              "      <th>passenger_count</th>\n",
              "      <th>trip_distance</th>\n",
              "      <th>pulocationid</th>\n",
              "      <th>dolocationid</th>\n",
              "      <th>payment_type</th>\n",
              "      <th>fare_amount</th>\n",
              "      <th>extra</th>\n",
              "      <th>mta_tax</th>\n",
              "      <th>tip_amount</th>\n",
              "      <th>tolls_amount</th>\n",
              "      <th>improvement_surcharge</th>\n",
              "      <th>total_amount</th>\n",
              "      <th>congestion_surcharge</th>\n",
              "      <th>airport_fee</th>\n",
              "      <th>day</th>\n",
              "      <th>duration_seconds</th>\n",
              "      <th>duration_minutes</th>\n",
              "    </tr>\n",
              "  </thead>\n",
              "  <tbody>\n",
              "    <tr>\n",
              "      <th>count</th>\n",
              "      <td>2562253.000</td>\n",
              "      <td>2562253.000</td>\n",
              "      <td>2562253.000</td>\n",
              "      <td>2562253.000</td>\n",
              "      <td>2562253.000</td>\n",
              "      <td>2562253.000</td>\n",
              "      <td>2562253.000</td>\n",
              "      <td>2562253.000</td>\n",
              "      <td>2562253.000</td>\n",
              "      <td>2562253.000</td>\n",
              "      <td>2562253.000</td>\n",
              "      <td>2562253.000</td>\n",
              "      <td>2562253.000</td>\n",
              "      <td>2562253.000</td>\n",
              "      <td>2562253.000</td>\n",
              "      <td>2562253.000</td>\n",
              "      <td>2562253.000</td>\n",
              "      <td>2562253.000</td>\n",
              "    </tr>\n",
              "    <tr>\n",
              "      <th>mean</th>\n",
              "      <td>1.770</td>\n",
              "      <td>1.349</td>\n",
              "      <td>2.588</td>\n",
              "      <td>168.004</td>\n",
              "      <td>166.573</td>\n",
              "      <td>1.167</td>\n",
              "      <td>15.721</td>\n",
              "      <td>1.554</td>\n",
              "      <td>0.500</td>\n",
              "      <td>3.134</td>\n",
              "      <td>0.287</td>\n",
              "      <td>1.000</td>\n",
              "      <td>24.101</td>\n",
              "      <td>2.368</td>\n",
              "      <td>0.102</td>\n",
              "      <td>16.510</td>\n",
              "      <td>802.161</td>\n",
              "      <td>13.369</td>\n",
              "    </tr>\n",
              "    <tr>\n",
              "      <th>std</th>\n",
              "      <td>0.421</td>\n",
              "      <td>0.843</td>\n",
              "      <td>2.981</td>\n",
              "      <td>63.464</td>\n",
              "      <td>68.635</td>\n",
              "      <td>0.373</td>\n",
              "      <td>11.763</td>\n",
              "      <td>1.771</td>\n",
              "      <td>0.014</td>\n",
              "      <td>3.016</td>\n",
              "      <td>1.432</td>\n",
              "      <td>0.008</td>\n",
              "      <td>15.224</td>\n",
              "      <td>0.560</td>\n",
              "      <td>0.410</td>\n",
              "      <td>8.818</td>\n",
              "      <td>607.768</td>\n",
              "      <td>10.129</td>\n",
              "    </tr>\n",
              "    <tr>\n",
              "      <th>min</th>\n",
              "      <td>1.000</td>\n",
              "      <td>1.000</td>\n",
              "      <td>0.010</td>\n",
              "      <td>1.000</td>\n",
              "      <td>1.000</td>\n",
              "      <td>1.000</td>\n",
              "      <td>0.700</td>\n",
              "      <td>0.000</td>\n",
              "      <td>0.000</td>\n",
              "      <td>0.000</td>\n",
              "      <td>0.000</td>\n",
              "      <td>0.000</td>\n",
              "      <td>4.000</td>\n",
              "      <td>0.000</td>\n",
              "      <td>0.000</td>\n",
              "      <td>1.000</td>\n",
              "      <td>1.000</td>\n",
              "      <td>0.017</td>\n",
              "    </tr>\n",
              "    <tr>\n",
              "      <th>25%</th>\n",
              "      <td>2.000</td>\n",
              "      <td>1.000</td>\n",
              "      <td>1.000</td>\n",
              "      <td>137.000</td>\n",
              "      <td>121.000</td>\n",
              "      <td>1.000</td>\n",
              "      <td>8.600</td>\n",
              "      <td>0.000</td>\n",
              "      <td>0.500</td>\n",
              "      <td>1.260</td>\n",
              "      <td>0.000</td>\n",
              "      <td>1.000</td>\n",
              "      <td>15.200</td>\n",
              "      <td>2.500</td>\n",
              "      <td>0.000</td>\n",
              "      <td>9.000</td>\n",
              "      <td>421.000</td>\n",
              "      <td>7.017</td>\n",
              "    </tr>\n",
              "    <tr>\n",
              "      <th>50%</th>\n",
              "      <td>2.000</td>\n",
              "      <td>1.000</td>\n",
              "      <td>1.600</td>\n",
              "      <td>162.000</td>\n",
              "      <td>163.000</td>\n",
              "      <td>1.000</td>\n",
              "      <td>12.100</td>\n",
              "      <td>1.000</td>\n",
              "      <td>0.500</td>\n",
              "      <td>2.800</td>\n",
              "      <td>0.000</td>\n",
              "      <td>1.000</td>\n",
              "      <td>19.600</td>\n",
              "      <td>2.500</td>\n",
              "      <td>0.000</td>\n",
              "      <td>17.000</td>\n",
              "      <td>667.000</td>\n",
              "      <td>11.117</td>\n",
              "    </tr>\n",
              "    <tr>\n",
              "      <th>75%</th>\n",
              "      <td>2.000</td>\n",
              "      <td>1.000</td>\n",
              "      <td>2.770</td>\n",
              "      <td>234.000</td>\n",
              "      <td>236.000</td>\n",
              "      <td>1.000</td>\n",
              "      <td>18.400</td>\n",
              "      <td>2.500</td>\n",
              "      <td>0.500</td>\n",
              "      <td>4.050</td>\n",
              "      <td>0.000</td>\n",
              "      <td>1.000</td>\n",
              "      <td>26.520</td>\n",
              "      <td>2.500</td>\n",
              "      <td>0.000</td>\n",
              "      <td>24.000</td>\n",
              "      <td>1035.000</td>\n",
              "      <td>17.250</td>\n",
              "    </tr>\n",
              "    <tr>\n",
              "      <th>max</th>\n",
              "      <td>2.000</td>\n",
              "      <td>6.000</td>\n",
              "      <td>277.400</td>\n",
              "      <td>265.000</td>\n",
              "      <td>265.000</td>\n",
              "      <td>2.000</td>\n",
              "      <td>2221.300</td>\n",
              "      <td>12.500</td>\n",
              "      <td>4.000</td>\n",
              "      <td>422.700</td>\n",
              "      <td>90.000</td>\n",
              "      <td>1.000</td>\n",
              "      <td>2225.300</td>\n",
              "      <td>2.500</td>\n",
              "      <td>1.750</td>\n",
              "      <td>31.000</td>\n",
              "      <td>86139.000</td>\n",
              "      <td>1435.650</td>\n",
              "    </tr>\n",
              "  </tbody>\n",
              "</table>\n",
              "</div>"
            ],
            "text/plain": [
              "          vendorid  passenger_count  trip_distance  pulocationid  \\\n",
              "count  2562253.000      2562253.000    2562253.000   2562253.000   \n",
              "mean         1.770            1.349          2.588       168.004   \n",
              "std          0.421            0.843          2.981        63.464   \n",
              "min          1.000            1.000          0.010         1.000   \n",
              "25%          2.000            1.000          1.000       137.000   \n",
              "50%          2.000            1.000          1.600       162.000   \n",
              "75%          2.000            1.000          2.770       234.000   \n",
              "max          2.000            6.000        277.400       265.000   \n",
              "\n",
              "       dolocationid  payment_type  fare_amount        extra      mta_tax  \\\n",
              "count   2562253.000   2562253.000  2562253.000  2562253.000  2562253.000   \n",
              "mean        166.573         1.167       15.721        1.554        0.500   \n",
              "std          68.635         0.373       11.763        1.771        0.014   \n",
              "min           1.000         1.000        0.700        0.000        0.000   \n",
              "25%         121.000         1.000        8.600        0.000        0.500   \n",
              "50%         163.000         1.000       12.100        1.000        0.500   \n",
              "75%         236.000         1.000       18.400        2.500        0.500   \n",
              "max         265.000         2.000     2221.300       12.500        4.000   \n",
              "\n",
              "        tip_amount  tolls_amount  improvement_surcharge  total_amount  \\\n",
              "count  2562253.000   2562253.000            2562253.000   2562253.000   \n",
              "mean         3.134         0.287                  1.000        24.101   \n",
              "std          3.016         1.432                  0.008        15.224   \n",
              "min          0.000         0.000                  0.000         4.000   \n",
              "25%          1.260         0.000                  1.000        15.200   \n",
              "50%          2.800         0.000                  1.000        19.600   \n",
              "75%          4.050         0.000                  1.000        26.520   \n",
              "max        422.700        90.000                  1.000      2225.300   \n",
              "\n",
              "       congestion_surcharge  airport_fee          day  duration_seconds  \\\n",
              "count           2562253.000  2562253.000  2562253.000       2562253.000   \n",
              "mean                  2.368        0.102       16.510           802.161   \n",
              "std                   0.560        0.410        8.818           607.768   \n",
              "min                   0.000        0.000        1.000             1.000   \n",
              "25%                   2.500        0.000        9.000           421.000   \n",
              "50%                   2.500        0.000       17.000           667.000   \n",
              "75%                   2.500        0.000       24.000          1035.000   \n",
              "max                   2.500        1.750       31.000         86139.000   \n",
              "\n",
              "       duration_minutes  \n",
              "count       2562253.000  \n",
              "mean             13.369  \n",
              "std              10.129  \n",
              "min               0.017  \n",
              "25%               7.017  \n",
              "50%              11.117  \n",
              "75%              17.250  \n",
              "max            1435.650  "
            ]
          },
          "execution_count": 73,
          "metadata": {},
          "output_type": "execute_result"
        }
      ],
      "source": [
        "df.describe().round(3)"
      ]
    },
    {
      "cell_type": "code",
      "execution_count": 74,
      "metadata": {
        "colab": {
          "base_uri": "https://localhost:8080/",
          "height": 335
        },
        "id": "4F0lk0lvXKiY",
        "outputId": "08281647-18ef-47fb-e634-42911ed8c87b"
      },
      "outputs": [
        {
          "data": {
            "text/plain": [
              "count    2562253.000\n",
              "mean           0.287\n",
              "std            1.432\n",
              "min            0.000\n",
              "25%            0.000\n",
              "50%            0.000\n",
              "75%            0.000\n",
              "max           90.000\n",
              "Name: tolls_amount, dtype: float64"
            ]
          },
          "execution_count": 74,
          "metadata": {},
          "output_type": "execute_result"
        }
      ],
      "source": [
        "df['tolls_amount'].describe().round(3)"
      ]
    },
    {
      "cell_type": "code",
      "execution_count": 75,
      "metadata": {
        "colab": {
          "base_uri": "https://localhost:8080/"
        },
        "id": "VR6eIy2lX7NI",
        "outputId": "adc6765c-bb45-4ddc-95f7-4f1355cda43f"
      },
      "outputs": [
        {
          "data": {
            "text/plain": [
              "6.94"
            ]
          },
          "execution_count": 75,
          "metadata": {},
          "output_type": "execute_result"
        }
      ],
      "source": [
        "df['tolls_amount'].quantile(0.99)"
      ]
    },
    {
      "cell_type": "code",
      "execution_count": 76,
      "metadata": {
        "id": "TbK76qXzYAmw"
      },
      "outputs": [],
      "source": [
        "df.drop(df[df['tolls_amount'] > df['tolls_amount'].quantile(0.99)].index, inplace = True)"
      ]
    },
    {
      "cell_type": "code",
      "execution_count": 77,
      "metadata": {
        "colab": {
          "base_uri": "https://localhost:8080/",
          "height": 335
        },
        "id": "fg-UXjqvYFXx",
        "outputId": "275fba3e-476e-4bff-9a9f-16af669e1100"
      },
      "outputs": [
        {
          "data": {
            "text/plain": [
              "count    2559834.000\n",
              "mean           3.127\n",
              "std            2.994\n",
              "min            0.000\n",
              "25%            1.260\n",
              "50%            2.800\n",
              "75%            4.050\n",
              "max          422.700\n",
              "Name: tip_amount, dtype: float64"
            ]
          },
          "execution_count": 77,
          "metadata": {},
          "output_type": "execute_result"
        }
      ],
      "source": [
        "df['tip_amount'].describe().round(3)"
      ]
    },
    {
      "cell_type": "code",
      "execution_count": 78,
      "metadata": {
        "colab": {
          "base_uri": "https://localhost:8080/"
        },
        "id": "A6dOv1gSYI2j",
        "outputId": "fac8d6fe-43fd-4af5-f856-24ffba8b6352"
      },
      "outputs": [
        {
          "data": {
            "text/plain": [
              "14.08"
            ]
          },
          "execution_count": 78,
          "metadata": {},
          "output_type": "execute_result"
        }
      ],
      "source": [
        "df['tip_amount'].quantile(0.99)"
      ]
    },
    {
      "cell_type": "code",
      "execution_count": 79,
      "metadata": {
        "id": "hhkexFZLYKc2"
      },
      "outputs": [],
      "source": [
        "df.drop(df[df['tip_amount'] > df['tip_amount'].quantile(0.99)].index, inplace = True)"
      ]
    },
    {
      "cell_type": "code",
      "execution_count": 80,
      "metadata": {
        "colab": {
          "base_uri": "https://localhost:8080/",
          "height": 355
        },
        "id": "dIA7r7jgYLkO",
        "outputId": "3381841f-3a98-489c-fe8f-71353f49e6b2"
      },
      "outputs": [
        {
          "data": {
            "text/html": [
              "<div>\n",
              "<style scoped>\n",
              "    .dataframe tbody tr th:only-of-type {\n",
              "        vertical-align: middle;\n",
              "    }\n",
              "\n",
              "    .dataframe tbody tr th {\n",
              "        vertical-align: top;\n",
              "    }\n",
              "\n",
              "    .dataframe thead th {\n",
              "        text-align: right;\n",
              "    }\n",
              "</style>\n",
              "<table border=\"1\" class=\"dataframe\">\n",
              "  <thead>\n",
              "    <tr style=\"text-align: right;\">\n",
              "      <th></th>\n",
              "      <th>vendorid</th>\n",
              "      <th>passenger_count</th>\n",
              "      <th>trip_distance</th>\n",
              "      <th>pulocationid</th>\n",
              "      <th>dolocationid</th>\n",
              "      <th>payment_type</th>\n",
              "      <th>fare_amount</th>\n",
              "      <th>extra</th>\n",
              "      <th>mta_tax</th>\n",
              "      <th>tip_amount</th>\n",
              "      <th>tolls_amount</th>\n",
              "      <th>improvement_surcharge</th>\n",
              "      <th>total_amount</th>\n",
              "      <th>congestion_surcharge</th>\n",
              "      <th>airport_fee</th>\n",
              "      <th>day</th>\n",
              "      <th>duration_seconds</th>\n",
              "      <th>duration_minutes</th>\n",
              "    </tr>\n",
              "  </thead>\n",
              "  <tbody>\n",
              "    <tr>\n",
              "      <th>count</th>\n",
              "      <td>2534281.000</td>\n",
              "      <td>2534281.000</td>\n",
              "      <td>2534281.000</td>\n",
              "      <td>2534281.000</td>\n",
              "      <td>2534281.000</td>\n",
              "      <td>2534281.000</td>\n",
              "      <td>2534281.000</td>\n",
              "      <td>2534281.000</td>\n",
              "      <td>2534281.000</td>\n",
              "      <td>2534281.000</td>\n",
              "      <td>2534281.000</td>\n",
              "      <td>2534281.000</td>\n",
              "      <td>2534281.000</td>\n",
              "      <td>2534281.000</td>\n",
              "      <td>2534281.000</td>\n",
              "      <td>2534281.000</td>\n",
              "      <td>2534281.000</td>\n",
              "      <td>2534281.000</td>\n",
              "    </tr>\n",
              "    <tr>\n",
              "      <th>mean</th>\n",
              "      <td>1.770</td>\n",
              "      <td>1.349</td>\n",
              "      <td>2.465</td>\n",
              "      <td>168.304</td>\n",
              "      <td>166.805</td>\n",
              "      <td>1.168</td>\n",
              "      <td>15.253</td>\n",
              "      <td>1.528</td>\n",
              "      <td>0.500</td>\n",
              "      <td>2.981</td>\n",
              "      <td>0.238</td>\n",
              "      <td>1.000</td>\n",
              "      <td>23.403</td>\n",
              "      <td>2.376</td>\n",
              "      <td>0.090</td>\n",
              "      <td>16.512</td>\n",
              "      <td>786.002</td>\n",
              "      <td>13.100</td>\n",
              "    </tr>\n",
              "    <tr>\n",
              "      <th>std</th>\n",
              "      <td>0.421</td>\n",
              "      <td>0.843</td>\n",
              "      <td>2.674</td>\n",
              "      <td>63.579</td>\n",
              "      <td>68.536</td>\n",
              "      <td>0.374</td>\n",
              "      <td>10.699</td>\n",
              "      <td>1.734</td>\n",
              "      <td>0.013</td>\n",
              "      <td>2.521</td>\n",
              "      <td>1.259</td>\n",
              "      <td>0.008</td>\n",
              "      <td>13.557</td>\n",
              "      <td>0.543</td>\n",
              "      <td>0.387</td>\n",
              "      <td>8.817</td>\n",
              "      <td>579.047</td>\n",
              "      <td>9.651</td>\n",
              "    </tr>\n",
              "    <tr>\n",
              "      <th>min</th>\n",
              "      <td>1.000</td>\n",
              "      <td>1.000</td>\n",
              "      <td>0.010</td>\n",
              "      <td>1.000</td>\n",
              "      <td>1.000</td>\n",
              "      <td>1.000</td>\n",
              "      <td>0.700</td>\n",
              "      <td>0.000</td>\n",
              "      <td>0.000</td>\n",
              "      <td>0.000</td>\n",
              "      <td>0.000</td>\n",
              "      <td>0.000</td>\n",
              "      <td>4.000</td>\n",
              "      <td>0.000</td>\n",
              "      <td>0.000</td>\n",
              "      <td>1.000</td>\n",
              "      <td>1.000</td>\n",
              "      <td>0.017</td>\n",
              "    </tr>\n",
              "    <tr>\n",
              "      <th>25%</th>\n",
              "      <td>2.000</td>\n",
              "      <td>1.000</td>\n",
              "      <td>0.990</td>\n",
              "      <td>137.000</td>\n",
              "      <td>125.000</td>\n",
              "      <td>1.000</td>\n",
              "      <td>8.600</td>\n",
              "      <td>0.000</td>\n",
              "      <td>0.500</td>\n",
              "      <td>1.200</td>\n",
              "      <td>0.000</td>\n",
              "      <td>1.000</td>\n",
              "      <td>15.120</td>\n",
              "      <td>2.500</td>\n",
              "      <td>0.000</td>\n",
              "      <td>9.000</td>\n",
              "      <td>418.000</td>\n",
              "      <td>6.967</td>\n",
              "    </tr>\n",
              "    <tr>\n",
              "      <th>50%</th>\n",
              "      <td>2.000</td>\n",
              "      <td>1.000</td>\n",
              "      <td>1.600</td>\n",
              "      <td>162.000</td>\n",
              "      <td>163.000</td>\n",
              "      <td>1.000</td>\n",
              "      <td>12.100</td>\n",
              "      <td>1.000</td>\n",
              "      <td>0.500</td>\n",
              "      <td>2.750</td>\n",
              "      <td>0.000</td>\n",
              "      <td>1.000</td>\n",
              "      <td>19.320</td>\n",
              "      <td>2.500</td>\n",
              "      <td>0.000</td>\n",
              "      <td>17.000</td>\n",
              "      <td>661.000</td>\n",
              "      <td>11.017</td>\n",
              "    </tr>\n",
              "    <tr>\n",
              "      <th>75%</th>\n",
              "      <td>2.000</td>\n",
              "      <td>1.000</td>\n",
              "      <td>2.700</td>\n",
              "      <td>234.000</td>\n",
              "      <td>236.000</td>\n",
              "      <td>1.000</td>\n",
              "      <td>17.700</td>\n",
              "      <td>2.500</td>\n",
              "      <td>0.500</td>\n",
              "      <td>4.000</td>\n",
              "      <td>0.000</td>\n",
              "      <td>1.000</td>\n",
              "      <td>26.220</td>\n",
              "      <td>2.500</td>\n",
              "      <td>0.000</td>\n",
              "      <td>24.000</td>\n",
              "      <td>1020.000</td>\n",
              "      <td>17.000</td>\n",
              "    </tr>\n",
              "    <tr>\n",
              "      <th>max</th>\n",
              "      <td>2.000</td>\n",
              "      <td>6.000</td>\n",
              "      <td>277.400</td>\n",
              "      <td>265.000</td>\n",
              "      <td>265.000</td>\n",
              "      <td>2.000</td>\n",
              "      <td>2221.300</td>\n",
              "      <td>12.500</td>\n",
              "      <td>4.000</td>\n",
              "      <td>14.080</td>\n",
              "      <td>6.940</td>\n",
              "      <td>1.000</td>\n",
              "      <td>2225.300</td>\n",
              "      <td>2.500</td>\n",
              "      <td>1.750</td>\n",
              "      <td>31.000</td>\n",
              "      <td>86139.000</td>\n",
              "      <td>1435.650</td>\n",
              "    </tr>\n",
              "  </tbody>\n",
              "</table>\n",
              "</div>"
            ],
            "text/plain": [
              "          vendorid  passenger_count  trip_distance  pulocationid  \\\n",
              "count  2534281.000      2534281.000    2534281.000   2534281.000   \n",
              "mean         1.770            1.349          2.465       168.304   \n",
              "std          0.421            0.843          2.674        63.579   \n",
              "min          1.000            1.000          0.010         1.000   \n",
              "25%          2.000            1.000          0.990       137.000   \n",
              "50%          2.000            1.000          1.600       162.000   \n",
              "75%          2.000            1.000          2.700       234.000   \n",
              "max          2.000            6.000        277.400       265.000   \n",
              "\n",
              "       dolocationid  payment_type  fare_amount        extra      mta_tax  \\\n",
              "count   2534281.000   2534281.000  2534281.000  2534281.000  2534281.000   \n",
              "mean        166.805         1.168       15.253        1.528        0.500   \n",
              "std          68.536         0.374       10.699        1.734        0.013   \n",
              "min           1.000         1.000        0.700        0.000        0.000   \n",
              "25%         125.000         1.000        8.600        0.000        0.500   \n",
              "50%         163.000         1.000       12.100        1.000        0.500   \n",
              "75%         236.000         1.000       17.700        2.500        0.500   \n",
              "max         265.000         2.000     2221.300       12.500        4.000   \n",
              "\n",
              "        tip_amount  tolls_amount  improvement_surcharge  total_amount  \\\n",
              "count  2534281.000   2534281.000            2534281.000   2534281.000   \n",
              "mean         2.981         0.238                  1.000        23.403   \n",
              "std          2.521         1.259                  0.008        13.557   \n",
              "min          0.000         0.000                  0.000         4.000   \n",
              "25%          1.200         0.000                  1.000        15.120   \n",
              "50%          2.750         0.000                  1.000        19.320   \n",
              "75%          4.000         0.000                  1.000        26.220   \n",
              "max         14.080         6.940                  1.000      2225.300   \n",
              "\n",
              "       congestion_surcharge  airport_fee          day  duration_seconds  \\\n",
              "count           2534281.000  2534281.000  2534281.000       2534281.000   \n",
              "mean                  2.376        0.090       16.512           786.002   \n",
              "std                   0.543        0.387        8.817           579.047   \n",
              "min                   0.000        0.000        1.000             1.000   \n",
              "25%                   2.500        0.000        9.000           418.000   \n",
              "50%                   2.500        0.000       17.000           661.000   \n",
              "75%                   2.500        0.000       24.000          1020.000   \n",
              "max                   2.500        1.750       31.000         86139.000   \n",
              "\n",
              "       duration_minutes  \n",
              "count       2534281.000  \n",
              "mean             13.100  \n",
              "std               9.651  \n",
              "min               0.017  \n",
              "25%               6.967  \n",
              "50%              11.017  \n",
              "75%              17.000  \n",
              "max            1435.650  "
            ]
          },
          "execution_count": 80,
          "metadata": {},
          "output_type": "execute_result"
        }
      ],
      "source": [
        "df.describe().round(3)"
      ]
    },
    {
      "cell_type": "code",
      "execution_count": 81,
      "metadata": {
        "id": "fCZbuHZFYQdZ"
      },
      "outputs": [],
      "source": [
        "df.drop('total_amount',axis = 1,inplace=True)\n",
        "\n",
        "# Fare amount (fare_amount): The base charge for the ride.\n",
        "# Additional charges (extra): Any additional charges not included in the fare.\n",
        "# MTA tax (mta_tax): The Metropolitan Transportation Authority tax.\n",
        "# Tip amount (tip_amount): The amount given as a tip to the driver.\n",
        "# Tolls amount (tolls_amount): Any tolls incurred during the trip.\n",
        "# Improvement surcharge (improvement_surcharge): A surcharge for improving the taxi service.\n",
        "# Congestion surcharge (congestion_surcharge): A fee added in certain congested areas.\n",
        "# Airport fee (Airport_fee): An additional fee for trips to or from the airport."
      ]
    },
    {
      "cell_type": "code",
      "execution_count": 82,
      "metadata": {
        "id": "49wIb56YYt7q"
      },
      "outputs": [],
      "source": [
        "df['total_amount'] = df['fare_amount'] + df['extra'] + df['mta_tax'] + df['tip_amount'] + df['tolls_amount'] + df['improvement_surcharge'] + df['congestion_surcharge'] + df['airport_fee']"
      ]
    },
    {
      "cell_type": "code",
      "execution_count": 83,
      "metadata": {
        "colab": {
          "base_uri": "https://localhost:8080/",
          "height": 355
        },
        "id": "nw1Js9zCZBPy",
        "outputId": "ad5ba37d-b865-46ea-9959-9490adf9a414"
      },
      "outputs": [
        {
          "data": {
            "text/html": [
              "<div>\n",
              "<style scoped>\n",
              "    .dataframe tbody tr th:only-of-type {\n",
              "        vertical-align: middle;\n",
              "    }\n",
              "\n",
              "    .dataframe tbody tr th {\n",
              "        vertical-align: top;\n",
              "    }\n",
              "\n",
              "    .dataframe thead th {\n",
              "        text-align: right;\n",
              "    }\n",
              "</style>\n",
              "<table border=\"1\" class=\"dataframe\">\n",
              "  <thead>\n",
              "    <tr style=\"text-align: right;\">\n",
              "      <th></th>\n",
              "      <th>vendorid</th>\n",
              "      <th>passenger_count</th>\n",
              "      <th>trip_distance</th>\n",
              "      <th>pulocationid</th>\n",
              "      <th>dolocationid</th>\n",
              "      <th>payment_type</th>\n",
              "      <th>fare_amount</th>\n",
              "      <th>extra</th>\n",
              "      <th>mta_tax</th>\n",
              "      <th>tip_amount</th>\n",
              "      <th>tolls_amount</th>\n",
              "      <th>improvement_surcharge</th>\n",
              "      <th>congestion_surcharge</th>\n",
              "      <th>airport_fee</th>\n",
              "      <th>day</th>\n",
              "      <th>duration_seconds</th>\n",
              "      <th>duration_minutes</th>\n",
              "      <th>total_amount</th>\n",
              "    </tr>\n",
              "  </thead>\n",
              "  <tbody>\n",
              "    <tr>\n",
              "      <th>count</th>\n",
              "      <td>2534281.000</td>\n",
              "      <td>2534281.000</td>\n",
              "      <td>2534281.000</td>\n",
              "      <td>2534281.000</td>\n",
              "      <td>2534281.000</td>\n",
              "      <td>2534281.000</td>\n",
              "      <td>2534281.000</td>\n",
              "      <td>2534281.000</td>\n",
              "      <td>2534281.000</td>\n",
              "      <td>2534281.000</td>\n",
              "      <td>2534281.000</td>\n",
              "      <td>2534281.000</td>\n",
              "      <td>2534281.000</td>\n",
              "      <td>2534281.000</td>\n",
              "      <td>2534281.000</td>\n",
              "      <td>2534281.000</td>\n",
              "      <td>2534281.000</td>\n",
              "      <td>2534281.000</td>\n",
              "    </tr>\n",
              "    <tr>\n",
              "      <th>mean</th>\n",
              "      <td>1.770</td>\n",
              "      <td>1.349</td>\n",
              "      <td>2.465</td>\n",
              "      <td>168.304</td>\n",
              "      <td>166.805</td>\n",
              "      <td>1.168</td>\n",
              "      <td>15.253</td>\n",
              "      <td>1.528</td>\n",
              "      <td>0.500</td>\n",
              "      <td>2.981</td>\n",
              "      <td>0.238</td>\n",
              "      <td>1.000</td>\n",
              "      <td>2.376</td>\n",
              "      <td>0.090</td>\n",
              "      <td>16.512</td>\n",
              "      <td>786.002</td>\n",
              "      <td>13.100</td>\n",
              "      <td>23.966</td>\n",
              "    </tr>\n",
              "    <tr>\n",
              "      <th>std</th>\n",
              "      <td>0.421</td>\n",
              "      <td>0.843</td>\n",
              "      <td>2.674</td>\n",
              "      <td>63.579</td>\n",
              "      <td>68.536</td>\n",
              "      <td>0.374</td>\n",
              "      <td>10.699</td>\n",
              "      <td>1.734</td>\n",
              "      <td>0.013</td>\n",
              "      <td>2.521</td>\n",
              "      <td>1.259</td>\n",
              "      <td>0.008</td>\n",
              "      <td>0.543</td>\n",
              "      <td>0.387</td>\n",
              "      <td>8.817</td>\n",
              "      <td>579.047</td>\n",
              "      <td>9.651</td>\n",
              "      <td>13.576</td>\n",
              "    </tr>\n",
              "    <tr>\n",
              "      <th>min</th>\n",
              "      <td>1.000</td>\n",
              "      <td>1.000</td>\n",
              "      <td>0.010</td>\n",
              "      <td>1.000</td>\n",
              "      <td>1.000</td>\n",
              "      <td>1.000</td>\n",
              "      <td>0.700</td>\n",
              "      <td>0.000</td>\n",
              "      <td>0.000</td>\n",
              "      <td>0.000</td>\n",
              "      <td>0.000</td>\n",
              "      <td>0.000</td>\n",
              "      <td>0.000</td>\n",
              "      <td>0.000</td>\n",
              "      <td>1.000</td>\n",
              "      <td>1.000</td>\n",
              "      <td>0.017</td>\n",
              "      <td>4.000</td>\n",
              "    </tr>\n",
              "    <tr>\n",
              "      <th>25%</th>\n",
              "      <td>2.000</td>\n",
              "      <td>1.000</td>\n",
              "      <td>0.990</td>\n",
              "      <td>137.000</td>\n",
              "      <td>125.000</td>\n",
              "      <td>1.000</td>\n",
              "      <td>8.600</td>\n",
              "      <td>0.000</td>\n",
              "      <td>0.500</td>\n",
              "      <td>1.200</td>\n",
              "      <td>0.000</td>\n",
              "      <td>1.000</td>\n",
              "      <td>2.500</td>\n",
              "      <td>0.000</td>\n",
              "      <td>9.000</td>\n",
              "      <td>418.000</td>\n",
              "      <td>6.967</td>\n",
              "      <td>15.800</td>\n",
              "    </tr>\n",
              "    <tr>\n",
              "      <th>50%</th>\n",
              "      <td>2.000</td>\n",
              "      <td>1.000</td>\n",
              "      <td>1.600</td>\n",
              "      <td>162.000</td>\n",
              "      <td>163.000</td>\n",
              "      <td>1.000</td>\n",
              "      <td>12.100</td>\n",
              "      <td>1.000</td>\n",
              "      <td>0.500</td>\n",
              "      <td>2.750</td>\n",
              "      <td>0.000</td>\n",
              "      <td>1.000</td>\n",
              "      <td>2.500</td>\n",
              "      <td>0.000</td>\n",
              "      <td>17.000</td>\n",
              "      <td>661.000</td>\n",
              "      <td>11.017</td>\n",
              "      <td>20.100</td>\n",
              "    </tr>\n",
              "    <tr>\n",
              "      <th>75%</th>\n",
              "      <td>2.000</td>\n",
              "      <td>1.000</td>\n",
              "      <td>2.700</td>\n",
              "      <td>234.000</td>\n",
              "      <td>236.000</td>\n",
              "      <td>1.000</td>\n",
              "      <td>17.700</td>\n",
              "      <td>2.500</td>\n",
              "      <td>0.500</td>\n",
              "      <td>4.000</td>\n",
              "      <td>0.000</td>\n",
              "      <td>1.000</td>\n",
              "      <td>2.500</td>\n",
              "      <td>0.000</td>\n",
              "      <td>24.000</td>\n",
              "      <td>1020.000</td>\n",
              "      <td>17.000</td>\n",
              "      <td>26.880</td>\n",
              "    </tr>\n",
              "    <tr>\n",
              "      <th>max</th>\n",
              "      <td>2.000</td>\n",
              "      <td>6.000</td>\n",
              "      <td>277.400</td>\n",
              "      <td>265.000</td>\n",
              "      <td>265.000</td>\n",
              "      <td>2.000</td>\n",
              "      <td>2221.300</td>\n",
              "      <td>12.500</td>\n",
              "      <td>4.000</td>\n",
              "      <td>14.080</td>\n",
              "      <td>6.940</td>\n",
              "      <td>1.000</td>\n",
              "      <td>2.500</td>\n",
              "      <td>1.750</td>\n",
              "      <td>31.000</td>\n",
              "      <td>86139.000</td>\n",
              "      <td>1435.650</td>\n",
              "      <td>2225.300</td>\n",
              "    </tr>\n",
              "  </tbody>\n",
              "</table>\n",
              "</div>"
            ],
            "text/plain": [
              "          vendorid  passenger_count  trip_distance  pulocationid  \\\n",
              "count  2534281.000      2534281.000    2534281.000   2534281.000   \n",
              "mean         1.770            1.349          2.465       168.304   \n",
              "std          0.421            0.843          2.674        63.579   \n",
              "min          1.000            1.000          0.010         1.000   \n",
              "25%          2.000            1.000          0.990       137.000   \n",
              "50%          2.000            1.000          1.600       162.000   \n",
              "75%          2.000            1.000          2.700       234.000   \n",
              "max          2.000            6.000        277.400       265.000   \n",
              "\n",
              "       dolocationid  payment_type  fare_amount        extra      mta_tax  \\\n",
              "count   2534281.000   2534281.000  2534281.000  2534281.000  2534281.000   \n",
              "mean        166.805         1.168       15.253        1.528        0.500   \n",
              "std          68.536         0.374       10.699        1.734        0.013   \n",
              "min           1.000         1.000        0.700        0.000        0.000   \n",
              "25%         125.000         1.000        8.600        0.000        0.500   \n",
              "50%         163.000         1.000       12.100        1.000        0.500   \n",
              "75%         236.000         1.000       17.700        2.500        0.500   \n",
              "max         265.000         2.000     2221.300       12.500        4.000   \n",
              "\n",
              "        tip_amount  tolls_amount  improvement_surcharge  congestion_surcharge  \\\n",
              "count  2534281.000   2534281.000            2534281.000           2534281.000   \n",
              "mean         2.981         0.238                  1.000                 2.376   \n",
              "std          2.521         1.259                  0.008                 0.543   \n",
              "min          0.000         0.000                  0.000                 0.000   \n",
              "25%          1.200         0.000                  1.000                 2.500   \n",
              "50%          2.750         0.000                  1.000                 2.500   \n",
              "75%          4.000         0.000                  1.000                 2.500   \n",
              "max         14.080         6.940                  1.000                 2.500   \n",
              "\n",
              "       airport_fee          day  duration_seconds  duration_minutes  \\\n",
              "count  2534281.000  2534281.000       2534281.000       2534281.000   \n",
              "mean         0.090       16.512           786.002            13.100   \n",
              "std          0.387        8.817           579.047             9.651   \n",
              "min          0.000        1.000             1.000             0.017   \n",
              "25%          0.000        9.000           418.000             6.967   \n",
              "50%          0.000       17.000           661.000            11.017   \n",
              "75%          0.000       24.000          1020.000            17.000   \n",
              "max          1.750       31.000         86139.000          1435.650   \n",
              "\n",
              "       total_amount  \n",
              "count   2534281.000  \n",
              "mean         23.966  \n",
              "std          13.576  \n",
              "min           4.000  \n",
              "25%          15.800  \n",
              "50%          20.100  \n",
              "75%          26.880  \n",
              "max        2225.300  "
            ]
          },
          "execution_count": 83,
          "metadata": {},
          "output_type": "execute_result"
        }
      ],
      "source": [
        "df.describe().round(3)"
      ]
    },
    {
      "cell_type": "code",
      "execution_count": 84,
      "metadata": {},
      "outputs": [
        {
          "data": {
            "text/plain": [
              "N    99.62\n",
              "Y     0.38\n",
              "Name: store_and_fwd_flag, dtype: float64"
            ]
          },
          "execution_count": 84,
          "metadata": {},
          "output_type": "execute_result"
        }
      ],
      "source": [
        "df['store_and_fwd_flag'].value_counts(normalize = True).round(4) * 100"
      ]
    },
    {
      "cell_type": "code",
      "execution_count": 85,
      "metadata": {},
      "outputs": [],
      "source": [
        "df.drop('store_and_fwd_flag',axis = 1,inplace=True)"
      ]
    },
    {
      "cell_type": "code",
      "execution_count": 91,
      "metadata": {},
      "outputs": [
        {
          "data": {
            "text/plain": [
              "2534281"
            ]
          },
          "execution_count": 91,
          "metadata": {},
          "output_type": "execute_result"
        }
      ],
      "source": [
        "df.shape[0]"
      ]
    },
    {
      "cell_type": "code",
      "execution_count": 99,
      "metadata": {},
      "outputs": [
        {
          "name": "stdout",
          "output_type": "stream",
          "text": [
            "The Percentage of Data Loss =  14.52 %\n"
          ]
        }
      ],
      "source": [
        "print('The Percentage of Data Loss = ',((1- (2534281 / 2964624)).__round__(4)*100),'%')"
      ]
    },
    {
      "cell_type": "code",
      "execution_count": 100,
      "metadata": {},
      "outputs": [],
      "source": [
        "df.to_csv('cleaned_data.csv',index = False)"
      ]
    }
  ],
  "metadata": {
    "accelerator": "GPU",
    "colab": {
      "gpuType": "T4",
      "provenance": []
    },
    "kernelspec": {
      "display_name": "Python 3",
      "name": "python3"
    },
    "language_info": {
      "codemirror_mode": {
        "name": "ipython",
        "version": 3
      },
      "file_extension": ".py",
      "mimetype": "text/x-python",
      "name": "python",
      "nbconvert_exporter": "python",
      "pygments_lexer": "ipython3",
      "version": "3.11.3"
    }
  },
  "nbformat": 4,
  "nbformat_minor": 0
}
