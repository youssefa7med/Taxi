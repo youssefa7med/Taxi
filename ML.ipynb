{
  "cells": [
    {
      "cell_type": "markdown",
      "metadata": {
        "id": "52lmkYwQLowz"
      },
      "source": [
        "# Access Data from [Data](https://www.nyc.gov/site/tlc/about/tlc-trip-record-data.page)"
      ]
    },
    {
      "cell_type": "markdown",
      "metadata": {
        "id": "cH20qHmOLow1"
      },
      "source": [
        "### Newyork Yellow Taxi Data Analysis (01/2024)"
      ]
    },
    {
      "cell_type": "markdown",
      "metadata": {
        "id": "GANLC7yNLow1"
      },
      "source": [
        "!['Photo'](taxi.jpg)"
      ]
    },
    {
      "cell_type": "markdown",
      "metadata": {
        "id": "dgi7PFbOLow2"
      },
      "source": [
        "| **#** | **Column**               | **Dtype**         | **Description**                                      |\n",
        "|-------|--------------------------|-------------------|------------------------------------------------------|\n",
        "| 0     | `VendorID`               | `int32`           | Taxi service provider ID.                            |\n",
        "| 1     | `tpep_pickup_datetime`   | `datetime64[ns]`  | Pickup date and time.                                |\n",
        "| 2     | `tpep_dropoff_datetime`  | `datetime64[ns]`  | Dropoff date and time.                               |\n",
        "| 3     | `passenger_count`        | `float64`         | Number of passengers.                                |\n",
        "| 4     | `trip_distance`          | `float64`         | Distance of the trip.                                |\n",
        "| 5     | `RatecodeID`             | `float64`         | Rate code ID.                                        |\n",
        "| 6     | `store_and_fwd_flag`     | `object`          | Flag for storing trip data before sending.           |\n",
        "| 7     | `PULocationID`           | `int32`           | Pickup location ID.                                  |\n",
        "| 8     | `DOLocationID`           | `int32`           | Dropoff location ID.                                 |\n",
        "| 9     | `payment_type`           | `int64`           | Payment method ID.                                   |\n",
        "| 10    | `fare_amount`            | `float64`         | Fare amount.                                         |\n",
        "| 11    | `extra`                  | `float64`         | Additional charges.                                  |\n",
        "| 12    | `mta_tax`                | `float64`         | MTA tax amount.                                      |\n",
        "| 13    | `tip_amount`             | `float64`         | Tip amount.                                          |\n",
        "| 14    | `tolls_amount`           | `float64`         | Tolls amount.                                        |\n",
        "| 15    | `improvement_surcharge`  | `float64`         | Improvement surcharge.                               |\n",
        "| 16    | `total_amount`           | `float64`         | Total amount charged.                                |\n",
        "| 17    | `congestion_surcharge`   | `float64`         | Congestion surcharge.                                |\n",
        "| 18    | `Airport_fee`            | `float64`         | Airport fee.                                         |\n"
      ]
    },
    {
      "cell_type": "markdown",
      "metadata": {
        "id": "CR9s8Q32Low3"
      },
      "source": [
        "-------------------------------------------"
      ]
    },
    {
      "cell_type": "markdown",
      "metadata": {
        "id": "9EHbuXfkLow4"
      },
      "source": [
        "# Import Important Libraries"
      ]
    },
    {
      "cell_type": "code",
      "execution_count": 2,
      "metadata": {
        "id": "dLCBzHoI9alH"
      },
      "outputs": [],
      "source": [
        "import numpy as np\n",
        "import pandas as pd\n",
        "import matplotlib.pyplot as plt\n",
        "import seaborn as sns\n",
        "import plotly.express as px\n",
        "from sklearn.model_selection import train_test_split\n",
        "from sklearn.linear_model import LinearRegression\n",
        "from sklearn.metrics import mean_squared_error, r2_score, mean_absolute_error\n",
        "from sklearn.preprocessing import RobustScaler , OneHotEncoder\n",
        "from category_encoders import BinaryEncoder\n",
        "from sklearn.model_selection import GridSearchCV\n",
        "from sklearn.pipeline import Pipeline\n",
        "from sklearn.compose import ColumnTransformer\n",
        "from sklearn.model_selection import cross_val_score\n",
        "from tabulate import tabulate"
      ]
    },
    {
      "cell_type": "markdown",
      "metadata": {
        "id": "UJzrsAnbLow6"
      },
      "source": [
        "-------------------------------------------"
      ]
    },
    {
      "cell_type": "markdown",
      "metadata": {
        "id": "lFdAjHHkLow6"
      },
      "source": [
        "# Load the data\n"
      ]
    },
    {
      "cell_type": "code",
      "execution_count": 3,
      "metadata": {
        "id": "eyD6O_B3AErX"
      },
      "outputs": [],
      "source": [
        "df = pd.read_csv('cleaned_data.csv', engine='python', delimiter=',', on_bad_lines='skip')"
      ]
    },
    {
      "cell_type": "markdown",
      "metadata": {
        "id": "4pFB2KuVLow7"
      },
      "source": [
        "-------------------------------------------"
      ]
    },
    {
      "cell_type": "markdown",
      "metadata": {
        "id": "mzrUDNFELow8"
      },
      "source": [
        "# Overview of the data"
      ]
    },
    {
      "cell_type": "code",
      "execution_count": 24,
      "metadata": {
        "colab": {
          "base_uri": "https://localhost:8080/"
        },
        "id": "pCTSboG_Low8",
        "outputId": "01a3b1d0-9465-449e-be46-bccc3b0bd001"
      },
      "outputs": [
        {
          "output_type": "execute_result",
          "data": {
            "text/plain": [
              "Index(['vendorid', 'tpep_pickup_datetime', 'tpep_dropoff_datetime',\n",
              "       'passenger_count', 'trip_distance', 'pulocationid', 'dolocationid',\n",
              "       'payment_type', 'fare_amount', 'extra', 'mta_tax', 'tip_amount',\n",
              "       'tolls_amount', 'improvement_surcharge', 'congestion_surcharge',\n",
              "       'airport_fee', 'day', 'pickup_time', 'dropoff_time', 'duration_seconds',\n",
              "       'duration_minutes', 'total_amount'],\n",
              "      dtype='object')"
            ]
          },
          "metadata": {},
          "execution_count": 24
        }
      ],
      "source": [
        "df.columns"
      ]
    },
    {
      "cell_type": "code",
      "execution_count": 13,
      "metadata": {
        "colab": {
          "base_uri": "https://localhost:8080/"
        },
        "id": "aYRRV8hnAS18",
        "outputId": "4338d359-1517-4b82-a71b-fc05d92165b2"
      },
      "outputs": [
        {
          "output_type": "stream",
          "name": "stdout",
          "text": [
            "<class 'pandas.core.frame.DataFrame'>\n",
            "RangeIndex: 449610 entries, 0 to 449609\n",
            "Data columns (total 22 columns):\n",
            " #   Column                 Non-Null Count   Dtype  \n",
            "---  ------                 --------------   -----  \n",
            " 0   vendorid               449610 non-null  int64  \n",
            " 1   tpep_pickup_datetime   449610 non-null  object \n",
            " 2   tpep_dropoff_datetime  449610 non-null  object \n",
            " 3   passenger_count        449610 non-null  float64\n",
            " 4   trip_distance          449610 non-null  float64\n",
            " 5   pulocationid           449610 non-null  int64  \n",
            " 6   dolocationid           449610 non-null  int64  \n",
            " 7   payment_type           449610 non-null  int64  \n",
            " 8   fare_amount            449610 non-null  float64\n",
            " 9   extra                  449610 non-null  float64\n",
            " 10  mta_tax                449610 non-null  float64\n",
            " 11  tip_amount             449609 non-null  float64\n",
            " 12  tolls_amount           449609 non-null  float64\n",
            " 13  improvement_surcharge  449609 non-null  float64\n",
            " 14  congestion_surcharge   449609 non-null  float64\n",
            " 15  airport_fee            449609 non-null  float64\n",
            " 16  day                    449609 non-null  float64\n",
            " 17  pickup_time            449609 non-null  object \n",
            " 18  dropoff_time           449609 non-null  object \n",
            " 19  duration_seconds       449609 non-null  float64\n",
            " 20  duration_minutes       449609 non-null  float64\n",
            " 21  total_amount           449609 non-null  float64\n",
            "dtypes: float64(14), int64(4), object(4)\n",
            "memory usage: 75.5+ MB\n"
          ]
        }
      ],
      "source": [
        "df.info()"
      ]
    },
    {
      "cell_type": "code",
      "execution_count": 25,
      "metadata": {
        "colab": {
          "base_uri": "https://localhost:8080/",
          "height": 774
        },
        "id": "nkYWZUAyEZrN",
        "outputId": "4bed3472-d65e-4245-cec1-54fb3bf1a5af"
      },
      "outputs": [
        {
          "output_type": "execute_result",
          "data": {
            "text/plain": [
              "vendorid                 0\n",
              "tpep_pickup_datetime     0\n",
              "tpep_dropoff_datetime    0\n",
              "passenger_count          0\n",
              "trip_distance            0\n",
              "pulocationid             0\n",
              "dolocationid             0\n",
              "payment_type             0\n",
              "fare_amount              0\n",
              "extra                    0\n",
              "mta_tax                  0\n",
              "tip_amount               0\n",
              "tolls_amount             0\n",
              "improvement_surcharge    0\n",
              "congestion_surcharge     0\n",
              "airport_fee              0\n",
              "day                      0\n",
              "pickup_time              0\n",
              "dropoff_time             0\n",
              "duration_seconds         0\n",
              "duration_minutes         0\n",
              "total_amount             0\n",
              "dtype: int64"
            ],
            "text/html": [
              "<div>\n",
              "<style scoped>\n",
              "    .dataframe tbody tr th:only-of-type {\n",
              "        vertical-align: middle;\n",
              "    }\n",
              "\n",
              "    .dataframe tbody tr th {\n",
              "        vertical-align: top;\n",
              "    }\n",
              "\n",
              "    .dataframe thead th {\n",
              "        text-align: right;\n",
              "    }\n",
              "</style>\n",
              "<table border=\"1\" class=\"dataframe\">\n",
              "  <thead>\n",
              "    <tr style=\"text-align: right;\">\n",
              "      <th></th>\n",
              "      <th>0</th>\n",
              "    </tr>\n",
              "  </thead>\n",
              "  <tbody>\n",
              "    <tr>\n",
              "      <th>vendorid</th>\n",
              "      <td>0</td>\n",
              "    </tr>\n",
              "    <tr>\n",
              "      <th>tpep_pickup_datetime</th>\n",
              "      <td>0</td>\n",
              "    </tr>\n",
              "    <tr>\n",
              "      <th>tpep_dropoff_datetime</th>\n",
              "      <td>0</td>\n",
              "    </tr>\n",
              "    <tr>\n",
              "      <th>passenger_count</th>\n",
              "      <td>0</td>\n",
              "    </tr>\n",
              "    <tr>\n",
              "      <th>trip_distance</th>\n",
              "      <td>0</td>\n",
              "    </tr>\n",
              "    <tr>\n",
              "      <th>pulocationid</th>\n",
              "      <td>0</td>\n",
              "    </tr>\n",
              "    <tr>\n",
              "      <th>dolocationid</th>\n",
              "      <td>0</td>\n",
              "    </tr>\n",
              "    <tr>\n",
              "      <th>payment_type</th>\n",
              "      <td>0</td>\n",
              "    </tr>\n",
              "    <tr>\n",
              "      <th>fare_amount</th>\n",
              "      <td>0</td>\n",
              "    </tr>\n",
              "    <tr>\n",
              "      <th>extra</th>\n",
              "      <td>0</td>\n",
              "    </tr>\n",
              "    <tr>\n",
              "      <th>mta_tax</th>\n",
              "      <td>0</td>\n",
              "    </tr>\n",
              "    <tr>\n",
              "      <th>tip_amount</th>\n",
              "      <td>0</td>\n",
              "    </tr>\n",
              "    <tr>\n",
              "      <th>tolls_amount</th>\n",
              "      <td>0</td>\n",
              "    </tr>\n",
              "    <tr>\n",
              "      <th>improvement_surcharge</th>\n",
              "      <td>0</td>\n",
              "    </tr>\n",
              "    <tr>\n",
              "      <th>congestion_surcharge</th>\n",
              "      <td>0</td>\n",
              "    </tr>\n",
              "    <tr>\n",
              "      <th>airport_fee</th>\n",
              "      <td>0</td>\n",
              "    </tr>\n",
              "    <tr>\n",
              "      <th>day</th>\n",
              "      <td>0</td>\n",
              "    </tr>\n",
              "    <tr>\n",
              "      <th>pickup_time</th>\n",
              "      <td>0</td>\n",
              "    </tr>\n",
              "    <tr>\n",
              "      <th>dropoff_time</th>\n",
              "      <td>0</td>\n",
              "    </tr>\n",
              "    <tr>\n",
              "      <th>duration_seconds</th>\n",
              "      <td>0</td>\n",
              "    </tr>\n",
              "    <tr>\n",
              "      <th>duration_minutes</th>\n",
              "      <td>0</td>\n",
              "    </tr>\n",
              "    <tr>\n",
              "      <th>total_amount</th>\n",
              "      <td>0</td>\n",
              "    </tr>\n",
              "  </tbody>\n",
              "</table>\n",
              "</div><br><label><b>dtype:</b> int64</label>"
            ]
          },
          "metadata": {},
          "execution_count": 25
        }
      ],
      "source": [
        "df.isna().sum()"
      ]
    },
    {
      "cell_type": "code",
      "execution_count": 15,
      "metadata": {
        "id": "kKl9AiwsEjKz"
      },
      "outputs": [],
      "source": [
        "df.dropna(inplace=True)"
      ]
    },
    {
      "cell_type": "code",
      "execution_count": 26,
      "metadata": {
        "colab": {
          "base_uri": "https://localhost:8080/"
        },
        "id": "GCAX-YQHEcuR",
        "outputId": "c80d6ade-6205-4687-faed-91db3cab7a01"
      },
      "outputs": [
        {
          "output_type": "execute_result",
          "data": {
            "text/plain": [
              "0"
            ]
          },
          "metadata": {},
          "execution_count": 26
        }
      ],
      "source": [
        "df.duplicated().sum()"
      ]
    },
    {
      "cell_type": "code",
      "execution_count": 17,
      "metadata": {
        "colab": {
          "base_uri": "https://localhost:8080/",
          "height": 739
        },
        "id": "X8Y89_izEizT",
        "outputId": "7e8ce2c4-0aef-4f86-cdf8-837733a18024"
      },
      "outputs": [
        {
          "output_type": "execute_result",
          "data": {
            "text/plain": [
              "                                    398848\n",
              "vendorid                                 2\n",
              "tpep_pickup_datetime   2024-01-06 12:13:49\n",
              "tpep_dropoff_datetime  2024-01-06 12:19:08\n",
              "passenger_count                        1.0\n",
              "trip_distance                         0.92\n",
              "pulocationid                           140\n",
              "dolocationid                           140\n",
              "payment_type                             1\n",
              "fare_amount                            7.2\n",
              "extra                                  0.0\n",
              "mta_tax                                0.5\n",
              "tip_amount                            2.24\n",
              "tolls_amount                           0.0\n",
              "improvement_surcharge                  1.0\n",
              "congestion_surcharge                   2.5\n",
              "airport_fee                            0.0\n",
              "day                                    6.0\n",
              "pickup_time                       12:13:49\n",
              "dropoff_time                      12:19:08\n",
              "duration_seconds                     319.0\n",
              "duration_minutes                  5.316667\n",
              "total_amount                         13.44"
            ],
            "text/html": [
              "\n",
              "  <div id=\"df-2a60f831-1711-4c92-b34e-d920e0169c7f\" class=\"colab-df-container\">\n",
              "    <div>\n",
              "<style scoped>\n",
              "    .dataframe tbody tr th:only-of-type {\n",
              "        vertical-align: middle;\n",
              "    }\n",
              "\n",
              "    .dataframe tbody tr th {\n",
              "        vertical-align: top;\n",
              "    }\n",
              "\n",
              "    .dataframe thead th {\n",
              "        text-align: right;\n",
              "    }\n",
              "</style>\n",
              "<table border=\"1\" class=\"dataframe\">\n",
              "  <thead>\n",
              "    <tr style=\"text-align: right;\">\n",
              "      <th></th>\n",
              "      <th>398848</th>\n",
              "    </tr>\n",
              "  </thead>\n",
              "  <tbody>\n",
              "    <tr>\n",
              "      <th>vendorid</th>\n",
              "      <td>2</td>\n",
              "    </tr>\n",
              "    <tr>\n",
              "      <th>tpep_pickup_datetime</th>\n",
              "      <td>2024-01-06 12:13:49</td>\n",
              "    </tr>\n",
              "    <tr>\n",
              "      <th>tpep_dropoff_datetime</th>\n",
              "      <td>2024-01-06 12:19:08</td>\n",
              "    </tr>\n",
              "    <tr>\n",
              "      <th>passenger_count</th>\n",
              "      <td>1.0</td>\n",
              "    </tr>\n",
              "    <tr>\n",
              "      <th>trip_distance</th>\n",
              "      <td>0.92</td>\n",
              "    </tr>\n",
              "    <tr>\n",
              "      <th>pulocationid</th>\n",
              "      <td>140</td>\n",
              "    </tr>\n",
              "    <tr>\n",
              "      <th>dolocationid</th>\n",
              "      <td>140</td>\n",
              "    </tr>\n",
              "    <tr>\n",
              "      <th>payment_type</th>\n",
              "      <td>1</td>\n",
              "    </tr>\n",
              "    <tr>\n",
              "      <th>fare_amount</th>\n",
              "      <td>7.2</td>\n",
              "    </tr>\n",
              "    <tr>\n",
              "      <th>extra</th>\n",
              "      <td>0.0</td>\n",
              "    </tr>\n",
              "    <tr>\n",
              "      <th>mta_tax</th>\n",
              "      <td>0.5</td>\n",
              "    </tr>\n",
              "    <tr>\n",
              "      <th>tip_amount</th>\n",
              "      <td>2.24</td>\n",
              "    </tr>\n",
              "    <tr>\n",
              "      <th>tolls_amount</th>\n",
              "      <td>0.0</td>\n",
              "    </tr>\n",
              "    <tr>\n",
              "      <th>improvement_surcharge</th>\n",
              "      <td>1.0</td>\n",
              "    </tr>\n",
              "    <tr>\n",
              "      <th>congestion_surcharge</th>\n",
              "      <td>2.5</td>\n",
              "    </tr>\n",
              "    <tr>\n",
              "      <th>airport_fee</th>\n",
              "      <td>0.0</td>\n",
              "    </tr>\n",
              "    <tr>\n",
              "      <th>day</th>\n",
              "      <td>6.0</td>\n",
              "    </tr>\n",
              "    <tr>\n",
              "      <th>pickup_time</th>\n",
              "      <td>12:13:49</td>\n",
              "    </tr>\n",
              "    <tr>\n",
              "      <th>dropoff_time</th>\n",
              "      <td>12:19:08</td>\n",
              "    </tr>\n",
              "    <tr>\n",
              "      <th>duration_seconds</th>\n",
              "      <td>319.0</td>\n",
              "    </tr>\n",
              "    <tr>\n",
              "      <th>duration_minutes</th>\n",
              "      <td>5.316667</td>\n",
              "    </tr>\n",
              "    <tr>\n",
              "      <th>total_amount</th>\n",
              "      <td>13.44</td>\n",
              "    </tr>\n",
              "  </tbody>\n",
              "</table>\n",
              "</div>\n",
              "    <div class=\"colab-df-buttons\">\n",
              "\n",
              "  <div class=\"colab-df-container\">\n",
              "    <button class=\"colab-df-convert\" onclick=\"convertToInteractive('df-2a60f831-1711-4c92-b34e-d920e0169c7f')\"\n",
              "            title=\"Convert this dataframe to an interactive table.\"\n",
              "            style=\"display:none;\">\n",
              "\n",
              "  <svg xmlns=\"http://www.w3.org/2000/svg\" height=\"24px\" viewBox=\"0 -960 960 960\">\n",
              "    <path d=\"M120-120v-720h720v720H120Zm60-500h600v-160H180v160Zm220 220h160v-160H400v160Zm0 220h160v-160H400v160ZM180-400h160v-160H180v160Zm440 0h160v-160H620v160ZM180-180h160v-160H180v160Zm440 0h160v-160H620v160Z\"/>\n",
              "  </svg>\n",
              "    </button>\n",
              "\n",
              "  <style>\n",
              "    .colab-df-container {\n",
              "      display:flex;\n",
              "      gap: 12px;\n",
              "    }\n",
              "\n",
              "    .colab-df-convert {\n",
              "      background-color: #E8F0FE;\n",
              "      border: none;\n",
              "      border-radius: 50%;\n",
              "      cursor: pointer;\n",
              "      display: none;\n",
              "      fill: #1967D2;\n",
              "      height: 32px;\n",
              "      padding: 0 0 0 0;\n",
              "      width: 32px;\n",
              "    }\n",
              "\n",
              "    .colab-df-convert:hover {\n",
              "      background-color: #E2EBFA;\n",
              "      box-shadow: 0px 1px 2px rgba(60, 64, 67, 0.3), 0px 1px 3px 1px rgba(60, 64, 67, 0.15);\n",
              "      fill: #174EA6;\n",
              "    }\n",
              "\n",
              "    .colab-df-buttons div {\n",
              "      margin-bottom: 4px;\n",
              "    }\n",
              "\n",
              "    [theme=dark] .colab-df-convert {\n",
              "      background-color: #3B4455;\n",
              "      fill: #D2E3FC;\n",
              "    }\n",
              "\n",
              "    [theme=dark] .colab-df-convert:hover {\n",
              "      background-color: #434B5C;\n",
              "      box-shadow: 0px 1px 3px 1px rgba(0, 0, 0, 0.15);\n",
              "      filter: drop-shadow(0px 1px 2px rgba(0, 0, 0, 0.3));\n",
              "      fill: #FFFFFF;\n",
              "    }\n",
              "  </style>\n",
              "\n",
              "    <script>\n",
              "      const buttonEl =\n",
              "        document.querySelector('#df-2a60f831-1711-4c92-b34e-d920e0169c7f button.colab-df-convert');\n",
              "      buttonEl.style.display =\n",
              "        google.colab.kernel.accessAllowed ? 'block' : 'none';\n",
              "\n",
              "      async function convertToInteractive(key) {\n",
              "        const element = document.querySelector('#df-2a60f831-1711-4c92-b34e-d920e0169c7f');\n",
              "        const dataTable =\n",
              "          await google.colab.kernel.invokeFunction('convertToInteractive',\n",
              "                                                    [key], {});\n",
              "        if (!dataTable) return;\n",
              "\n",
              "        const docLinkHtml = 'Like what you see? Visit the ' +\n",
              "          '<a target=\"_blank\" href=https://colab.research.google.com/notebooks/data_table.ipynb>data table notebook</a>'\n",
              "          + ' to learn more about interactive tables.';\n",
              "        element.innerHTML = '';\n",
              "        dataTable['output_type'] = 'display_data';\n",
              "        await google.colab.output.renderOutput(dataTable, element);\n",
              "        const docLink = document.createElement('div');\n",
              "        docLink.innerHTML = docLinkHtml;\n",
              "        element.appendChild(docLink);\n",
              "      }\n",
              "    </script>\n",
              "  </div>\n",
              "\n",
              "\n",
              "<div id=\"df-8f73d606-b3ef-4a5d-9121-f210745ea4bb\">\n",
              "  <button class=\"colab-df-quickchart\" onclick=\"quickchart('df-8f73d606-b3ef-4a5d-9121-f210745ea4bb')\"\n",
              "            title=\"Suggest charts\"\n",
              "            style=\"display:none;\">\n",
              "\n",
              "<svg xmlns=\"http://www.w3.org/2000/svg\" height=\"24px\"viewBox=\"0 0 24 24\"\n",
              "     width=\"24px\">\n",
              "    <g>\n",
              "        <path d=\"M19 3H5c-1.1 0-2 .9-2 2v14c0 1.1.9 2 2 2h14c1.1 0 2-.9 2-2V5c0-1.1-.9-2-2-2zM9 17H7v-7h2v7zm4 0h-2V7h2v10zm4 0h-2v-4h2v4z\"/>\n",
              "    </g>\n",
              "</svg>\n",
              "  </button>\n",
              "\n",
              "<style>\n",
              "  .colab-df-quickchart {\n",
              "      --bg-color: #E8F0FE;\n",
              "      --fill-color: #1967D2;\n",
              "      --hover-bg-color: #E2EBFA;\n",
              "      --hover-fill-color: #174EA6;\n",
              "      --disabled-fill-color: #AAA;\n",
              "      --disabled-bg-color: #DDD;\n",
              "  }\n",
              "\n",
              "  [theme=dark] .colab-df-quickchart {\n",
              "      --bg-color: #3B4455;\n",
              "      --fill-color: #D2E3FC;\n",
              "      --hover-bg-color: #434B5C;\n",
              "      --hover-fill-color: #FFFFFF;\n",
              "      --disabled-bg-color: #3B4455;\n",
              "      --disabled-fill-color: #666;\n",
              "  }\n",
              "\n",
              "  .colab-df-quickchart {\n",
              "    background-color: var(--bg-color);\n",
              "    border: none;\n",
              "    border-radius: 50%;\n",
              "    cursor: pointer;\n",
              "    display: none;\n",
              "    fill: var(--fill-color);\n",
              "    height: 32px;\n",
              "    padding: 0;\n",
              "    width: 32px;\n",
              "  }\n",
              "\n",
              "  .colab-df-quickchart:hover {\n",
              "    background-color: var(--hover-bg-color);\n",
              "    box-shadow: 0 1px 2px rgba(60, 64, 67, 0.3), 0 1px 3px 1px rgba(60, 64, 67, 0.15);\n",
              "    fill: var(--button-hover-fill-color);\n",
              "  }\n",
              "\n",
              "  .colab-df-quickchart-complete:disabled,\n",
              "  .colab-df-quickchart-complete:disabled:hover {\n",
              "    background-color: var(--disabled-bg-color);\n",
              "    fill: var(--disabled-fill-color);\n",
              "    box-shadow: none;\n",
              "  }\n",
              "\n",
              "  .colab-df-spinner {\n",
              "    border: 2px solid var(--fill-color);\n",
              "    border-color: transparent;\n",
              "    border-bottom-color: var(--fill-color);\n",
              "    animation:\n",
              "      spin 1s steps(1) infinite;\n",
              "  }\n",
              "\n",
              "  @keyframes spin {\n",
              "    0% {\n",
              "      border-color: transparent;\n",
              "      border-bottom-color: var(--fill-color);\n",
              "      border-left-color: var(--fill-color);\n",
              "    }\n",
              "    20% {\n",
              "      border-color: transparent;\n",
              "      border-left-color: var(--fill-color);\n",
              "      border-top-color: var(--fill-color);\n",
              "    }\n",
              "    30% {\n",
              "      border-color: transparent;\n",
              "      border-left-color: var(--fill-color);\n",
              "      border-top-color: var(--fill-color);\n",
              "      border-right-color: var(--fill-color);\n",
              "    }\n",
              "    40% {\n",
              "      border-color: transparent;\n",
              "      border-right-color: var(--fill-color);\n",
              "      border-top-color: var(--fill-color);\n",
              "    }\n",
              "    60% {\n",
              "      border-color: transparent;\n",
              "      border-right-color: var(--fill-color);\n",
              "    }\n",
              "    80% {\n",
              "      border-color: transparent;\n",
              "      border-right-color: var(--fill-color);\n",
              "      border-bottom-color: var(--fill-color);\n",
              "    }\n",
              "    90% {\n",
              "      border-color: transparent;\n",
              "      border-bottom-color: var(--fill-color);\n",
              "    }\n",
              "  }\n",
              "</style>\n",
              "\n",
              "  <script>\n",
              "    async function quickchart(key) {\n",
              "      const quickchartButtonEl =\n",
              "        document.querySelector('#' + key + ' button');\n",
              "      quickchartButtonEl.disabled = true;  // To prevent multiple clicks.\n",
              "      quickchartButtonEl.classList.add('colab-df-spinner');\n",
              "      try {\n",
              "        const charts = await google.colab.kernel.invokeFunction(\n",
              "            'suggestCharts', [key], {});\n",
              "      } catch (error) {\n",
              "        console.error('Error during call to suggestCharts:', error);\n",
              "      }\n",
              "      quickchartButtonEl.classList.remove('colab-df-spinner');\n",
              "      quickchartButtonEl.classList.add('colab-df-quickchart-complete');\n",
              "    }\n",
              "    (() => {\n",
              "      let quickchartButtonEl =\n",
              "        document.querySelector('#df-8f73d606-b3ef-4a5d-9121-f210745ea4bb button');\n",
              "      quickchartButtonEl.style.display =\n",
              "        google.colab.kernel.accessAllowed ? 'block' : 'none';\n",
              "    })();\n",
              "  </script>\n",
              "</div>\n",
              "\n",
              "    </div>\n",
              "  </div>\n"
            ],
            "application/vnd.google.colaboratory.intrinsic+json": {
              "type": "dataframe",
              "summary": "{\n  \"name\": \"df\",\n  \"rows\": 22,\n  \"fields\": [\n    {\n      \"column\": 398848,\n      \"properties\": {\n        \"dtype\": \"date\",\n        \"min\": \"1970-01-01 00:00:00\",\n        \"max\": \"2024-08-29 12:19:08\",\n        \"num_unique_values\": 17,\n        \"samples\": [\n          2,\n          \"2024-01-06 12:13:49\",\n          140\n        ],\n        \"semantic_type\": \"\",\n        \"description\": \"\"\n      }\n    }\n  ]\n}"
            }
          },
          "metadata": {},
          "execution_count": 17
        }
      ],
      "source": [
        "df.sample().T"
      ]
    },
    {
      "cell_type": "code",
      "execution_count": null,
      "metadata": {
        "colab": {
          "base_uri": "https://localhost:8080/"
        },
        "id": "G5f-Wc_8Qej-",
        "outputId": "cb18f382-1917-47e9-e81a-069fc7e9a891"
      },
      "outputs": [
        {
          "data": {
            "text/plain": [
              "Index(['vendorid', 'tpep_pickup_datetime', 'tpep_dropoff_datetime',\n",
              "       'passenger_count', 'trip_distance', 'pulocationid', 'dolocationid',\n",
              "       'payment_type', 'fare_amount', 'extra', 'mta_tax', 'tip_amount',\n",
              "       'tolls_amount', 'improvement_surcharge', 'congestion_surcharge',\n",
              "       'airport_fee', 'day', 'pickup_time', 'dropoff_time', 'duration_seconds',\n",
              "       'duration_minutes', 'total_amount'],\n",
              "      dtype='object')"
            ]
          },
          "execution_count": 10,
          "metadata": {},
          "output_type": "execute_result"
        }
      ],
      "source": [
        "df.columns"
      ]
    },
    {
      "cell_type": "markdown",
      "metadata": {
        "id": "V5SWsPfqLow_"
      },
      "source": [
        "-------------------------------------------"
      ]
    },
    {
      "cell_type": "markdown",
      "metadata": {
        "id": "CeXXsbE7LoxA"
      },
      "source": [
        "# Start Preprocessing"
      ]
    },
    {
      "cell_type": "code",
      "execution_count": 4,
      "metadata": {
        "id": "_xvTbfhBLoxA"
      },
      "outputs": [],
      "source": [
        "df.pulocationid = df.pulocationid.astype('O')\n",
        "df.dolocationid = df.dolocationid.astype('O')\n",
        "df.day = df.day.astype('O')\n",
        "df.vendorid = df.vendorid.astype('O')\n",
        "df.payment_type = df.payment_type.astype('O')\n",
        "\n",
        "# Preprocessing\n",
        "numeric_features = ['passenger_count','trip_distance','duration_seconds']\n",
        "categorical_features = ['pulocationid','dolocationid','day']\n",
        "one_hot_features = ['vendorid','payment_type']"
      ]
    },
    {
      "cell_type": "code",
      "execution_count": 5,
      "metadata": {
        "id": "e7pr473uEiEq"
      },
      "outputs": [],
      "source": [
        "X = df[['vendorid','passenger_count','trip_distance','pulocationid', 'dolocationid','payment_type','day','duration_seconds']]\n",
        "y = df['fare_amount']"
      ]
    },
    {
      "cell_type": "markdown",
      "metadata": {
        "id": "Uqilq4kWLoxA"
      },
      "source": [
        "-------------------------------------------"
      ]
    },
    {
      "cell_type": "markdown",
      "metadata": {
        "id": "qj7yJvOdLoxA"
      },
      "source": [
        "# Train test split"
      ]
    },
    {
      "cell_type": "code",
      "execution_count": 6,
      "metadata": {
        "id": "CLoJO4KSRiEv"
      },
      "outputs": [],
      "source": [
        "X_train, X_test, y_train, y_test = train_test_split(X, y, test_size=0.2, random_state=42)\n",
        "X_train, X_val, y_train, y_val = train_test_split(X_train, y_train, test_size=0.2, random_state=42)"
      ]
    },
    {
      "cell_type": "code",
      "execution_count": 7,
      "metadata": {
        "id": "tggjwOdALoxB"
      },
      "outputs": [],
      "source": [
        "preprocessor = ColumnTransformer([\n",
        "    ('num', RobustScaler(), numeric_features),\n",
        "    ('cat', BinaryEncoder(), categorical_features),\n",
        "    ('ohe', OneHotEncoder(), one_hot_features)\n",
        "])\n",
        "\n",
        "X_train = preprocessor.fit_transform(X_train)\n",
        "X_val = preprocessor.transform(X_val)\n",
        "X_test = preprocessor.transform(X_test)"
      ]
    },
    {
      "cell_type": "code",
      "execution_count": 17,
      "metadata": {
        "colab": {
          "base_uri": "https://localhost:8080/",
          "height": 927
        },
        "id": "bt7dEVPYLoxB",
        "outputId": "5b26cf33-75d9-49b4-a2e3-26b39984b3a4"
      },
      "outputs": [
        {
          "output_type": "execute_result",
          "data": {
            "text/plain": [
              "                        1302974\n",
              "num__passenger_count   0.000000\n",
              "num__trip_distance    -0.660819\n",
              "num__duration_seconds -0.760797\n",
              "cat__pulocationid_0    0.000000\n",
              "cat__pulocationid_1    0.000000\n",
              "cat__pulocationid_2    1.000000\n",
              "cat__pulocationid_3    0.000000\n",
              "cat__pulocationid_4    0.000000\n",
              "cat__pulocationid_5    1.000000\n",
              "cat__pulocationid_6    1.000000\n",
              "cat__pulocationid_7    1.000000\n",
              "cat__dolocationid_0    0.000000\n",
              "cat__dolocationid_1    0.000000\n",
              "cat__dolocationid_2    0.000000\n",
              "cat__dolocationid_3    0.000000\n",
              "cat__dolocationid_4    0.000000\n",
              "cat__dolocationid_5    0.000000\n",
              "cat__dolocationid_6    1.000000\n",
              "cat__dolocationid_7    1.000000\n",
              "cat__day_0             0.000000\n",
              "cat__day_1             1.000000\n",
              "cat__day_2             0.000000\n",
              "cat__day_3             0.000000\n",
              "cat__day_4             0.000000\n",
              "ohe__vendorid_1        0.000000\n",
              "ohe__vendorid_2        1.000000\n",
              "ohe__payment_type_1    1.000000\n",
              "ohe__payment_type_2    0.000000"
            ],
            "text/html": [
              "\n",
              "  <div id=\"df-fe6549e0-b6c4-4b63-b651-83165a11fcd6\" class=\"colab-df-container\">\n",
              "    <div>\n",
              "<style scoped>\n",
              "    .dataframe tbody tr th:only-of-type {\n",
              "        vertical-align: middle;\n",
              "    }\n",
              "\n",
              "    .dataframe tbody tr th {\n",
              "        vertical-align: top;\n",
              "    }\n",
              "\n",
              "    .dataframe thead th {\n",
              "        text-align: right;\n",
              "    }\n",
              "</style>\n",
              "<table border=\"1\" class=\"dataframe\">\n",
              "  <thead>\n",
              "    <tr style=\"text-align: right;\">\n",
              "      <th></th>\n",
              "      <th>1302974</th>\n",
              "    </tr>\n",
              "  </thead>\n",
              "  <tbody>\n",
              "    <tr>\n",
              "      <th>num__passenger_count</th>\n",
              "      <td>0.000000</td>\n",
              "    </tr>\n",
              "    <tr>\n",
              "      <th>num__trip_distance</th>\n",
              "      <td>-0.660819</td>\n",
              "    </tr>\n",
              "    <tr>\n",
              "      <th>num__duration_seconds</th>\n",
              "      <td>-0.760797</td>\n",
              "    </tr>\n",
              "    <tr>\n",
              "      <th>cat__pulocationid_0</th>\n",
              "      <td>0.000000</td>\n",
              "    </tr>\n",
              "    <tr>\n",
              "      <th>cat__pulocationid_1</th>\n",
              "      <td>0.000000</td>\n",
              "    </tr>\n",
              "    <tr>\n",
              "      <th>cat__pulocationid_2</th>\n",
              "      <td>1.000000</td>\n",
              "    </tr>\n",
              "    <tr>\n",
              "      <th>cat__pulocationid_3</th>\n",
              "      <td>0.000000</td>\n",
              "    </tr>\n",
              "    <tr>\n",
              "      <th>cat__pulocationid_4</th>\n",
              "      <td>0.000000</td>\n",
              "    </tr>\n",
              "    <tr>\n",
              "      <th>cat__pulocationid_5</th>\n",
              "      <td>1.000000</td>\n",
              "    </tr>\n",
              "    <tr>\n",
              "      <th>cat__pulocationid_6</th>\n",
              "      <td>1.000000</td>\n",
              "    </tr>\n",
              "    <tr>\n",
              "      <th>cat__pulocationid_7</th>\n",
              "      <td>1.000000</td>\n",
              "    </tr>\n",
              "    <tr>\n",
              "      <th>cat__dolocationid_0</th>\n",
              "      <td>0.000000</td>\n",
              "    </tr>\n",
              "    <tr>\n",
              "      <th>cat__dolocationid_1</th>\n",
              "      <td>0.000000</td>\n",
              "    </tr>\n",
              "    <tr>\n",
              "      <th>cat__dolocationid_2</th>\n",
              "      <td>0.000000</td>\n",
              "    </tr>\n",
              "    <tr>\n",
              "      <th>cat__dolocationid_3</th>\n",
              "      <td>0.000000</td>\n",
              "    </tr>\n",
              "    <tr>\n",
              "      <th>cat__dolocationid_4</th>\n",
              "      <td>0.000000</td>\n",
              "    </tr>\n",
              "    <tr>\n",
              "      <th>cat__dolocationid_5</th>\n",
              "      <td>0.000000</td>\n",
              "    </tr>\n",
              "    <tr>\n",
              "      <th>cat__dolocationid_6</th>\n",
              "      <td>1.000000</td>\n",
              "    </tr>\n",
              "    <tr>\n",
              "      <th>cat__dolocationid_7</th>\n",
              "      <td>1.000000</td>\n",
              "    </tr>\n",
              "    <tr>\n",
              "      <th>cat__day_0</th>\n",
              "      <td>0.000000</td>\n",
              "    </tr>\n",
              "    <tr>\n",
              "      <th>cat__day_1</th>\n",
              "      <td>1.000000</td>\n",
              "    </tr>\n",
              "    <tr>\n",
              "      <th>cat__day_2</th>\n",
              "      <td>0.000000</td>\n",
              "    </tr>\n",
              "    <tr>\n",
              "      <th>cat__day_3</th>\n",
              "      <td>0.000000</td>\n",
              "    </tr>\n",
              "    <tr>\n",
              "      <th>cat__day_4</th>\n",
              "      <td>0.000000</td>\n",
              "    </tr>\n",
              "    <tr>\n",
              "      <th>ohe__vendorid_1</th>\n",
              "      <td>0.000000</td>\n",
              "    </tr>\n",
              "    <tr>\n",
              "      <th>ohe__vendorid_2</th>\n",
              "      <td>1.000000</td>\n",
              "    </tr>\n",
              "    <tr>\n",
              "      <th>ohe__payment_type_1</th>\n",
              "      <td>1.000000</td>\n",
              "    </tr>\n",
              "    <tr>\n",
              "      <th>ohe__payment_type_2</th>\n",
              "      <td>0.000000</td>\n",
              "    </tr>\n",
              "  </tbody>\n",
              "</table>\n",
              "</div>\n",
              "    <div class=\"colab-df-buttons\">\n",
              "\n",
              "  <div class=\"colab-df-container\">\n",
              "    <button class=\"colab-df-convert\" onclick=\"convertToInteractive('df-fe6549e0-b6c4-4b63-b651-83165a11fcd6')\"\n",
              "            title=\"Convert this dataframe to an interactive table.\"\n",
              "            style=\"display:none;\">\n",
              "\n",
              "  <svg xmlns=\"http://www.w3.org/2000/svg\" height=\"24px\" viewBox=\"0 -960 960 960\">\n",
              "    <path d=\"M120-120v-720h720v720H120Zm60-500h600v-160H180v160Zm220 220h160v-160H400v160Zm0 220h160v-160H400v160ZM180-400h160v-160H180v160Zm440 0h160v-160H620v160ZM180-180h160v-160H180v160Zm440 0h160v-160H620v160Z\"/>\n",
              "  </svg>\n",
              "    </button>\n",
              "\n",
              "  <style>\n",
              "    .colab-df-container {\n",
              "      display:flex;\n",
              "      gap: 12px;\n",
              "    }\n",
              "\n",
              "    .colab-df-convert {\n",
              "      background-color: #E8F0FE;\n",
              "      border: none;\n",
              "      border-radius: 50%;\n",
              "      cursor: pointer;\n",
              "      display: none;\n",
              "      fill: #1967D2;\n",
              "      height: 32px;\n",
              "      padding: 0 0 0 0;\n",
              "      width: 32px;\n",
              "    }\n",
              "\n",
              "    .colab-df-convert:hover {\n",
              "      background-color: #E2EBFA;\n",
              "      box-shadow: 0px 1px 2px rgba(60, 64, 67, 0.3), 0px 1px 3px 1px rgba(60, 64, 67, 0.15);\n",
              "      fill: #174EA6;\n",
              "    }\n",
              "\n",
              "    .colab-df-buttons div {\n",
              "      margin-bottom: 4px;\n",
              "    }\n",
              "\n",
              "    [theme=dark] .colab-df-convert {\n",
              "      background-color: #3B4455;\n",
              "      fill: #D2E3FC;\n",
              "    }\n",
              "\n",
              "    [theme=dark] .colab-df-convert:hover {\n",
              "      background-color: #434B5C;\n",
              "      box-shadow: 0px 1px 3px 1px rgba(0, 0, 0, 0.15);\n",
              "      filter: drop-shadow(0px 1px 2px rgba(0, 0, 0, 0.3));\n",
              "      fill: #FFFFFF;\n",
              "    }\n",
              "  </style>\n",
              "\n",
              "    <script>\n",
              "      const buttonEl =\n",
              "        document.querySelector('#df-fe6549e0-b6c4-4b63-b651-83165a11fcd6 button.colab-df-convert');\n",
              "      buttonEl.style.display =\n",
              "        google.colab.kernel.accessAllowed ? 'block' : 'none';\n",
              "\n",
              "      async function convertToInteractive(key) {\n",
              "        const element = document.querySelector('#df-fe6549e0-b6c4-4b63-b651-83165a11fcd6');\n",
              "        const dataTable =\n",
              "          await google.colab.kernel.invokeFunction('convertToInteractive',\n",
              "                                                    [key], {});\n",
              "        if (!dataTable) return;\n",
              "\n",
              "        const docLinkHtml = 'Like what you see? Visit the ' +\n",
              "          '<a target=\"_blank\" href=https://colab.research.google.com/notebooks/data_table.ipynb>data table notebook</a>'\n",
              "          + ' to learn more about interactive tables.';\n",
              "        element.innerHTML = '';\n",
              "        dataTable['output_type'] = 'display_data';\n",
              "        await google.colab.output.renderOutput(dataTable, element);\n",
              "        const docLink = document.createElement('div');\n",
              "        docLink.innerHTML = docLinkHtml;\n",
              "        element.appendChild(docLink);\n",
              "      }\n",
              "    </script>\n",
              "  </div>\n",
              "\n",
              "\n",
              "<div id=\"df-181d6dd2-fdaf-484a-8357-d851eb070275\">\n",
              "  <button class=\"colab-df-quickchart\" onclick=\"quickchart('df-181d6dd2-fdaf-484a-8357-d851eb070275')\"\n",
              "            title=\"Suggest charts\"\n",
              "            style=\"display:none;\">\n",
              "\n",
              "<svg xmlns=\"http://www.w3.org/2000/svg\" height=\"24px\"viewBox=\"0 0 24 24\"\n",
              "     width=\"24px\">\n",
              "    <g>\n",
              "        <path d=\"M19 3H5c-1.1 0-2 .9-2 2v14c0 1.1.9 2 2 2h14c1.1 0 2-.9 2-2V5c0-1.1-.9-2-2-2zM9 17H7v-7h2v7zm4 0h-2V7h2v10zm4 0h-2v-4h2v4z\"/>\n",
              "    </g>\n",
              "</svg>\n",
              "  </button>\n",
              "\n",
              "<style>\n",
              "  .colab-df-quickchart {\n",
              "      --bg-color: #E8F0FE;\n",
              "      --fill-color: #1967D2;\n",
              "      --hover-bg-color: #E2EBFA;\n",
              "      --hover-fill-color: #174EA6;\n",
              "      --disabled-fill-color: #AAA;\n",
              "      --disabled-bg-color: #DDD;\n",
              "  }\n",
              "\n",
              "  [theme=dark] .colab-df-quickchart {\n",
              "      --bg-color: #3B4455;\n",
              "      --fill-color: #D2E3FC;\n",
              "      --hover-bg-color: #434B5C;\n",
              "      --hover-fill-color: #FFFFFF;\n",
              "      --disabled-bg-color: #3B4455;\n",
              "      --disabled-fill-color: #666;\n",
              "  }\n",
              "\n",
              "  .colab-df-quickchart {\n",
              "    background-color: var(--bg-color);\n",
              "    border: none;\n",
              "    border-radius: 50%;\n",
              "    cursor: pointer;\n",
              "    display: none;\n",
              "    fill: var(--fill-color);\n",
              "    height: 32px;\n",
              "    padding: 0;\n",
              "    width: 32px;\n",
              "  }\n",
              "\n",
              "  .colab-df-quickchart:hover {\n",
              "    background-color: var(--hover-bg-color);\n",
              "    box-shadow: 0 1px 2px rgba(60, 64, 67, 0.3), 0 1px 3px 1px rgba(60, 64, 67, 0.15);\n",
              "    fill: var(--button-hover-fill-color);\n",
              "  }\n",
              "\n",
              "  .colab-df-quickchart-complete:disabled,\n",
              "  .colab-df-quickchart-complete:disabled:hover {\n",
              "    background-color: var(--disabled-bg-color);\n",
              "    fill: var(--disabled-fill-color);\n",
              "    box-shadow: none;\n",
              "  }\n",
              "\n",
              "  .colab-df-spinner {\n",
              "    border: 2px solid var(--fill-color);\n",
              "    border-color: transparent;\n",
              "    border-bottom-color: var(--fill-color);\n",
              "    animation:\n",
              "      spin 1s steps(1) infinite;\n",
              "  }\n",
              "\n",
              "  @keyframes spin {\n",
              "    0% {\n",
              "      border-color: transparent;\n",
              "      border-bottom-color: var(--fill-color);\n",
              "      border-left-color: var(--fill-color);\n",
              "    }\n",
              "    20% {\n",
              "      border-color: transparent;\n",
              "      border-left-color: var(--fill-color);\n",
              "      border-top-color: var(--fill-color);\n",
              "    }\n",
              "    30% {\n",
              "      border-color: transparent;\n",
              "      border-left-color: var(--fill-color);\n",
              "      border-top-color: var(--fill-color);\n",
              "      border-right-color: var(--fill-color);\n",
              "    }\n",
              "    40% {\n",
              "      border-color: transparent;\n",
              "      border-right-color: var(--fill-color);\n",
              "      border-top-color: var(--fill-color);\n",
              "    }\n",
              "    60% {\n",
              "      border-color: transparent;\n",
              "      border-right-color: var(--fill-color);\n",
              "    }\n",
              "    80% {\n",
              "      border-color: transparent;\n",
              "      border-right-color: var(--fill-color);\n",
              "      border-bottom-color: var(--fill-color);\n",
              "    }\n",
              "    90% {\n",
              "      border-color: transparent;\n",
              "      border-bottom-color: var(--fill-color);\n",
              "    }\n",
              "  }\n",
              "</style>\n",
              "\n",
              "  <script>\n",
              "    async function quickchart(key) {\n",
              "      const quickchartButtonEl =\n",
              "        document.querySelector('#' + key + ' button');\n",
              "      quickchartButtonEl.disabled = true;  // To prevent multiple clicks.\n",
              "      quickchartButtonEl.classList.add('colab-df-spinner');\n",
              "      try {\n",
              "        const charts = await google.colab.kernel.invokeFunction(\n",
              "            'suggestCharts', [key], {});\n",
              "      } catch (error) {\n",
              "        console.error('Error during call to suggestCharts:', error);\n",
              "      }\n",
              "      quickchartButtonEl.classList.remove('colab-df-spinner');\n",
              "      quickchartButtonEl.classList.add('colab-df-quickchart-complete');\n",
              "    }\n",
              "    (() => {\n",
              "      let quickchartButtonEl =\n",
              "        document.querySelector('#df-181d6dd2-fdaf-484a-8357-d851eb070275 button');\n",
              "      quickchartButtonEl.style.display =\n",
              "        google.colab.kernel.accessAllowed ? 'block' : 'none';\n",
              "    })();\n",
              "  </script>\n",
              "</div>\n",
              "\n",
              "    </div>\n",
              "  </div>\n"
            ],
            "application/vnd.google.colaboratory.intrinsic+json": {
              "type": "dataframe",
              "summary": "{\n  \"name\": \"pd\",\n  \"rows\": 28,\n  \"fields\": [\n    {\n      \"column\": 1302974,\n      \"properties\": {\n        \"dtype\": \"number\",\n        \"std\": 0.5431170178681126,\n        \"min\": -0.760797342192691,\n        \"max\": 1.0,\n        \"num_unique_values\": 4,\n        \"samples\": [\n          -0.6608187134502924,\n          1.0,\n          0.0\n        ],\n        \"semantic_type\": \"\",\n        \"description\": \"\"\n      }\n    }\n  ]\n}"
            }
          },
          "metadata": {},
          "execution_count": 17
        }
      ],
      "source": [
        "pd.DataFrame(X_train,columns=preprocessor.get_feature_names_out()).sample().T"
      ]
    },
    {
      "cell_type": "markdown",
      "metadata": {
        "id": "EnRLMvahLoxB"
      },
      "source": [
        "-------------------------------"
      ]
    },
    {
      "cell_type": "markdown",
      "metadata": {
        "id": "NHncVPUTLoxB"
      },
      "source": [
        "# Linear Regression"
      ]
    },
    {
      "cell_type": "code",
      "execution_count": null,
      "metadata": {
        "id": "6KGxn203LoxB",
        "outputId": "b18e5f61-3b4a-45de-e277-8bb1f9d0e8bb"
      },
      "outputs": [
        {
          "name": "stdout",
          "output_type": "stream",
          "text": [
            "Linear Regression\n",
            "----------------------------------------------------------------------\n",
            "+-----------------------------+----------+\n",
            "| Metric                      | Value    |\n",
            "+=============================+==========+\n",
            "| Mean Squared Error          | 4.9697   |\n",
            "+-----------------------------+----------+\n",
            "| Mean Absolute Error         | 0.9464   |\n",
            "+-----------------------------+----------+\n",
            "| Mean Cross-Validation Score | 94.2309% |\n",
            "+-----------------------------+----------+\n",
            "| R-squared Train             | 94.0472% |\n",
            "+-----------------------------+----------+\n",
            "| R-squared Val               | 95.5961% |\n",
            "+-----------------------------+----------+\n"
          ]
        }
      ],
      "source": [
        "pipelr = Pipeline([\n",
        "    ('model', LinearRegression())\n",
        "])\n",
        "\n",
        "pipelr.fit(X_train, y_train)\n",
        "\n",
        "y_pred = pipelr.predict(X_val)\n",
        "\n",
        "scores = cross_val_score(pipelr, X_train, y_train, cv=5)\n",
        "\n",
        "# Calculate metrics\n",
        "mse = mean_squared_error(y_val, y_pred)\n",
        "mae = mean_absolute_error(y_val, y_pred)\n",
        "mean_cv_score = scores.mean() * 100\n",
        "r2_train = pipelr.score(X_train, y_train) * 100\n",
        "r2_val = pipelr.score(X_val, y_val) * 100\n",
        "\n",
        "# Create data for the table\n",
        "table_data = [\n",
        "    ['Mean Squared Error', f\"{mse:.4f}\"],\n",
        "    ['Mean Absolute Error', f\"{mae:.4f}\"],\n",
        "    ['Mean Cross-Validation Score', f\"{mean_cv_score:.4f}%\"],\n",
        "    ['R-squared Train', f\"{r2_train:.4f}%\"],\n",
        "    ['R-squared Val', f\"{r2_val:.4f}%\"]\n",
        "]\n",
        "\n",
        "# Create and print the table with borders\n",
        "table = tabulate(table_data, headers=['Metric', 'Value'], tablefmt='grid')\n",
        "\n",
        "# Print title and table\n",
        "print(\"Linear Regression\")\n",
        "print(\"-\" * 70)\n",
        "print(table)\n"
      ]
    },
    {
      "cell_type": "markdown",
      "metadata": {
        "id": "KvDbg4YXLoxC"
      },
      "source": [
        "-----------------------------"
      ]
    },
    {
      "cell_type": "markdown",
      "metadata": {
        "id": "92DP4vlDi4JZ"
      },
      "source": [
        "# Decision Tree Regressor"
      ]
    },
    {
      "cell_type": "code",
      "execution_count": null,
      "metadata": {
        "colab": {
          "base_uri": "https://localhost:8080/"
        },
        "id": "wbYmXJg7fTtN",
        "outputId": "245cbc72-6051-4554-d500-9da290df2c1c"
      },
      "outputs": [
        {
          "name": "stdout",
          "output_type": "stream",
          "text": [
            "Decision Tree Regression\n",
            "----------------------------------------------------------------------\n",
            "+-----------------------------+----------+\n",
            "| Metric                      | Value    |\n",
            "+=============================+==========+\n",
            "| Mean Squared Error          | 3.3168   |\n",
            "+-----------------------------+----------+\n",
            "| Mean Absolute Error         | 1.0436   |\n",
            "+-----------------------------+----------+\n",
            "| Mean Cross-Validation Score | 95.2645% |\n",
            "+-----------------------------+----------+\n",
            "| R-squared Train             | 95.7474% |\n",
            "+-----------------------------+----------+\n",
            "| R-squared Val               | 97.0608% |\n",
            "+-----------------------------+----------+\n"
          ]
        }
      ],
      "source": [
        "from sklearn.tree import DecisionTreeRegressor\n",
        "# Create and fit the pipeline\n",
        "pipedtr = Pipeline([\n",
        "    ('model', DecisionTreeRegressor(max_depth=5))\n",
        "])\n",
        "\n",
        "pipedtr.fit(X_train, y_train)\n",
        "\n",
        "# Make predictions\n",
        "y_pred = pipedtr.predict(X_val)\n",
        "\n",
        "# Calculate metrics\n",
        "mse = mean_squared_error(y_val, y_pred)\n",
        "mae = mean_absolute_error(y_val, y_pred)\n",
        "scores = cross_val_score(pipedtr, X_train, y_train, cv=5)\n",
        "mean_cv_score = scores.mean() * 100\n",
        "r2_train = pipedtr.score(X_train, y_train) * 100\n",
        "r2_val = pipedtr.score(X_val, y_val) * 100\n",
        "\n",
        "# Create data for the table\n",
        "table_data = [\n",
        "    ['Mean Squared Error', f\"{mse:.4f}\"],\n",
        "    ['Mean Absolute Error', f\"{mae:.4f}\"],\n",
        "    ['Mean Cross-Validation Score', f\"{mean_cv_score:.4f}%\"],\n",
        "    ['R-squared Train', f\"{r2_train:.4f}%\"],\n",
        "    ['R-squared Val', f\"{r2_val:.4f}%\"]\n",
        "]\n",
        "\n",
        "# Create and print the table with borders\n",
        "table = tabulate(table_data, headers=['Metric', 'Value'], tablefmt='grid')\n",
        "\n",
        "# Print title and table\n",
        "print(\"Decision Tree Regression\")\n",
        "print(\"-\" * 70)\n",
        "print(table)"
      ]
    },
    {
      "cell_type": "markdown",
      "metadata": {
        "id": "k8SqvzewLoxC"
      },
      "source": [
        "----------------"
      ]
    },
    {
      "cell_type": "markdown",
      "metadata": {
        "id": "vnrO7Vn4LoxD"
      },
      "source": [
        "# Support Vector Machine"
      ]
    },
    {
      "cell_type": "code",
      "execution_count": null,
      "metadata": {
        "id": "uSFMXz0TLoxD"
      },
      "outputs": [],
      "source": [
        "from sklearn.svm import SVR\n",
        "from sklearn.pipeline import Pipeline\n",
        "from sklearn.model_selection import cross_val_score\n",
        "from sklearn.metrics import mean_squared_error, mean_absolute_error\n",
        "from tabulate import tabulate\n",
        "\n",
        "# Create and fit the pipeline with SVR\n",
        "pipe_svr = Pipeline([\n",
        "    ('model', SVR())\n",
        "])\n",
        "\n",
        "pipe_svr.fit(X_train, y_train)\n",
        "\n",
        "# Make predictions\n",
        "y_pred = pipe_svr.predict(X_val)\n",
        "\n",
        "# Calculate metrics\n",
        "mse = mean_squared_error(y_val, y_pred)\n",
        "mae = mean_absolute_error(y_val, y_pred)\n",
        "scores = cross_val_score(pipe_svr, X_train, y_train, cv=5)\n",
        "mean_cv_score = scores.mean() * 100\n",
        "r2_train = pipe_svr.score(X_train, y_train) * 100\n",
        "r2_val = pipe_svr.score(X_val, y_val) * 100\n",
        "\n",
        "# Create data for the table\n",
        "table_data = [\n",
        "    ['Mean Squared Error', f\"{mse:.4f}\"],\n",
        "    ['Mean Absolute Error', f\"{mae:.4f}\"],\n",
        "    ['Mean Cross-Validation Score', f\"{mean_cv_score:.4f}%\"],\n",
        "    ['R-squared Train', f\"{r2_train:.4f}%\"],\n",
        "    ['R-squared Val', f\"{r2_val:.4f}%\"]\n",
        "]\n",
        "\n",
        "# Create and print the table with borders\n",
        "table = tabulate(table_data, headers=['Metric', 'Value'], tablefmt='grid')\n",
        "\n",
        "# Print title and table\n",
        "print(\"SVR Model Performance\")\n",
        "print(\"-\" * 70)\n",
        "print(table)\n"
      ]
    },
    {
      "cell_type": "markdown",
      "metadata": {
        "id": "Ameif6K3LoxD"
      },
      "source": [
        "------------------------------------------------------"
      ]
    },
    {
      "cell_type": "markdown",
      "metadata": {
        "id": "IlmZQNK2LoxJ"
      },
      "source": [
        "# Random Forest Regressor"
      ]
    },
    {
      "cell_type": "code",
      "execution_count": null,
      "metadata": {
        "id": "pWBdNJR2LoxJ"
      },
      "outputs": [],
      "source": [
        "from sklearn.ensemble import RandomForestRegressor\n",
        "from sklearn.pipeline import Pipeline\n",
        "from sklearn.model_selection import cross_val_score\n",
        "from sklearn.metrics import mean_squared_error, mean_absolute_error\n",
        "from tabulate import tabulate\n",
        "\n",
        "# Create and fit the pipeline with RandomForestRegressor\n",
        "pipe_rf = Pipeline([\n",
        "    ('model', RandomForestRegressor())\n",
        "])\n",
        "\n",
        "pipe_rf.fit(X_train, y_train)\n",
        "\n",
        "# Make predictions\n",
        "y_pred = pipe_rf.predict(X_val)\n",
        "\n",
        "# Calculate metrics\n",
        "mse = mean_squared_error(y_val, y_pred)\n",
        "mae = mean_absolute_error(y_val, y_pred)\n",
        "# scores = cross_val_score(pipe_rf, X_train, y_train, cv=5)\n",
        "# mean_cv_score = scores.mean() * 100\n",
        "r2_train = pipe_rf.score(X_train, y_train) * 100\n",
        "r2_val = pipe_rf.score(X_val, y_val) * 100\n",
        "\n",
        "# Create data for the table\n",
        "table_data = [\n",
        "    ['Mean Squared Error', f\"{mse:.4f}\"],\n",
        "    ['Mean Absolute Error', f\"{mae:.4f}\"],\n",
        "    # ['Mean Cross-Validation Score', f\"{mean_cv_score:.4f}%\"],\n",
        "    ['R-squared Train', f\"{r2_train:.4f}%\"],\n",
        "    ['R-squared Val', f\"{r2_val:.4f}%\"]\n",
        "]\n",
        "\n",
        "# Create and print the table with borders\n",
        "table = tabulate(table_data, headers=['Metric', 'Value'], tablefmt='grid')\n",
        "\n",
        "# Print title and table\n",
        "print(\"Random Forest Regressor Model Performance\")\n",
        "print(\"-\" * 70)\n",
        "print(table)\n"
      ]
    },
    {
      "cell_type": "markdown",
      "metadata": {
        "id": "ZebkTDn-LoxJ"
      },
      "source": [
        "---"
      ]
    },
    {
      "cell_type": "markdown",
      "metadata": {
        "id": "o5hdYcFRLoxK"
      },
      "source": [
        "# XGBoost"
      ]
    },
    {
      "cell_type": "code",
      "execution_count": 8,
      "metadata": {
        "colab": {
          "base_uri": "https://localhost:8080/"
        },
        "id": "wN1TLZJKLoxK",
        "outputId": "b9382e12-3624-4c85-cf6c-0dfba78b3ef5"
      },
      "outputs": [
        {
          "output_type": "stream",
          "name": "stdout",
          "text": [
            "XGBRegressor Model Performance\n",
            "----------------------------------------------------------------------\n",
            "+-----------------------------+----------+\n",
            "| Metric                      | Value    |\n",
            "+=============================+==========+\n",
            "| Mean Squared Error          | 2.4320   |\n",
            "+-----------------------------+----------+\n",
            "| Mean Absolute Error         | 0.4898   |\n",
            "+-----------------------------+----------+\n",
            "| Mean Cross-Validation Score | 95.0946% |\n",
            "+-----------------------------+----------+\n",
            "| R-squared Train             | 99.1728% |\n",
            "+-----------------------------+----------+\n",
            "| R-squared Val               | 97.8449% |\n",
            "+-----------------------------+----------+\n"
          ]
        }
      ],
      "source": [
        "from xgboost import XGBRegressor\n",
        "# Create and fit the pipeline with XGBRegressor\n",
        "pipexgb = Pipeline([\n",
        "    ('model', XGBRegressor())\n",
        "])\n",
        "\n",
        "pipexgb.fit(X_train, y_train)\n",
        "\n",
        "# Make predictions\n",
        "y_pred = pipexgb.predict(X_val)\n",
        "\n",
        "# Calculate metrics\n",
        "mse = mean_squared_error(y_val, y_pred)\n",
        "mae = mean_absolute_error(y_val, y_pred)\n",
        "scores = cross_val_score(pipexgb, X_train, y_train, cv=5)\n",
        "mean_cv_score = scores.mean() * 100\n",
        "r2_train = pipexgb.score(X_train, y_train) * 100\n",
        "r2_val = pipexgb.score(X_val, y_val) * 100\n",
        "\n",
        "# Create data for the table\n",
        "table_data = [\n",
        "    ['Mean Squared Error', f\"{mse:.4f}\"],\n",
        "    ['Mean Absolute Error', f\"{mae:.4f}\"],\n",
        "    ['Mean Cross-Validation Score', f\"{mean_cv_score:.4f}%\"],\n",
        "    ['R-squared Train', f\"{r2_train:.4f}%\"],\n",
        "    ['R-squared Val', f\"{r2_val:.4f}%\"]\n",
        "]\n",
        "\n",
        "# Create and print the table with borders\n",
        "table = tabulate(table_data, headers=['Metric', 'Value'], tablefmt='grid')\n",
        "\n",
        "# Print title and table\n",
        "print(\"XGBRegressor Model Performance\")\n",
        "print(\"-\" * 70)\n",
        "print(table)"
      ]
    },
    {
      "cell_type": "code",
      "source": [
        "# prompt: grid search cv with xgboost\n",
        "\n",
        "# Define the parameter grid for GridSearchCV\n",
        "param_grid = {\n",
        "    'model__learning_rate': [0.01, 0.1, 0.2],\n",
        "    'model__max_depth': [3, 5, 7],\n",
        "    'model__subsample': [0.8, 1.0],\n",
        "    'model__colsample_bytree': [0.8, 1.0]\n",
        "}\n",
        "\n",
        "# Create the pipeline with XGBRegressor\n",
        "pipexgb = Pipeline([\n",
        "    ('model', XGBRegressor())\n",
        "])\n",
        "\n",
        "# Create GridSearchCV object\n",
        "grid_search = GridSearchCV(\n",
        "    estimator=pipexgb,\n",
        "    param_grid=param_grid,\n",
        "    cv=5,\n",
        "    n_jobs=-1,\n",
        "    verbose=2\n",
        ")\n",
        "\n",
        "# Fit the grid search to the training data\n",
        "grid_search.fit(X_train, y_train)\n",
        "\n",
        "# Print the best parameters and best score\n",
        "print(\"Best parameters found: \", grid_search.best_params_)\n",
        "print(\"Best negative mean squared error found: \", grid_search.best_score_)\n",
        "\n"
      ],
      "metadata": {
        "colab": {
          "base_uri": "https://localhost:8080/"
        },
        "id": "8If0YkH8g3T2",
        "outputId": "1a1d6b0d-de58-46e2-f68d-260de7dcde66"
      },
      "execution_count": 9,
      "outputs": [
        {
          "output_type": "stream",
          "name": "stdout",
          "text": [
            "Fitting 5 folds for each of 36 candidates, totalling 180 fits\n",
            "Best parameters found:  {'model__colsample_bytree': 0.8, 'model__learning_rate': 0.1, 'model__max_depth': 3, 'model__subsample': 1.0}\n",
            "Best negative mean squared error found:  -4.275125249656144\n"
          ]
        }
      ]
    },
    {
      "cell_type": "markdown",
      "source": [
        "# Best Model\n"
      ],
      "metadata": {
        "id": "ntDg4NDikKNy"
      }
    },
    {
      "cell_type": "code",
      "source": [
        "from sklearn.ensemble import RandomForestRegressor\n",
        "from sklearn.pipeline import Pipeline\n",
        "from sklearn.model_selection import cross_val_score\n",
        "from sklearn.metrics import mean_squared_error, mean_absolute_error\n",
        "from tabulate import tabulate\n",
        "\n",
        "# Create and fit the pipeline with RandomForestRegressor\n",
        "pipe_rf = Pipeline([\n",
        "    ('model', RandomForestRegressor(learning_rate=0.1, max_depth=3, n_estimators=100,colsample_bytree= 0.8,subsample = 1.0))\n",
        "])\n",
        "\n",
        "pipe_rf.fit(X_train, y_train)\n",
        "\n",
        "# Make predictions\n",
        "y_pred = pipe_rf.predict(X_val)\n",
        "\n",
        "# Calculate metrics\n",
        "mse = mean_squared_error(y_val, y_pred)\n",
        "mae = mean_absolute_error(y_val, y_pred)\n",
        "scores = cross_val_score(pipe_rf, X_train, y_train, cv=5)\n",
        "mean_cv_score = scores.mean() * 100\n",
        "r2_train = pipe_rf.score(X_train, y_train) * 100\n",
        "r2_val = pipe_rf.score(X_val, y_val) * 100\n",
        "\n",
        "# Create data for the table\n",
        "table_data = [\n",
        "    ['Mean Squared Error', f\"{mse:.4f}\"],\n",
        "    ['Mean Absolute Error', f\"{mae:.4f}\"],\n",
        "    ['Mean Cross-Validation Score', f\"{mean_cv_score:.4f}%\"],\n",
        "    ['R-squared Train', f\"{r2_train:.4f}%\"],\n",
        "    ['R-squared Val', f\"{r2_val:.4f}%\"]\n",
        "]\n",
        "\n",
        "# Create and print the table with borders\n",
        "table = tabulate(table_data, headers=['Metric', 'Value'], tablefmt='grid')\n",
        "\n",
        "# Print title and table\n",
        "print(\"Random Forest Regressor Model Performance\")\n",
        "print(\"-\" * 70)\n",
        "print(table)\n"
      ],
      "metadata": {
        "id": "fYwQGrD5kJA0"
      },
      "execution_count": null,
      "outputs": []
    },
    {
      "cell_type": "code",
      "execution_count": null,
      "metadata": {
        "id": "AX3tH2FyLoxK"
      },
      "outputs": [],
      "source": [
        "# save the model to disk\n",
        "import pickle\n",
        "filename = 'finalized_model.sav'\n",
        "pickle.dump(pipe_rf, open(filename, 'wb'))\n"
      ]
    },
    {
      "cell_type": "code",
      "execution_count": null,
      "metadata": {
        "id": "KO_h32Y2LoxK",
        "outputId": "736de212-f895-4f61-f103-db1f0bd56a2b"
      },
      "outputs": [
        {
          "name": "stdout",
          "output_type": "stream",
          "text": [
            "0.9829003849242023\n"
          ]
        }
      ],
      "source": [
        "# load the model from disk\n",
        "loaded_model = pickle.load(open('finalized_model.sav', 'rb'))\n",
        "result = loaded_model.score(X_val, y_val)\n",
        "print(result)"
      ]
    },
    {
      "cell_type": "code",
      "execution_count": null,
      "metadata": {
        "id": "ur82WAmpLoxL",
        "outputId": "e280a56a-7eae-4d30-d4ea-2539504c3937"
      },
      "outputs": [
        {
          "data": {
            "text/plain": [
              "Index(['vendorid', 'tpep_pickup_datetime', 'tpep_dropoff_datetime',\n",
              "       'passenger_count', 'trip_distance', 'pulocationid', 'dolocationid',\n",
              "       'payment_type', 'fare_amount', 'extra', 'mta_tax', 'tip_amount',\n",
              "       'tolls_amount', 'improvement_surcharge', 'congestion_surcharge',\n",
              "       'airport_fee', 'day', 'pickup_time', 'dropoff_time', 'duration_seconds',\n",
              "       'duration_minutes', 'total_amount'],\n",
              "      dtype='object')"
            ]
          },
          "execution_count": 8,
          "metadata": {},
          "output_type": "execute_result"
        }
      ],
      "source": [
        "df.columns"
      ]
    },
    {
      "cell_type": "code",
      "execution_count": null,
      "metadata": {
        "id": "K_gx7eSKLoxL",
        "outputId": "93ecacf0-ea0f-4559-e181-055c8a7b450e"
      },
      "outputs": [
        {
          "data": {
            "text/html": [
              "<div>\n",
              "<style scoped>\n",
              "    .dataframe tbody tr th:only-of-type {\n",
              "        vertical-align: middle;\n",
              "    }\n",
              "\n",
              "    .dataframe tbody tr th {\n",
              "        vertical-align: top;\n",
              "    }\n",
              "\n",
              "    .dataframe thead th {\n",
              "        text-align: right;\n",
              "    }\n",
              "</style>\n",
              "<table border=\"1\" class=\"dataframe\">\n",
              "  <thead>\n",
              "    <tr style=\"text-align: right;\">\n",
              "      <th></th>\n",
              "      <th>vendorid</th>\n",
              "      <th>passenger_count</th>\n",
              "      <th>trip_distance</th>\n",
              "      <th>pulocationid</th>\n",
              "      <th>dolocationid</th>\n",
              "      <th>payment_type</th>\n",
              "      <th>day</th>\n",
              "      <th>duration_seconds</th>\n",
              "    </tr>\n",
              "  </thead>\n",
              "  <tbody>\n",
              "    <tr>\n",
              "      <th>520900</th>\n",
              "      <td>1</td>\n",
              "      <td>1.0</td>\n",
              "      <td>1.5</td>\n",
              "      <td>143</td>\n",
              "      <td>246</td>\n",
              "      <td>1</td>\n",
              "      <td>8</td>\n",
              "      <td>426</td>\n",
              "    </tr>\n",
              "  </tbody>\n",
              "</table>\n",
              "</div>"
            ],
            "text/plain": [
              "       vendorid  passenger_count  trip_distance pulocationid dolocationid  \\\n",
              "520900        1              1.0            1.5          143          246   \n",
              "\n",
              "       payment_type day  duration_seconds  \n",
              "520900            1   8               426  "
            ]
          },
          "execution_count": 19,
          "metadata": {},
          "output_type": "execute_result"
        }
      ],
      "source": [
        "new_data = df[['vendorid','passenger_count','trip_distance','pulocationid', 'dolocationid','payment_type','day','duration_seconds']].sample(1, random_state=42)\n",
        "new_data"
      ]
    },
    {
      "cell_type": "code",
      "execution_count": null,
      "metadata": {
        "id": "Ab-RxKWnLoxL",
        "outputId": "7d12daa4-2c8a-4a0d-f9b1-cb562c98491a"
      },
      "outputs": [
        {
          "data": {
            "text/plain": [
              "9.531134"
            ]
          },
          "execution_count": 20,
          "metadata": {},
          "output_type": "execute_result"
        }
      ],
      "source": [
        "# new_data = preprocessor.transform(new_data)\n",
        "loaded_model.predict(new_data)[0]"
      ]
    },
    {
      "cell_type": "code",
      "execution_count": null,
      "metadata": {
        "id": "b8cl0NfqLoxL",
        "outputId": "7c177bde-fc7b-4327-8034-a0e8d68971ef"
      },
      "outputs": [
        {
          "data": {
            "text/plain": [
              "9.531134"
            ]
          },
          "execution_count": 22,
          "metadata": {},
          "output_type": "execute_result"
        }
      ],
      "source": [
        "New_data = pd.DataFrame([[1,1.0,1.5,143,246,1,8,426]],dtype='object', columns=['vendorid','passenger_count','trip_distance','pulocationid', 'dolocationid','payment_type','day','duration_seconds'])\n",
        "\n",
        "loaded_model.predict(New_data)[0]"
      ]
    },
    {
      "cell_type": "code",
      "execution_count": null,
      "metadata": {
        "id": "G8zhKJg6LoxM"
      },
      "outputs": [],
      "source": []
    }
  ],
  "metadata": {
    "accelerator": "GPU",
    "colab": {
      "gpuType": "T4",
      "provenance": []
    },
    "kernelspec": {
      "display_name": "Python 3",
      "name": "python3"
    },
    "language_info": {
      "codemirror_mode": {
        "name": "ipython",
        "version": 3
      },
      "file_extension": ".py",
      "mimetype": "text/x-python",
      "name": "python",
      "nbconvert_exporter": "python",
      "pygments_lexer": "ipython3",
      "version": "3.11.3"
    }
  },
  "nbformat": 4,
  "nbformat_minor": 0
}